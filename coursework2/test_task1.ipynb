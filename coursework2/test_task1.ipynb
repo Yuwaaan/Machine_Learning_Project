{
 "cells": [
  {
   "cell_type": "code",
   "execution_count": 4,
   "id": "be94fd28",
   "metadata": {},
   "outputs": [
    {
     "name": "stderr",
     "output_type": "stream",
     "text": [
      "WARNING: You are using pip version 21.1.3; however, version 21.3.1 is available.\n",
      "You should consider upgrading via the 'c:\\users\\neko_maru~\\appdata\\local\\programs\\python\\python37\\python.exe -m pip install --upgrade pip' command.\n"
     ]
    },
    {
     "name": "stdout",
     "output_type": "stream",
     "text": [
      "Looking in links: https://download.pytorch.org/whl/cu113/torch_stable.html\n",
      "Collecting torch==1.10.0+cu113\n",
      "  Using cached https://download.pytorch.org/whl/cu113/torch-1.10.0%2Bcu113-cp37-cp37m-win_amd64.whl (2442.3 MB)\n",
      "Collecting torchvision==0.11.1+cu113\n",
      "  Using cached https://download.pytorch.org/whl/cu113/torchvision-0.11.1%2Bcu113-cp37-cp37m-win_amd64.whl (3.2 MB)\n",
      "Collecting torchaudio===0.10.0+cu113\n",
      "  Using cached https://download.pytorch.org/whl/cu113/torchaudio-0.10.0%2Bcu113-cp37-cp37m-win_amd64.whl (336 kB)\n",
      "Requirement already satisfied: typing-extensions in c:\\users\\neko_maru~\\appdata\\local\\programs\\python\\python37\\lib\\site-packages (from torch==1.10.0+cu113) (3.10.0.0)\n",
      "Requirement already satisfied: numpy in c:\\users\\neko_maru~\\appdata\\local\\programs\\python\\python37\\lib\\site-packages (from torchvision==0.11.1+cu113) (1.21.0)\n",
      "Requirement already satisfied: pillow!=8.3.0,>=5.3.0 in c:\\users\\neko_maru~\\appdata\\local\\programs\\python\\python37\\lib\\site-packages (from torchvision==0.11.1+cu113) (8.3.1)\n",
      "Installing collected packages: torch, torchvision, torchaudio\n",
      "Successfully installed torch-1.10.0+cu113 torchaudio-0.10.0+cu113 torchvision-0.11.1+cu113\n"
     ]
    }
   ],
   "source": [
    "# ! pip install torch==1.10.0+cu113 torchvision==0.11.1+cu113 torchaudio===0.10.0+cu113 -f https://download.pytorch.org/whl/cu113/torch_stable.html\n",
    "    "
   ]
  },
  {
   "cell_type": "code",
   "execution_count": 1,
   "id": "ff7cbf62",
   "metadata": {},
   "outputs": [
    {
     "name": "stdout",
     "output_type": "stream",
     "text": [
      "True\n",
      "True\n",
      "0\n"
     ]
    }
   ],
   "source": [
    "import torch\n",
    "import os\n",
    "os.environ[\"CUDA_VISIBLE_DEVICES\"]=\"0\"\n",
    "use_gpu = torch.cuda.is_available()\n",
    "print(use_gpu)\n",
    "if_gpu = torch.cuda.is_available()  # whether available\n",
    "print(if_gpu)\n",
    "gpu_number = torch.cuda.current_device()\n",
    "print(gpu_number)"
   ]
  },
  {
   "cell_type": "code",
   "execution_count": 2,
   "id": "87d08413",
   "metadata": {},
   "outputs": [],
   "source": [
    "import sys\n",
    "sys.path.append('E:\\\\notebook\\\\mlpractical\\\\mlpractical-mlp2021-22-coursework2')"
   ]
  },
  {
   "cell_type": "markdown",
   "id": "12f70962",
   "metadata": {},
   "source": [
    "##  VGG_07"
   ]
  },
  {
   "cell_type": "markdown",
   "id": "f526ddab",
   "metadata": {},
   "source": [
    "python pytorch_mlp_framework/train_evaluate_image_classification_system.py --batch_size 100 --seed 0 --num_filters 32 --num_stages 3 --num_blocks_per_stage 0 --experiment_name VGG_07 --num_classes 100 --block_type 'conv_block' --weight_decay_coefficient 0.00000 --use_gpu True"
   ]
  },
  {
   "cell_type": "code",
   "execution_count": 12,
   "id": "0bb847ac",
   "metadata": {
    "scrolled": true
   },
   "outputs": [
    {
     "name": "stdout",
     "output_type": "stream",
     "text": [
      "Namespace(batch_size=100, block_type='conv_block', continue_from_epoch=-1, experiment_name='VGG_07', image_height=32, image_num_channels=3, image_width=32, num_blocks_per_stage=0, num_classes=100, num_epochs=100, num_filters=32, num_stages=3, seed=0, use_gpu=True, weight_decay_coefficient=0.0)\n",
      "Files already downloaded and verified\n",
      "train (47500, 32, 32, 3)\n",
      "train (47500,)\n",
      "Files already downloaded and verified\n",
      "val (2500, 32, 32, 3)\n",
      "val (2500,)\n",
      "Files already downloaded and verified\n",
      "test (10000, 32, 32, 3)\n",
      "test (10000,)\n",
      "Building basic block of ConvolutionalNetwork using input shape (100, 3, 32, 32)\n",
      "torch.Size([100, 32, 32, 32])\n",
      "torch.Size([100, 32, 16, 16])\n",
      "torch.Size([100, 32, 8, 8])\n",
      "torch.Size([100, 32, 4, 4])\n",
      "shape before final linear layer torch.Size([100, 32, 1, 1])\n",
      "Block is built, output volume is torch.Size([100, 100])\n",
      "Use GPU 0\n",
      "here\n",
      "System learnable parameters\n",
      "model.layer_dict.input_conv.layer_dict.conv_0.weight torch.Size([32, 3, 3, 3])\n",
      "model.layer_dict.input_conv.layer_dict.bn_0.weight torch.Size([32])\n",
      "model.layer_dict.input_conv.layer_dict.bn_0.bias torch.Size([32])\n",
      "model.layer_dict.reduction_block_0.layer_dict.conv_0.weight torch.Size([32, 32, 3, 3])\n",
      "model.layer_dict.reduction_block_0.layer_dict.conv_0.bias torch.Size([32])\n",
      "model.layer_dict.reduction_block_0.layer_dict.conv_1.weight torch.Size([32, 32, 3, 3])\n",
      "model.layer_dict.reduction_block_0.layer_dict.conv_1.bias torch.Size([32])\n",
      "model.layer_dict.reduction_block_1.layer_dict.conv_0.weight torch.Size([32, 32, 3, 3])\n",
      "model.layer_dict.reduction_block_1.layer_dict.conv_0.bias torch.Size([32])\n",
      "model.layer_dict.reduction_block_1.layer_dict.conv_1.weight torch.Size([32, 32, 3, 3])\n",
      "model.layer_dict.reduction_block_1.layer_dict.conv_1.bias torch.Size([32])\n",
      "model.layer_dict.reduction_block_2.layer_dict.conv_0.weight torch.Size([32, 32, 3, 3])\n",
      "model.layer_dict.reduction_block_2.layer_dict.conv_0.bias torch.Size([32])\n",
      "model.layer_dict.reduction_block_2.layer_dict.conv_1.weight torch.Size([32, 32, 3, 3])\n",
      "model.layer_dict.reduction_block_2.layer_dict.conv_1.bias torch.Size([32])\n",
      "model.logit_linear_layer.weight torch.Size([100, 32])\n",
      "model.logit_linear_layer.bias torch.Size([100])\n",
      "Total number of parameters 59716\n",
      "Total number of conv layers 8\n",
      "Total number of linear layers 1\n"
     ]
    },
    {
     "name": "stderr",
     "output_type": "stream",
     "text": [
      "  0%|                                                                                          | 0/475 [00:00<?, ?it/s]c:\\users\\neko_maru~\\appdata\\local\\programs\\python\\python37\\lib\\site-packages\\torch\\optim\\lr_scheduler.py:134: UserWarning: Detected call of `lr_scheduler.step()` before `optimizer.step()`. In PyTorch 1.1.0 and later, you should call them in the opposite order: `optimizer.step()` before `lr_scheduler.step()`.  Failure to do this will result in PyTorch skipping the first value of the learning rate schedule. See more details at https://pytorch.org/docs/stable/optim.html#how-to-adjust-learning-rate\n",
      "  \"https://pytorch.org/docs/stable/optim.html#how-to-adjust-learning-rate\", UserWarning)\n",
      "c:\\users\\neko_maru~\\appdata\\local\\programs\\python\\python37\\lib\\site-packages\\torch\\optim\\lr_scheduler.py:154: UserWarning: The epoch parameter in `scheduler.step()` was not necessary and is being deprecated where possible. Please use `scheduler.step()` to step the scheduler. During the deprecation, if epoch is different from None, the closed form is used instead of the new chainable form, where available. Please open an issue if you are unable to replicate your use case: https://github.com/pytorch/pytorch/issues/new/choose.\n",
      "  warnings.warn(EPOCH_DEPRECATION_WARNING, UserWarning)\n",
      "loss: 4.1212, accuracy: 0.0600: 100%|████████████████████████████████████████████████| 475/475 [00:34<00:00, 13.92it/s]\n",
      "loss: 3.9361, accuracy: 0.0700: 100%|██████████████████████████████████████████████████| 25/25 [00:07<00:00,  3.53it/s]\n",
      "E:\\notebook\\mlpractical\\mlpractical-mlp2021-22-coursework2\\pytorch_mlp_framework\\experiment_builder.py:134: UserWarning: Attempting to set identical left == right == 0 results in singular transformations; automatically expanding.\n",
      "  plt.xlim(xmin=0, xmax=len(all_grads))\n"
     ]
    },
    {
     "name": "stdout",
     "output_type": "stream",
     "text": [
      "Epoch 0: train_acc_0.0361_train_loss_4.3575_val_acc_0.0692_val_loss_4.0175 epoch time 41.2088 seconds\n",
      "Generating Gradient Flow Plot at epoch 0\n"
     ]
    },
    {
     "name": "stderr",
     "output_type": "stream",
     "text": [
      "  0%|                                                                                          | 0/475 [00:00<?, ?it/s]c:\\users\\neko_maru~\\appdata\\local\\programs\\python\\python37\\lib\\site-packages\\torch\\optim\\lr_scheduler.py:154: UserWarning: The epoch parameter in `scheduler.step()` was not necessary and is being deprecated where possible. Please use `scheduler.step()` to step the scheduler. During the deprecation, if epoch is different from None, the closed form is used instead of the new chainable form, where available. Please open an issue if you are unable to replicate your use case: https://github.com/pytorch/pytorch/issues/new/choose.\n",
      "  warnings.warn(EPOCH_DEPRECATION_WARNING, UserWarning)\n",
      "loss: 3.7358, accuracy: 0.1500: 100%|████████████████████████████████████████████████| 475/475 [00:33<00:00, 14.08it/s]\n",
      "loss: 3.6729, accuracy: 0.1100: 100%|██████████████████████████████████████████████████| 25/25 [00:07<00:00,  3.36it/s]\n",
      "E:\\notebook\\mlpractical\\mlpractical-mlp2021-22-coursework2\\pytorch_mlp_framework\\experiment_builder.py:134: UserWarning: Attempting to set identical left == right == 0 results in singular transformations; automatically expanding.\n",
      "  plt.xlim(xmin=0, xmax=len(all_grads))\n"
     ]
    },
    {
     "name": "stdout",
     "output_type": "stream",
     "text": [
      "Epoch 1: train_acc_0.0830_train_loss_3.9262_val_acc_0.1132_val_loss_3.7390 epoch time 41.2016 seconds\n",
      "Generating Gradient Flow Plot at epoch 1\n"
     ]
    },
    {
     "name": "stderr",
     "output_type": "stream",
     "text": [
      "  0%|                                                                                          | 0/475 [00:00<?, ?it/s]c:\\users\\neko_maru~\\appdata\\local\\programs\\python\\python37\\lib\\site-packages\\torch\\optim\\lr_scheduler.py:154: UserWarning: The epoch parameter in `scheduler.step()` was not necessary and is being deprecated where possible. Please use `scheduler.step()` to step the scheduler. During the deprecation, if epoch is different from None, the closed form is used instead of the new chainable form, where available. Please open an issue if you are unable to replicate your use case: https://github.com/pytorch/pytorch/issues/new/choose.\n",
      "  warnings.warn(EPOCH_DEPRECATION_WARNING, UserWarning)\n",
      "loss: 3.7987, accuracy: 0.0500: 100%|████████████████████████████████████████████████| 475/475 [00:33<00:00, 13.99it/s]\n",
      "loss: 3.5375, accuracy: 0.1600: 100%|██████████████████████████████████████████████████| 25/25 [00:07<00:00,  3.29it/s]\n",
      "E:\\notebook\\mlpractical\\mlpractical-mlp2021-22-coursework2\\pytorch_mlp_framework\\experiment_builder.py:134: UserWarning: Attempting to set identical left == right == 0 results in singular transformations; automatically expanding.\n",
      "  plt.xlim(xmin=0, xmax=len(all_grads))\n"
     ]
    },
    {
     "name": "stdout",
     "output_type": "stream",
     "text": [
      "Epoch 2: train_acc_0.1204_train_loss_3.6890_val_acc_0.1404_val_loss_3.5634 epoch time 41.5650 seconds\n",
      "Generating Gradient Flow Plot at epoch 2\n"
     ]
    },
    {
     "name": "stderr",
     "output_type": "stream",
     "text": [
      "  0%|                                                                                          | 0/475 [00:00<?, ?it/s]c:\\users\\neko_maru~\\appdata\\local\\programs\\python\\python37\\lib\\site-packages\\torch\\optim\\lr_scheduler.py:154: UserWarning: The epoch parameter in `scheduler.step()` was not necessary and is being deprecated where possible. Please use `scheduler.step()` to step the scheduler. During the deprecation, if epoch is different from None, the closed form is used instead of the new chainable form, where available. Please open an issue if you are unable to replicate your use case: https://github.com/pytorch/pytorch/issues/new/choose.\n",
      "  warnings.warn(EPOCH_DEPRECATION_WARNING, UserWarning)\n",
      "loss: 3.7106, accuracy: 0.2000: 100%|████████████████████████████████████████████████| 475/475 [00:36<00:00, 13.04it/s]\n",
      "loss: 3.3813, accuracy: 0.1300: 100%|██████████████████████████████████████████████████| 25/25 [00:07<00:00,  3.28it/s]\n",
      "E:\\notebook\\mlpractical\\mlpractical-mlp2021-22-coursework2\\pytorch_mlp_framework\\experiment_builder.py:134: UserWarning: Attempting to set identical left == right == 0 results in singular transformations; automatically expanding.\n",
      "  plt.xlim(xmin=0, xmax=len(all_grads))\n"
     ]
    },
    {
     "name": "stdout",
     "output_type": "stream",
     "text": [
      "Epoch 3: train_acc_0.1556_train_loss_3.4973_val_acc_0.1744_val_loss_3.3751 epoch time 44.0441 seconds\n",
      "Generating Gradient Flow Plot at epoch 3\n"
     ]
    },
    {
     "name": "stderr",
     "output_type": "stream",
     "text": [
      "  0%|                                                                                          | 0/475 [00:00<?, ?it/s]c:\\users\\neko_maru~\\appdata\\local\\programs\\python\\python37\\lib\\site-packages\\torch\\optim\\lr_scheduler.py:154: UserWarning: The epoch parameter in `scheduler.step()` was not necessary and is being deprecated where possible. Please use `scheduler.step()` to step the scheduler. During the deprecation, if epoch is different from None, the closed form is used instead of the new chainable form, where available. Please open an issue if you are unable to replicate your use case: https://github.com/pytorch/pytorch/issues/new/choose.\n",
      "  warnings.warn(EPOCH_DEPRECATION_WARNING, UserWarning)\n",
      "loss: 3.2440, accuracy: 0.2200: 100%|████████████████████████████████████████████████| 475/475 [00:34<00:00, 13.67it/s]\n",
      "loss: 3.0126, accuracy: 0.2600: 100%|██████████████████████████████████████████████████| 25/25 [00:07<00:00,  3.18it/s]\n",
      "E:\\notebook\\mlpractical\\mlpractical-mlp2021-22-coursework2\\pytorch_mlp_framework\\experiment_builder.py:134: UserWarning: Attempting to set identical left == right == 0 results in singular transformations; automatically expanding.\n",
      "  plt.xlim(xmin=0, xmax=len(all_grads))\n"
     ]
    },
    {
     "name": "stdout",
     "output_type": "stream",
     "text": [
      "Epoch 4: train_acc_0.1880_train_loss_3.3211_val_acc_0.2068_val_loss_3.2632 epoch time 42.6039 seconds\n",
      "Generating Gradient Flow Plot at epoch 4\n"
     ]
    },
    {
     "name": "stderr",
     "output_type": "stream",
     "text": [
      "  0%|                                                                                          | 0/475 [00:00<?, ?it/s]c:\\users\\neko_maru~\\appdata\\local\\programs\\python\\python37\\lib\\site-packages\\torch\\optim\\lr_scheduler.py:154: UserWarning: The epoch parameter in `scheduler.step()` was not necessary and is being deprecated where possible. Please use `scheduler.step()` to step the scheduler. During the deprecation, if epoch is different from None, the closed form is used instead of the new chainable form, where available. Please open an issue if you are unable to replicate your use case: https://github.com/pytorch/pytorch/issues/new/choose.\n",
      "  warnings.warn(EPOCH_DEPRECATION_WARNING, UserWarning)\n",
      "loss: 3.2770, accuracy: 0.2000: 100%|████████████████████████████████████████████████| 475/475 [00:35<00:00, 13.25it/s]\n",
      "loss: 3.1228, accuracy: 0.2500: 100%|██████████████████████████████████████████████████| 25/25 [00:07<00:00,  3.26it/s]\n",
      "E:\\notebook\\mlpractical\\mlpractical-mlp2021-22-coursework2\\pytorch_mlp_framework\\experiment_builder.py:134: UserWarning: Attempting to set identical left == right == 0 results in singular transformations; automatically expanding.\n",
      "  plt.xlim(xmin=0, xmax=len(all_grads))\n"
     ]
    },
    {
     "name": "stdout",
     "output_type": "stream",
     "text": [
      "Epoch 5: train_acc_0.2116_train_loss_3.1843_val_acc_0.2320_val_loss_3.1203 epoch time 43.5234 seconds\n",
      "Generating Gradient Flow Plot at epoch 5\n"
     ]
    },
    {
     "name": "stderr",
     "output_type": "stream",
     "text": [
      "  0%|                                                                                          | 0/475 [00:00<?, ?it/s]c:\\users\\neko_maru~\\appdata\\local\\programs\\python\\python37\\lib\\site-packages\\torch\\optim\\lr_scheduler.py:154: UserWarning: The epoch parameter in `scheduler.step()` was not necessary and is being deprecated where possible. Please use `scheduler.step()` to step the scheduler. During the deprecation, if epoch is different from None, the closed form is used instead of the new chainable form, where available. Please open an issue if you are unable to replicate your use case: https://github.com/pytorch/pytorch/issues/new/choose.\n",
      "  warnings.warn(EPOCH_DEPRECATION_WARNING, UserWarning)\n",
      "loss: 2.8499, accuracy: 0.2600: 100%|████████████████████████████████████████████████| 475/475 [00:34<00:00, 13.73it/s]\n",
      "loss: 2.9699, accuracy: 0.2400: 100%|██████████████████████████████████████████████████| 25/25 [00:07<00:00,  3.45it/s]\n",
      "E:\\notebook\\mlpractical\\mlpractical-mlp2021-22-coursework2\\pytorch_mlp_framework\\experiment_builder.py:134: UserWarning: Attempting to set identical left == right == 0 results in singular transformations; automatically expanding.\n",
      "  plt.xlim(xmin=0, xmax=len(all_grads))\n"
     ]
    },
    {
     "name": "stdout",
     "output_type": "stream",
     "text": [
      "Epoch 6: train_acc_0.2365_train_loss_3.0579_val_acc_0.2512_val_loss_3.0084 epoch time 41.8383 seconds\n",
      "Generating Gradient Flow Plot at epoch 6\n"
     ]
    },
    {
     "name": "stderr",
     "output_type": "stream",
     "text": [
      "  0%|                                                                                          | 0/475 [00:00<?, ?it/s]c:\\users\\neko_maru~\\appdata\\local\\programs\\python\\python37\\lib\\site-packages\\torch\\optim\\lr_scheduler.py:154: UserWarning: The epoch parameter in `scheduler.step()` was not necessary and is being deprecated where possible. Please use `scheduler.step()` to step the scheduler. During the deprecation, if epoch is different from None, the closed form is used instead of the new chainable form, where available. Please open an issue if you are unable to replicate your use case: https://github.com/pytorch/pytorch/issues/new/choose.\n",
      "  warnings.warn(EPOCH_DEPRECATION_WARNING, UserWarning)\n",
      "loss: 2.7883, accuracy: 0.2700: 100%|████████████████████████████████████████████████| 475/475 [00:33<00:00, 14.07it/s]\n",
      "loss: 3.0852, accuracy: 0.2300: 100%|██████████████████████████████████████████████████| 25/25 [00:07<00:00,  3.33it/s]\n",
      "E:\\notebook\\mlpractical\\mlpractical-mlp2021-22-coursework2\\pytorch_mlp_framework\\experiment_builder.py:134: UserWarning: Attempting to set identical left == right == 0 results in singular transformations; automatically expanding.\n",
      "  plt.xlim(xmin=0, xmax=len(all_grads))\n"
     ]
    },
    {
     "name": "stdout",
     "output_type": "stream",
     "text": [
      "Epoch 7: train_acc_0.2571_train_loss_2.9532_val_acc_0.2592_val_loss_2.9923 epoch time 41.2904 seconds\n",
      "Generating Gradient Flow Plot at epoch 7\n"
     ]
    },
    {
     "name": "stderr",
     "output_type": "stream",
     "text": [
      "  0%|                                                                                          | 0/475 [00:00<?, ?it/s]c:\\users\\neko_maru~\\appdata\\local\\programs\\python\\python37\\lib\\site-packages\\torch\\optim\\lr_scheduler.py:154: UserWarning: The epoch parameter in `scheduler.step()` was not necessary and is being deprecated where possible. Please use `scheduler.step()` to step the scheduler. During the deprecation, if epoch is different from None, the closed form is used instead of the new chainable form, where available. Please open an issue if you are unable to replicate your use case: https://github.com/pytorch/pytorch/issues/new/choose.\n",
      "  warnings.warn(EPOCH_DEPRECATION_WARNING, UserWarning)\n",
      "loss: 2.8925, accuracy: 0.2600: 100%|████████████████████████████████████████████████| 475/475 [00:34<00:00, 13.76it/s]\n",
      "loss: 3.0432, accuracy: 0.2800: 100%|██████████████████████████████████████████████████| 25/25 [00:07<00:00,  3.35it/s]\n",
      "E:\\notebook\\mlpractical\\mlpractical-mlp2021-22-coursework2\\pytorch_mlp_framework\\experiment_builder.py:134: UserWarning: Attempting to set identical left == right == 0 results in singular transformations; automatically expanding.\n",
      "  plt.xlim(xmin=0, xmax=len(all_grads))\n"
     ]
    },
    {
     "name": "stdout",
     "output_type": "stream",
     "text": [
      "Epoch 8: train_acc_0.2745_train_loss_2.8626_val_acc_0.2824_val_loss_2.8900 epoch time 41.9884 seconds\n",
      "Generating Gradient Flow Plot at epoch 8\n"
     ]
    },
    {
     "name": "stderr",
     "output_type": "stream",
     "text": [
      "  0%|                                                                                          | 0/475 [00:00<?, ?it/s]c:\\users\\neko_maru~\\appdata\\local\\programs\\python\\python37\\lib\\site-packages\\torch\\optim\\lr_scheduler.py:154: UserWarning: The epoch parameter in `scheduler.step()` was not necessary and is being deprecated where possible. Please use `scheduler.step()` to step the scheduler. During the deprecation, if epoch is different from None, the closed form is used instead of the new chainable form, where available. Please open an issue if you are unable to replicate your use case: https://github.com/pytorch/pytorch/issues/new/choose.\n",
      "  warnings.warn(EPOCH_DEPRECATION_WARNING, UserWarning)\n",
      "loss: 2.7692, accuracy: 0.2600: 100%|████████████████████████████████████████████████| 475/475 [00:33<00:00, 14.08it/s]\n",
      "loss: 3.0762, accuracy: 0.2500: 100%|██████████████████████████████████████████████████| 25/25 [00:08<00:00,  3.04it/s]\n",
      "E:\\notebook\\mlpractical\\mlpractical-mlp2021-22-coursework2\\pytorch_mlp_framework\\experiment_builder.py:134: UserWarning: Attempting to set identical left == right == 0 results in singular transformations; automatically expanding.\n",
      "  plt.xlim(xmin=0, xmax=len(all_grads))\n"
     ]
    },
    {
     "name": "stdout",
     "output_type": "stream",
     "text": [
      "Epoch 9: train_acc_0.2905_train_loss_2.7800_val_acc_0.2784_val_loss_2.8716 epoch time 41.9549 seconds\n",
      "Generating Gradient Flow Plot at epoch 9\n"
     ]
    },
    {
     "name": "stderr",
     "output_type": "stream",
     "text": [
      "  0%|                                                                                          | 0/475 [00:00<?, ?it/s]c:\\users\\neko_maru~\\appdata\\local\\programs\\python\\python37\\lib\\site-packages\\torch\\optim\\lr_scheduler.py:154: UserWarning: The epoch parameter in `scheduler.step()` was not necessary and is being deprecated where possible. Please use `scheduler.step()` to step the scheduler. During the deprecation, if epoch is different from None, the closed form is used instead of the new chainable form, where available. Please open an issue if you are unable to replicate your use case: https://github.com/pytorch/pytorch/issues/new/choose.\n",
      "  warnings.warn(EPOCH_DEPRECATION_WARNING, UserWarning)\n",
      "loss: 2.5328, accuracy: 0.4000: 100%|████████████████████████████████████████████████| 475/475 [00:35<00:00, 13.56it/s]\n",
      "loss: 2.8929, accuracy: 0.2800: 100%|██████████████████████████████████████████████████| 25/25 [00:07<00:00,  3.28it/s]\n",
      "E:\\notebook\\mlpractical\\mlpractical-mlp2021-22-coursework2\\pytorch_mlp_framework\\experiment_builder.py:134: UserWarning: Attempting to set identical left == right == 0 results in singular transformations; automatically expanding.\n",
      "  plt.xlim(xmin=0, xmax=len(all_grads))\n"
     ]
    },
    {
     "name": "stdout",
     "output_type": "stream",
     "text": [
      "Epoch 10: train_acc_0.3030_train_loss_2.7136_val_acc_0.3208_val_loss_2.6836 epoch time 42.6760 seconds\n",
      "Generating Gradient Flow Plot at epoch 10\n"
     ]
    },
    {
     "name": "stderr",
     "output_type": "stream",
     "text": [
      "  0%|                                                                                          | 0/475 [00:00<?, ?it/s]c:\\users\\neko_maru~\\appdata\\local\\programs\\python\\python37\\lib\\site-packages\\torch\\optim\\lr_scheduler.py:154: UserWarning: The epoch parameter in `scheduler.step()` was not necessary and is being deprecated where possible. Please use `scheduler.step()` to step the scheduler. During the deprecation, if epoch is different from None, the closed form is used instead of the new chainable form, where available. Please open an issue if you are unable to replicate your use case: https://github.com/pytorch/pytorch/issues/new/choose.\n",
      "  warnings.warn(EPOCH_DEPRECATION_WARNING, UserWarning)\n",
      "loss: 2.5862, accuracy: 0.3500: 100%|████████████████████████████████████████████████| 475/475 [00:35<00:00, 13.45it/s]\n",
      "loss: 2.3545, accuracy: 0.4000: 100%|██████████████████████████████████████████████████| 25/25 [00:07<00:00,  3.28it/s]\n",
      "E:\\notebook\\mlpractical\\mlpractical-mlp2021-22-coursework2\\pytorch_mlp_framework\\experiment_builder.py:134: UserWarning: Attempting to set identical left == right == 0 results in singular transformations; automatically expanding.\n",
      "  plt.xlim(xmin=0, xmax=len(all_grads))\n"
     ]
    },
    {
     "name": "stdout",
     "output_type": "stream",
     "text": [
      "Epoch 11: train_acc_0.3171_train_loss_2.6465_val_acc_0.3108_val_loss_2.7428 epoch time 42.9410 seconds\n",
      "Generating Gradient Flow Plot at epoch 11\n"
     ]
    },
    {
     "name": "stderr",
     "output_type": "stream",
     "text": [
      "  0%|                                                                                          | 0/475 [00:00<?, ?it/s]c:\\users\\neko_maru~\\appdata\\local\\programs\\python\\python37\\lib\\site-packages\\torch\\optim\\lr_scheduler.py:154: UserWarning: The epoch parameter in `scheduler.step()` was not necessary and is being deprecated where possible. Please use `scheduler.step()` to step the scheduler. During the deprecation, if epoch is different from None, the closed form is used instead of the new chainable form, where available. Please open an issue if you are unable to replicate your use case: https://github.com/pytorch/pytorch/issues/new/choose.\n",
      "  warnings.warn(EPOCH_DEPRECATION_WARNING, UserWarning)\n",
      "loss: 2.5075, accuracy: 0.3200: 100%|████████████████████████████████████████████████| 475/475 [00:33<00:00, 13.97it/s]\n",
      "loss: 2.4089, accuracy: 0.3500: 100%|██████████████████████████████████████████████████| 25/25 [00:07<00:00,  3.25it/s]\n",
      "E:\\notebook\\mlpractical\\mlpractical-mlp2021-22-coursework2\\pytorch_mlp_framework\\experiment_builder.py:134: UserWarning: Attempting to set identical left == right == 0 results in singular transformations; automatically expanding.\n",
      "  plt.xlim(xmin=0, xmax=len(all_grads))\n"
     ]
    },
    {
     "name": "stdout",
     "output_type": "stream",
     "text": [
      "Epoch 12: train_acc_0.3253_train_loss_2.5945_val_acc_0.3168_val_loss_2.6356 epoch time 41.6850 seconds\n",
      "Generating Gradient Flow Plot at epoch 12\n"
     ]
    },
    {
     "name": "stderr",
     "output_type": "stream",
     "text": [
      "  0%|                                                                                          | 0/475 [00:00<?, ?it/s]c:\\users\\neko_maru~\\appdata\\local\\programs\\python\\python37\\lib\\site-packages\\torch\\optim\\lr_scheduler.py:154: UserWarning: The epoch parameter in `scheduler.step()` was not necessary and is being deprecated where possible. Please use `scheduler.step()` to step the scheduler. During the deprecation, if epoch is different from None, the closed form is used instead of the new chainable form, where available. Please open an issue if you are unable to replicate your use case: https://github.com/pytorch/pytorch/issues/new/choose.\n",
      "  warnings.warn(EPOCH_DEPRECATION_WARNING, UserWarning)\n",
      "loss: 2.3892, accuracy: 0.3600: 100%|████████████████████████████████████████████████| 475/475 [00:33<00:00, 14.04it/s]\n",
      "loss: 2.7831, accuracy: 0.2500: 100%|██████████████████████████████████████████████████| 25/25 [00:07<00:00,  3.33it/s]\n",
      "E:\\notebook\\mlpractical\\mlpractical-mlp2021-22-coursework2\\pytorch_mlp_framework\\experiment_builder.py:134: UserWarning: Attempting to set identical left == right == 0 results in singular transformations; automatically expanding.\n",
      "  plt.xlim(xmin=0, xmax=len(all_grads))\n"
     ]
    },
    {
     "name": "stdout",
     "output_type": "stream",
     "text": [
      "Epoch 13: train_acc_0.3405_train_loss_2.5393_val_acc_0.3232_val_loss_2.6559 epoch time 41.3501 seconds\n",
      "Generating Gradient Flow Plot at epoch 13\n"
     ]
    },
    {
     "name": "stderr",
     "output_type": "stream",
     "text": [
      "  0%|                                                                                          | 0/475 [00:00<?, ?it/s]c:\\users\\neko_maru~\\appdata\\local\\programs\\python\\python37\\lib\\site-packages\\torch\\optim\\lr_scheduler.py:154: UserWarning: The epoch parameter in `scheduler.step()` was not necessary and is being deprecated where possible. Please use `scheduler.step()` to step the scheduler. During the deprecation, if epoch is different from None, the closed form is used instead of the new chainable form, where available. Please open an issue if you are unable to replicate your use case: https://github.com/pytorch/pytorch/issues/new/choose.\n",
      "  warnings.warn(EPOCH_DEPRECATION_WARNING, UserWarning)\n",
      "loss: 2.4431, accuracy: 0.4100: 100%|████████████████████████████████████████████████| 475/475 [00:35<00:00, 13.20it/s]\n",
      "loss: 2.4298, accuracy: 0.3500: 100%|██████████████████████████████████████████████████| 25/25 [00:07<00:00,  3.20it/s]\n",
      "E:\\notebook\\mlpractical\\mlpractical-mlp2021-22-coursework2\\pytorch_mlp_framework\\experiment_builder.py:134: UserWarning: Attempting to set identical left == right == 0 results in singular transformations; automatically expanding.\n",
      "  plt.xlim(xmin=0, xmax=len(all_grads))\n"
     ]
    },
    {
     "name": "stdout",
     "output_type": "stream",
     "text": [
      "Epoch 14: train_acc_0.3512_train_loss_2.4940_val_acc_0.3356_val_loss_2.5563 epoch time 43.7972 seconds\n",
      "Generating Gradient Flow Plot at epoch 14\n"
     ]
    },
    {
     "name": "stderr",
     "output_type": "stream",
     "text": [
      "  0%|                                                                                          | 0/475 [00:00<?, ?it/s]c:\\users\\neko_maru~\\appdata\\local\\programs\\python\\python37\\lib\\site-packages\\torch\\optim\\lr_scheduler.py:154: UserWarning: The epoch parameter in `scheduler.step()` was not necessary and is being deprecated where possible. Please use `scheduler.step()` to step the scheduler. During the deprecation, if epoch is different from None, the closed form is used instead of the new chainable form, where available. Please open an issue if you are unable to replicate your use case: https://github.com/pytorch/pytorch/issues/new/choose.\n",
      "  warnings.warn(EPOCH_DEPRECATION_WARNING, UserWarning)\n",
      "loss: 2.4828, accuracy: 0.3500: 100%|████████████████████████████████████████████████| 475/475 [00:34<00:00, 13.67it/s]\n",
      "loss: 2.3271, accuracy: 0.3500: 100%|██████████████████████████████████████████████████| 25/25 [00:07<00:00,  3.20it/s]\n",
      "E:\\notebook\\mlpractical\\mlpractical-mlp2021-22-coursework2\\pytorch_mlp_framework\\experiment_builder.py:134: UserWarning: Attempting to set identical left == right == 0 results in singular transformations; automatically expanding.\n",
      "  plt.xlim(xmin=0, xmax=len(all_grads))\n"
     ]
    },
    {
     "name": "stdout",
     "output_type": "stream",
     "text": [
      "Epoch 15: train_acc_0.3568_train_loss_2.4555_val_acc_0.3468_val_loss_2.5618 epoch time 42.5580 seconds\n",
      "Generating Gradient Flow Plot at epoch 15\n"
     ]
    },
    {
     "name": "stderr",
     "output_type": "stream",
     "text": [
      "  0%|                                                                                          | 0/475 [00:00<?, ?it/s]c:\\users\\neko_maru~\\appdata\\local\\programs\\python\\python37\\lib\\site-packages\\torch\\optim\\lr_scheduler.py:154: UserWarning: The epoch parameter in `scheduler.step()` was not necessary and is being deprecated where possible. Please use `scheduler.step()` to step the scheduler. During the deprecation, if epoch is different from None, the closed form is used instead of the new chainable form, where available. Please open an issue if you are unable to replicate your use case: https://github.com/pytorch/pytorch/issues/new/choose.\n",
      "  warnings.warn(EPOCH_DEPRECATION_WARNING, UserWarning)\n",
      "loss: 2.7123, accuracy: 0.3500: 100%|████████████████████████████████████████████████| 475/475 [00:34<00:00, 13.61it/s]\n",
      "loss: 2.6821, accuracy: 0.3600: 100%|██████████████████████████████████████████████████| 25/25 [00:07<00:00,  3.21it/s]\n",
      "E:\\notebook\\mlpractical\\mlpractical-mlp2021-22-coursework2\\pytorch_mlp_framework\\experiment_builder.py:134: UserWarning: Attempting to set identical left == right == 0 results in singular transformations; automatically expanding.\n",
      "  plt.xlim(xmin=0, xmax=len(all_grads))\n"
     ]
    },
    {
     "name": "stdout",
     "output_type": "stream",
     "text": [
      "Epoch 16: train_acc_0.3630_train_loss_2.4269_val_acc_0.3568_val_loss_2.5184 epoch time 42.6831 seconds\n",
      "Generating Gradient Flow Plot at epoch 16\n"
     ]
    },
    {
     "name": "stderr",
     "output_type": "stream",
     "text": [
      "  0%|                                                                                          | 0/475 [00:00<?, ?it/s]c:\\users\\neko_maru~\\appdata\\local\\programs\\python\\python37\\lib\\site-packages\\torch\\optim\\lr_scheduler.py:154: UserWarning: The epoch parameter in `scheduler.step()` was not necessary and is being deprecated where possible. Please use `scheduler.step()` to step the scheduler. During the deprecation, if epoch is different from None, the closed form is used instead of the new chainable form, where available. Please open an issue if you are unable to replicate your use case: https://github.com/pytorch/pytorch/issues/new/choose.\n",
      "  warnings.warn(EPOCH_DEPRECATION_WARNING, UserWarning)\n",
      "loss: 2.8098, accuracy: 0.2700: 100%|████████████████████████████████████████████████| 475/475 [00:34<00:00, 13.80it/s]\n",
      "loss: 2.3274, accuracy: 0.3800: 100%|██████████████████████████████████████████████████| 25/25 [00:07<00:00,  3.20it/s]\n",
      "E:\\notebook\\mlpractical\\mlpractical-mlp2021-22-coursework2\\pytorch_mlp_framework\\experiment_builder.py:134: UserWarning: Attempting to set identical left == right == 0 results in singular transformations; automatically expanding.\n",
      "  plt.xlim(xmin=0, xmax=len(all_grads))\n"
     ]
    },
    {
     "name": "stdout",
     "output_type": "stream",
     "text": [
      "Epoch 17: train_acc_0.3741_train_loss_2.3765_val_acc_0.3628_val_loss_2.4654 epoch time 42.2428 seconds\n",
      "Generating Gradient Flow Plot at epoch 17\n"
     ]
    },
    {
     "name": "stderr",
     "output_type": "stream",
     "text": [
      "  0%|                                                                                          | 0/475 [00:00<?, ?it/s]c:\\users\\neko_maru~\\appdata\\local\\programs\\python\\python37\\lib\\site-packages\\torch\\optim\\lr_scheduler.py:154: UserWarning: The epoch parameter in `scheduler.step()` was not necessary and is being deprecated where possible. Please use `scheduler.step()` to step the scheduler. During the deprecation, if epoch is different from None, the closed form is used instead of the new chainable form, where available. Please open an issue if you are unable to replicate your use case: https://github.com/pytorch/pytorch/issues/new/choose.\n",
      "  warnings.warn(EPOCH_DEPRECATION_WARNING, UserWarning)\n",
      "loss: 2.1608, accuracy: 0.4100: 100%|████████████████████████████████████████████████| 475/475 [00:34<00:00, 13.80it/s]\n",
      "loss: 2.5839, accuracy: 0.3500: 100%|██████████████████████████████████████████████████| 25/25 [00:07<00:00,  3.22it/s]\n",
      "E:\\notebook\\mlpractical\\mlpractical-mlp2021-22-coursework2\\pytorch_mlp_framework\\experiment_builder.py:134: UserWarning: Attempting to set identical left == right == 0 results in singular transformations; automatically expanding.\n",
      "  plt.xlim(xmin=0, xmax=len(all_grads))\n"
     ]
    },
    {
     "name": "stdout",
     "output_type": "stream",
     "text": [
      "Epoch 18: train_acc_0.3790_train_loss_2.3598_val_acc_0.3616_val_loss_2.4858 epoch time 42.1967 seconds\n",
      "Generating Gradient Flow Plot at epoch 18\n"
     ]
    },
    {
     "name": "stderr",
     "output_type": "stream",
     "text": [
      "  0%|                                                                                          | 0/475 [00:00<?, ?it/s]c:\\users\\neko_maru~\\appdata\\local\\programs\\python\\python37\\lib\\site-packages\\torch\\optim\\lr_scheduler.py:154: UserWarning: The epoch parameter in `scheduler.step()` was not necessary and is being deprecated where possible. Please use `scheduler.step()` to step the scheduler. During the deprecation, if epoch is different from None, the closed form is used instead of the new chainable form, where available. Please open an issue if you are unable to replicate your use case: https://github.com/pytorch/pytorch/issues/new/choose.\n",
      "  warnings.warn(EPOCH_DEPRECATION_WARNING, UserWarning)\n",
      "loss: 2.4774, accuracy: 0.3000: 100%|████████████████████████████████████████████████| 475/475 [00:34<00:00, 13.79it/s]\n",
      "loss: 2.6277, accuracy: 0.3700: 100%|██████████████████████████████████████████████████| 25/25 [00:07<00:00,  3.23it/s]\n",
      "E:\\notebook\\mlpractical\\mlpractical-mlp2021-22-coursework2\\pytorch_mlp_framework\\experiment_builder.py:134: UserWarning: Attempting to set identical left == right == 0 results in singular transformations; automatically expanding.\n",
      "  plt.xlim(xmin=0, xmax=len(all_grads))\n"
     ]
    },
    {
     "name": "stdout",
     "output_type": "stream",
     "text": [
      "Epoch 19: train_acc_0.3880_train_loss_2.3186_val_acc_0.3628_val_loss_2.4784 epoch time 42.2062 seconds\n",
      "Generating Gradient Flow Plot at epoch 19\n"
     ]
    },
    {
     "name": "stderr",
     "output_type": "stream",
     "text": [
      "  0%|                                                                                          | 0/475 [00:00<?, ?it/s]c:\\users\\neko_maru~\\appdata\\local\\programs\\python\\python37\\lib\\site-packages\\torch\\optim\\lr_scheduler.py:154: UserWarning: The epoch parameter in `scheduler.step()` was not necessary and is being deprecated where possible. Please use `scheduler.step()` to step the scheduler. During the deprecation, if epoch is different from None, the closed form is used instead of the new chainable form, where available. Please open an issue if you are unable to replicate your use case: https://github.com/pytorch/pytorch/issues/new/choose.\n",
      "  warnings.warn(EPOCH_DEPRECATION_WARNING, UserWarning)\n",
      "loss: 2.1981, accuracy: 0.3800: 100%|████████████████████████████████████████████████| 475/475 [00:34<00:00, 13.73it/s]\n",
      "loss: 2.4057, accuracy: 0.3700: 100%|██████████████████████████████████████████████████| 25/25 [00:07<00:00,  3.29it/s]\n",
      "E:\\notebook\\mlpractical\\mlpractical-mlp2021-22-coursework2\\pytorch_mlp_framework\\experiment_builder.py:134: UserWarning: Attempting to set identical left == right == 0 results in singular transformations; automatically expanding.\n",
      "  plt.xlim(xmin=0, xmax=len(all_grads))\n"
     ]
    },
    {
     "name": "stdout",
     "output_type": "stream",
     "text": [
      "Epoch 20: train_acc_0.3930_train_loss_2.2920_val_acc_0.3720_val_loss_2.4098 epoch time 42.1910 seconds\n",
      "Generating Gradient Flow Plot at epoch 20\n"
     ]
    },
    {
     "name": "stderr",
     "output_type": "stream",
     "text": [
      "  0%|                                                                                          | 0/475 [00:00<?, ?it/s]c:\\users\\neko_maru~\\appdata\\local\\programs\\python\\python37\\lib\\site-packages\\torch\\optim\\lr_scheduler.py:154: UserWarning: The epoch parameter in `scheduler.step()` was not necessary and is being deprecated where possible. Please use `scheduler.step()` to step the scheduler. During the deprecation, if epoch is different from None, the closed form is used instead of the new chainable form, where available. Please open an issue if you are unable to replicate your use case: https://github.com/pytorch/pytorch/issues/new/choose.\n",
      "  warnings.warn(EPOCH_DEPRECATION_WARNING, UserWarning)\n",
      "loss: 1.9906, accuracy: 0.4700: 100%|████████████████████████████████████████████████| 475/475 [00:34<00:00, 13.57it/s]\n",
      "loss: 2.4178, accuracy: 0.3600: 100%|██████████████████████████████████████████████████| 25/25 [00:07<00:00,  3.15it/s]\n",
      "E:\\notebook\\mlpractical\\mlpractical-mlp2021-22-coursework2\\pytorch_mlp_framework\\experiment_builder.py:134: UserWarning: Attempting to set identical left == right == 0 results in singular transformations; automatically expanding.\n",
      "  plt.xlim(xmin=0, xmax=len(all_grads))\n"
     ]
    },
    {
     "name": "stdout",
     "output_type": "stream",
     "text": [
      "Epoch 21: train_acc_0.3958_train_loss_2.2734_val_acc_0.3724_val_loss_2.4202 epoch time 42.9347 seconds\n",
      "Generating Gradient Flow Plot at epoch 21\n"
     ]
    },
    {
     "name": "stderr",
     "output_type": "stream",
     "text": [
      "  0%|                                                                                          | 0/475 [00:00<?, ?it/s]c:\\users\\neko_maru~\\appdata\\local\\programs\\python\\python37\\lib\\site-packages\\torch\\optim\\lr_scheduler.py:154: UserWarning: The epoch parameter in `scheduler.step()` was not necessary and is being deprecated where possible. Please use `scheduler.step()` to step the scheduler. During the deprecation, if epoch is different from None, the closed form is used instead of the new chainable form, where available. Please open an issue if you are unable to replicate your use case: https://github.com/pytorch/pytorch/issues/new/choose.\n",
      "  warnings.warn(EPOCH_DEPRECATION_WARNING, UserWarning)\n",
      "loss: 2.1984, accuracy: 0.3600: 100%|████████████████████████████████████████████████| 475/475 [00:35<00:00, 13.51it/s]\n",
      "loss: 2.0476, accuracy: 0.4300: 100%|██████████████████████████████████████████████████| 25/25 [00:07<00:00,  3.28it/s]\n",
      "E:\\notebook\\mlpractical\\mlpractical-mlp2021-22-coursework2\\pytorch_mlp_framework\\experiment_builder.py:134: UserWarning: Attempting to set identical left == right == 0 results in singular transformations; automatically expanding.\n",
      "  plt.xlim(xmin=0, xmax=len(all_grads))\n"
     ]
    },
    {
     "name": "stdout",
     "output_type": "stream",
     "text": [
      "Epoch 22: train_acc_0.4056_train_loss_2.2388_val_acc_0.3840_val_loss_2.3217 epoch time 42.7939 seconds\n",
      "Generating Gradient Flow Plot at epoch 22\n"
     ]
    },
    {
     "name": "stderr",
     "output_type": "stream",
     "text": [
      "  0%|                                                                                          | 0/475 [00:00<?, ?it/s]c:\\users\\neko_maru~\\appdata\\local\\programs\\python\\python37\\lib\\site-packages\\torch\\optim\\lr_scheduler.py:154: UserWarning: The epoch parameter in `scheduler.step()` was not necessary and is being deprecated where possible. Please use `scheduler.step()` to step the scheduler. During the deprecation, if epoch is different from None, the closed form is used instead of the new chainable form, where available. Please open an issue if you are unable to replicate your use case: https://github.com/pytorch/pytorch/issues/new/choose.\n",
      "  warnings.warn(EPOCH_DEPRECATION_WARNING, UserWarning)\n",
      "loss: 2.4550, accuracy: 0.3400: 100%|████████████████████████████████████████████████| 475/475 [00:33<00:00, 14.05it/s]\n",
      "loss: 2.6187, accuracy: 0.3200: 100%|██████████████████████████████████████████████████| 25/25 [00:07<00:00,  3.24it/s]\n",
      "E:\\notebook\\mlpractical\\mlpractical-mlp2021-22-coursework2\\pytorch_mlp_framework\\experiment_builder.py:134: UserWarning: Attempting to set identical left == right == 0 results in singular transformations; automatically expanding.\n",
      "  plt.xlim(xmin=0, xmax=len(all_grads))\n"
     ]
    },
    {
     "name": "stdout",
     "output_type": "stream",
     "text": [
      "Epoch 23: train_acc_0.4075_train_loss_2.2185_val_acc_0.3796_val_loss_2.3598 epoch time 41.5462 seconds\n",
      "Generating Gradient Flow Plot at epoch 23\n"
     ]
    },
    {
     "name": "stderr",
     "output_type": "stream",
     "text": [
      "  0%|                                                                                          | 0/475 [00:00<?, ?it/s]c:\\users\\neko_maru~\\appdata\\local\\programs\\python\\python37\\lib\\site-packages\\torch\\optim\\lr_scheduler.py:154: UserWarning: The epoch parameter in `scheduler.step()` was not necessary and is being deprecated where possible. Please use `scheduler.step()` to step the scheduler. During the deprecation, if epoch is different from None, the closed form is used instead of the new chainable form, where available. Please open an issue if you are unable to replicate your use case: https://github.com/pytorch/pytorch/issues/new/choose.\n",
      "  warnings.warn(EPOCH_DEPRECATION_WARNING, UserWarning)\n",
      "loss: 2.3062, accuracy: 0.3400: 100%|████████████████████████████████████████████████| 475/475 [00:34<00:00, 13.85it/s]\n",
      "loss: 2.7240, accuracy: 0.3900: 100%|██████████████████████████████████████████████████| 25/25 [00:07<00:00,  3.25it/s]\n",
      "E:\\notebook\\mlpractical\\mlpractical-mlp2021-22-coursework2\\pytorch_mlp_framework\\experiment_builder.py:134: UserWarning: Attempting to set identical left == right == 0 results in singular transformations; automatically expanding.\n",
      "  plt.xlim(xmin=0, xmax=len(all_grads))\n"
     ]
    },
    {
     "name": "stdout",
     "output_type": "stream",
     "text": [
      "Epoch 24: train_acc_0.4141_train_loss_2.1934_val_acc_0.3764_val_loss_2.3786 epoch time 41.9770 seconds\n",
      "Generating Gradient Flow Plot at epoch 24\n"
     ]
    },
    {
     "name": "stderr",
     "output_type": "stream",
     "text": [
      "  0%|                                                                                          | 0/475 [00:00<?, ?it/s]c:\\users\\neko_maru~\\appdata\\local\\programs\\python\\python37\\lib\\site-packages\\torch\\optim\\lr_scheduler.py:154: UserWarning: The epoch parameter in `scheduler.step()` was not necessary and is being deprecated where possible. Please use `scheduler.step()` to step the scheduler. During the deprecation, if epoch is different from None, the closed form is used instead of the new chainable form, where available. Please open an issue if you are unable to replicate your use case: https://github.com/pytorch/pytorch/issues/new/choose.\n",
      "  warnings.warn(EPOCH_DEPRECATION_WARNING, UserWarning)\n",
      "loss: 2.0437, accuracy: 0.4600: 100%|████████████████████████████████████████████████| 475/475 [00:34<00:00, 13.75it/s]\n",
      "loss: 2.2907, accuracy: 0.4200: 100%|██████████████████████████████████████████████████| 25/25 [00:07<00:00,  3.27it/s]\n",
      "E:\\notebook\\mlpractical\\mlpractical-mlp2021-22-coursework2\\pytorch_mlp_framework\\experiment_builder.py:134: UserWarning: Attempting to set identical left == right == 0 results in singular transformations; automatically expanding.\n",
      "  plt.xlim(xmin=0, xmax=len(all_grads))\n"
     ]
    },
    {
     "name": "stdout",
     "output_type": "stream",
     "text": [
      "Epoch 25: train_acc_0.4173_train_loss_2.1798_val_acc_0.3920_val_loss_2.3171 epoch time 42.1948 seconds\n",
      "Generating Gradient Flow Plot at epoch 25\n"
     ]
    },
    {
     "name": "stderr",
     "output_type": "stream",
     "text": [
      "  0%|                                                                                          | 0/475 [00:00<?, ?it/s]c:\\users\\neko_maru~\\appdata\\local\\programs\\python\\python37\\lib\\site-packages\\torch\\optim\\lr_scheduler.py:154: UserWarning: The epoch parameter in `scheduler.step()` was not necessary and is being deprecated where possible. Please use `scheduler.step()` to step the scheduler. During the deprecation, if epoch is different from None, the closed form is used instead of the new chainable form, where available. Please open an issue if you are unable to replicate your use case: https://github.com/pytorch/pytorch/issues/new/choose.\n",
      "  warnings.warn(EPOCH_DEPRECATION_WARNING, UserWarning)\n",
      "loss: 2.4154, accuracy: 0.4000: 100%|████████████████████████████████████████████████| 475/475 [00:34<00:00, 13.85it/s]\n",
      "loss: 2.3115, accuracy: 0.3400: 100%|██████████████████████████████████████████████████| 25/25 [00:07<00:00,  3.26it/s]\n",
      "E:\\notebook\\mlpractical\\mlpractical-mlp2021-22-coursework2\\pytorch_mlp_framework\\experiment_builder.py:134: UserWarning: Attempting to set identical left == right == 0 results in singular transformations; automatically expanding.\n",
      "  plt.xlim(xmin=0, xmax=len(all_grads))\n"
     ]
    },
    {
     "name": "stdout",
     "output_type": "stream",
     "text": [
      "Epoch 26: train_acc_0.4227_train_loss_2.1534_val_acc_0.3712_val_loss_2.3694 epoch time 41.9759 seconds\n",
      "Generating Gradient Flow Plot at epoch 26\n"
     ]
    },
    {
     "name": "stderr",
     "output_type": "stream",
     "text": [
      "  0%|                                                                                          | 0/475 [00:00<?, ?it/s]c:\\users\\neko_maru~\\appdata\\local\\programs\\python\\python37\\lib\\site-packages\\torch\\optim\\lr_scheduler.py:154: UserWarning: The epoch parameter in `scheduler.step()` was not necessary and is being deprecated where possible. Please use `scheduler.step()` to step the scheduler. During the deprecation, if epoch is different from None, the closed form is used instead of the new chainable form, where available. Please open an issue if you are unable to replicate your use case: https://github.com/pytorch/pytorch/issues/new/choose.\n",
      "  warnings.warn(EPOCH_DEPRECATION_WARNING, UserWarning)\n",
      "loss: 2.0349, accuracy: 0.4500: 100%|████████████████████████████████████████████████| 475/475 [00:34<00:00, 13.95it/s]\n",
      "loss: 2.4068, accuracy: 0.2800: 100%|██████████████████████████████████████████████████| 25/25 [00:07<00:00,  3.21it/s]\n",
      "E:\\notebook\\mlpractical\\mlpractical-mlp2021-22-coursework2\\pytorch_mlp_framework\\experiment_builder.py:134: UserWarning: Attempting to set identical left == right == 0 results in singular transformations; automatically expanding.\n",
      "  plt.xlim(xmin=0, xmax=len(all_grads))\n"
     ]
    },
    {
     "name": "stdout",
     "output_type": "stream",
     "text": [
      "Epoch 27: train_acc_0.4260_train_loss_2.1350_val_acc_0.4000_val_loss_2.2976 epoch time 41.8459 seconds\n",
      "Generating Gradient Flow Plot at epoch 27\n"
     ]
    },
    {
     "name": "stderr",
     "output_type": "stream",
     "text": [
      "  0%|                                                                                          | 0/475 [00:00<?, ?it/s]c:\\users\\neko_maru~\\appdata\\local\\programs\\python\\python37\\lib\\site-packages\\torch\\optim\\lr_scheduler.py:154: UserWarning: The epoch parameter in `scheduler.step()` was not necessary and is being deprecated where possible. Please use `scheduler.step()` to step the scheduler. During the deprecation, if epoch is different from None, the closed form is used instead of the new chainable form, where available. Please open an issue if you are unable to replicate your use case: https://github.com/pytorch/pytorch/issues/new/choose.\n",
      "  warnings.warn(EPOCH_DEPRECATION_WARNING, UserWarning)\n",
      "loss: 2.1702, accuracy: 0.4600: 100%|████████████████████████████████████████████████| 475/475 [00:34<00:00, 13.64it/s]\n",
      "loss: 2.6544, accuracy: 0.3300: 100%|██████████████████████████████████████████████████| 25/25 [00:07<00:00,  3.26it/s]\n",
      "E:\\notebook\\mlpractical\\mlpractical-mlp2021-22-coursework2\\pytorch_mlp_framework\\experiment_builder.py:134: UserWarning: Attempting to set identical left == right == 0 results in singular transformations; automatically expanding.\n",
      "  plt.xlim(xmin=0, xmax=len(all_grads))\n"
     ]
    },
    {
     "name": "stdout",
     "output_type": "stream",
     "text": [
      "Epoch 28: train_acc_0.4299_train_loss_2.1171_val_acc_0.4128_val_loss_2.2470 epoch time 42.5003 seconds\n",
      "Generating Gradient Flow Plot at epoch 28\n"
     ]
    },
    {
     "name": "stderr",
     "output_type": "stream",
     "text": [
      "  0%|                                                                                          | 0/475 [00:00<?, ?it/s]c:\\users\\neko_maru~\\appdata\\local\\programs\\python\\python37\\lib\\site-packages\\torch\\optim\\lr_scheduler.py:154: UserWarning: The epoch parameter in `scheduler.step()` was not necessary and is being deprecated where possible. Please use `scheduler.step()` to step the scheduler. During the deprecation, if epoch is different from None, the closed form is used instead of the new chainable form, where available. Please open an issue if you are unable to replicate your use case: https://github.com/pytorch/pytorch/issues/new/choose.\n",
      "  warnings.warn(EPOCH_DEPRECATION_WARNING, UserWarning)\n",
      "loss: 2.1723, accuracy: 0.4500: 100%|████████████████████████████████████████████████| 475/475 [00:35<00:00, 13.21it/s]\n",
      "loss: 2.2695, accuracy: 0.4100: 100%|██████████████████████████████████████████████████| 25/25 [00:08<00:00,  3.09it/s]\n",
      "E:\\notebook\\mlpractical\\mlpractical-mlp2021-22-coursework2\\pytorch_mlp_framework\\experiment_builder.py:134: UserWarning: Attempting to set identical left == right == 0 results in singular transformations; automatically expanding.\n",
      "  plt.xlim(xmin=0, xmax=len(all_grads))\n"
     ]
    },
    {
     "name": "stdout",
     "output_type": "stream",
     "text": [
      "Epoch 29: train_acc_0.4336_train_loss_2.0995_val_acc_0.4052_val_loss_2.2589 epoch time 44.0472 seconds\n",
      "Generating Gradient Flow Plot at epoch 29\n"
     ]
    },
    {
     "name": "stderr",
     "output_type": "stream",
     "text": [
      "  0%|                                                                                          | 0/475 [00:00<?, ?it/s]c:\\users\\neko_maru~\\appdata\\local\\programs\\python\\python37\\lib\\site-packages\\torch\\optim\\lr_scheduler.py:154: UserWarning: The epoch parameter in `scheduler.step()` was not necessary and is being deprecated where possible. Please use `scheduler.step()` to step the scheduler. During the deprecation, if epoch is different from None, the closed form is used instead of the new chainable form, where available. Please open an issue if you are unable to replicate your use case: https://github.com/pytorch/pytorch/issues/new/choose.\n",
      "  warnings.warn(EPOCH_DEPRECATION_WARNING, UserWarning)\n",
      "loss: 1.8575, accuracy: 0.4400: 100%|████████████████████████████████████████████████| 475/475 [00:35<00:00, 13.55it/s]\n",
      "loss: 1.9789, accuracy: 0.4500: 100%|██████████████████████████████████████████████████| 25/25 [00:07<00:00,  3.24it/s]\n",
      "E:\\notebook\\mlpractical\\mlpractical-mlp2021-22-coursework2\\pytorch_mlp_framework\\experiment_builder.py:134: UserWarning: Attempting to set identical left == right == 0 results in singular transformations; automatically expanding.\n",
      "  plt.xlim(xmin=0, xmax=len(all_grads))\n"
     ]
    },
    {
     "name": "stdout",
     "output_type": "stream",
     "text": [
      "Epoch 30: train_acc_0.4375_train_loss_2.0896_val_acc_0.4128_val_loss_2.2636 epoch time 42.7853 seconds\n",
      "Generating Gradient Flow Plot at epoch 30\n"
     ]
    },
    {
     "name": "stderr",
     "output_type": "stream",
     "text": [
      "  0%|                                                                                          | 0/475 [00:00<?, ?it/s]c:\\users\\neko_maru~\\appdata\\local\\programs\\python\\python37\\lib\\site-packages\\torch\\optim\\lr_scheduler.py:154: UserWarning: The epoch parameter in `scheduler.step()` was not necessary and is being deprecated where possible. Please use `scheduler.step()` to step the scheduler. During the deprecation, if epoch is different from None, the closed form is used instead of the new chainable form, where available. Please open an issue if you are unable to replicate your use case: https://github.com/pytorch/pytorch/issues/new/choose.\n",
      "  warnings.warn(EPOCH_DEPRECATION_WARNING, UserWarning)\n",
      "loss: 2.0196, accuracy: 0.4200: 100%|████████████████████████████████████████████████| 475/475 [00:35<00:00, 13.55it/s]\n",
      "loss: 2.0775, accuracy: 0.4300: 100%|██████████████████████████████████████████████████| 25/25 [00:07<00:00,  3.21it/s]\n",
      "E:\\notebook\\mlpractical\\mlpractical-mlp2021-22-coursework2\\pytorch_mlp_framework\\experiment_builder.py:134: UserWarning: Attempting to set identical left == right == 0 results in singular transformations; automatically expanding.\n",
      "  plt.xlim(xmin=0, xmax=len(all_grads))\n"
     ]
    },
    {
     "name": "stdout",
     "output_type": "stream",
     "text": [
      "Epoch 31: train_acc_0.4410_train_loss_2.0673_val_acc_0.4144_val_loss_2.2320 epoch time 42.8452 seconds\n",
      "Generating Gradient Flow Plot at epoch 31\n"
     ]
    },
    {
     "name": "stderr",
     "output_type": "stream",
     "text": [
      "  0%|                                                                                          | 0/475 [00:00<?, ?it/s]c:\\users\\neko_maru~\\appdata\\local\\programs\\python\\python37\\lib\\site-packages\\torch\\optim\\lr_scheduler.py:154: UserWarning: The epoch parameter in `scheduler.step()` was not necessary and is being deprecated where possible. Please use `scheduler.step()` to step the scheduler. During the deprecation, if epoch is different from None, the closed form is used instead of the new chainable form, where available. Please open an issue if you are unable to replicate your use case: https://github.com/pytorch/pytorch/issues/new/choose.\n",
      "  warnings.warn(EPOCH_DEPRECATION_WARNING, UserWarning)\n",
      "loss: 2.2886, accuracy: 0.3400: 100%|████████████████████████████████████████████████| 475/475 [00:34<00:00, 13.82it/s]\n",
      "loss: 1.9583, accuracy: 0.4600: 100%|██████████████████████████████████████████████████| 25/25 [00:07<00:00,  3.30it/s]\n",
      "E:\\notebook\\mlpractical\\mlpractical-mlp2021-22-coursework2\\pytorch_mlp_framework\\experiment_builder.py:134: UserWarning: Attempting to set identical left == right == 0 results in singular transformations; automatically expanding.\n",
      "  plt.xlim(xmin=0, xmax=len(all_grads))\n"
     ]
    },
    {
     "name": "stdout",
     "output_type": "stream",
     "text": [
      "Epoch 32: train_acc_0.4421_train_loss_2.0560_val_acc_0.4072_val_loss_2.2989 epoch time 41.9502 seconds\n",
      "Generating Gradient Flow Plot at epoch 32\n"
     ]
    },
    {
     "name": "stderr",
     "output_type": "stream",
     "text": [
      "  0%|                                                                                          | 0/475 [00:00<?, ?it/s]c:\\users\\neko_maru~\\appdata\\local\\programs\\python\\python37\\lib\\site-packages\\torch\\optim\\lr_scheduler.py:154: UserWarning: The epoch parameter in `scheduler.step()` was not necessary and is being deprecated where possible. Please use `scheduler.step()` to step the scheduler. During the deprecation, if epoch is different from None, the closed form is used instead of the new chainable form, where available. Please open an issue if you are unable to replicate your use case: https://github.com/pytorch/pytorch/issues/new/choose.\n",
      "  warnings.warn(EPOCH_DEPRECATION_WARNING, UserWarning)\n",
      "loss: 2.2434, accuracy: 0.4100: 100%|████████████████████████████████████████████████| 475/475 [00:34<00:00, 13.76it/s]\n",
      "loss: 2.1649, accuracy: 0.4500: 100%|██████████████████████████████████████████████████| 25/25 [00:07<00:00,  3.21it/s]\n",
      "E:\\notebook\\mlpractical\\mlpractical-mlp2021-22-coursework2\\pytorch_mlp_framework\\experiment_builder.py:134: UserWarning: Attempting to set identical left == right == 0 results in singular transformations; automatically expanding.\n",
      "  plt.xlim(xmin=0, xmax=len(all_grads))\n"
     ]
    },
    {
     "name": "stdout",
     "output_type": "stream",
     "text": [
      "Epoch 33: train_acc_0.4465_train_loss_2.0386_val_acc_0.4152_val_loss_2.2396 epoch time 42.3238 seconds\n",
      "Generating Gradient Flow Plot at epoch 33\n"
     ]
    },
    {
     "name": "stderr",
     "output_type": "stream",
     "text": [
      "  0%|                                                                                          | 0/475 [00:00<?, ?it/s]c:\\users\\neko_maru~\\appdata\\local\\programs\\python\\python37\\lib\\site-packages\\torch\\optim\\lr_scheduler.py:154: UserWarning: The epoch parameter in `scheduler.step()` was not necessary and is being deprecated where possible. Please use `scheduler.step()` to step the scheduler. During the deprecation, if epoch is different from None, the closed form is used instead of the new chainable form, where available. Please open an issue if you are unable to replicate your use case: https://github.com/pytorch/pytorch/issues/new/choose.\n",
      "  warnings.warn(EPOCH_DEPRECATION_WARNING, UserWarning)\n",
      "loss: 1.8534, accuracy: 0.5600: 100%|████████████████████████████████████████████████| 475/475 [00:34<00:00, 13.76it/s]\n",
      "loss: 2.4008, accuracy: 0.3800: 100%|██████████████████████████████████████████████████| 25/25 [00:08<00:00,  3.01it/s]\n",
      "E:\\notebook\\mlpractical\\mlpractical-mlp2021-22-coursework2\\pytorch_mlp_framework\\experiment_builder.py:134: UserWarning: Attempting to set identical left == right == 0 results in singular transformations; automatically expanding.\n",
      "  plt.xlim(xmin=0, xmax=len(all_grads))\n"
     ]
    },
    {
     "name": "stdout",
     "output_type": "stream",
     "text": [
      "Epoch 34: train_acc_0.4497_train_loss_2.0247_val_acc_0.4284_val_loss_2.2196 epoch time 42.8260 seconds\n",
      "Generating Gradient Flow Plot at epoch 34\n"
     ]
    },
    {
     "name": "stderr",
     "output_type": "stream",
     "text": [
      "  0%|                                                                                          | 0/475 [00:00<?, ?it/s]c:\\users\\neko_maru~\\appdata\\local\\programs\\python\\python37\\lib\\site-packages\\torch\\optim\\lr_scheduler.py:154: UserWarning: The epoch parameter in `scheduler.step()` was not necessary and is being deprecated where possible. Please use `scheduler.step()` to step the scheduler. During the deprecation, if epoch is different from None, the closed form is used instead of the new chainable form, where available. Please open an issue if you are unable to replicate your use case: https://github.com/pytorch/pytorch/issues/new/choose.\n",
      "  warnings.warn(EPOCH_DEPRECATION_WARNING, UserWarning)\n",
      "loss: 2.1167, accuracy: 0.4500: 100%|████████████████████████████████████████████████| 475/475 [00:34<00:00, 13.62it/s]\n",
      "loss: 1.8622, accuracy: 0.5000: 100%|██████████████████████████████████████████████████| 25/25 [00:07<00:00,  3.26it/s]\n",
      "E:\\notebook\\mlpractical\\mlpractical-mlp2021-22-coursework2\\pytorch_mlp_framework\\experiment_builder.py:134: UserWarning: Attempting to set identical left == right == 0 results in singular transformations; automatically expanding.\n",
      "  plt.xlim(xmin=0, xmax=len(all_grads))\n"
     ]
    },
    {
     "name": "stdout",
     "output_type": "stream",
     "text": [
      "Epoch 35: train_acc_0.4541_train_loss_2.0085_val_acc_0.4224_val_loss_2.1804 epoch time 42.5415 seconds\n",
      "Generating Gradient Flow Plot at epoch 35\n"
     ]
    },
    {
     "name": "stderr",
     "output_type": "stream",
     "text": [
      "  0%|                                                                                          | 0/475 [00:00<?, ?it/s]c:\\users\\neko_maru~\\appdata\\local\\programs\\python\\python37\\lib\\site-packages\\torch\\optim\\lr_scheduler.py:154: UserWarning: The epoch parameter in `scheduler.step()` was not necessary and is being deprecated where possible. Please use `scheduler.step()` to step the scheduler. During the deprecation, if epoch is different from None, the closed form is used instead of the new chainable form, where available. Please open an issue if you are unable to replicate your use case: https://github.com/pytorch/pytorch/issues/new/choose.\n",
      "  warnings.warn(EPOCH_DEPRECATION_WARNING, UserWarning)\n",
      "loss: 2.0328, accuracy: 0.4600: 100%|████████████████████████████████████████████████| 475/475 [00:35<00:00, 13.50it/s]\n",
      "loss: 2.1773, accuracy: 0.3900: 100%|██████████████████████████████████████████████████| 25/25 [00:08<00:00,  3.07it/s]\n",
      "E:\\notebook\\mlpractical\\mlpractical-mlp2021-22-coursework2\\pytorch_mlp_framework\\experiment_builder.py:134: UserWarning: Attempting to set identical left == right == 0 results in singular transformations; automatically expanding.\n",
      "  plt.xlim(xmin=0, xmax=len(all_grads))\n"
     ]
    },
    {
     "name": "stdout",
     "output_type": "stream",
     "text": [
      "Epoch 36: train_acc_0.4593_train_loss_1.9948_val_acc_0.4156_val_loss_2.2035 epoch time 43.3248 seconds\n",
      "Generating Gradient Flow Plot at epoch 36\n"
     ]
    },
    {
     "name": "stderr",
     "output_type": "stream",
     "text": [
      "  0%|                                                                                          | 0/475 [00:00<?, ?it/s]c:\\users\\neko_maru~\\appdata\\local\\programs\\python\\python37\\lib\\site-packages\\torch\\optim\\lr_scheduler.py:154: UserWarning: The epoch parameter in `scheduler.step()` was not necessary and is being deprecated where possible. Please use `scheduler.step()` to step the scheduler. During the deprecation, if epoch is different from None, the closed form is used instead of the new chainable form, where available. Please open an issue if you are unable to replicate your use case: https://github.com/pytorch/pytorch/issues/new/choose.\n",
      "  warnings.warn(EPOCH_DEPRECATION_WARNING, UserWarning)\n",
      "loss: 2.0661, accuracy: 0.4400: 100%|████████████████████████████████████████████████| 475/475 [00:34<00:00, 13.62it/s]\n",
      "loss: 2.1500, accuracy: 0.4400: 100%|██████████████████████████████████████████████████| 25/25 [00:07<00:00,  3.23it/s]\n",
      "E:\\notebook\\mlpractical\\mlpractical-mlp2021-22-coursework2\\pytorch_mlp_framework\\experiment_builder.py:134: UserWarning: Attempting to set identical left == right == 0 results in singular transformations; automatically expanding.\n",
      "  plt.xlim(xmin=0, xmax=len(all_grads))\n"
     ]
    },
    {
     "name": "stdout",
     "output_type": "stream",
     "text": [
      "Epoch 37: train_acc_0.4590_train_loss_1.9833_val_acc_0.4316_val_loss_2.1526 epoch time 42.6376 seconds\n",
      "Generating Gradient Flow Plot at epoch 37\n"
     ]
    },
    {
     "name": "stderr",
     "output_type": "stream",
     "text": [
      "  0%|                                                                                          | 0/475 [00:00<?, ?it/s]c:\\users\\neko_maru~\\appdata\\local\\programs\\python\\python37\\lib\\site-packages\\torch\\optim\\lr_scheduler.py:154: UserWarning: The epoch parameter in `scheduler.step()` was not necessary and is being deprecated where possible. Please use `scheduler.step()` to step the scheduler. During the deprecation, if epoch is different from None, the closed form is used instead of the new chainable form, where available. Please open an issue if you are unable to replicate your use case: https://github.com/pytorch/pytorch/issues/new/choose.\n",
      "  warnings.warn(EPOCH_DEPRECATION_WARNING, UserWarning)\n",
      "loss: 1.8586, accuracy: 0.4800: 100%|████████████████████████████████████████████████| 475/475 [00:34<00:00, 13.81it/s]\n",
      "loss: 2.1520, accuracy: 0.4500: 100%|██████████████████████████████████████████████████| 25/25 [00:07<00:00,  3.43it/s]\n",
      "E:\\notebook\\mlpractical\\mlpractical-mlp2021-22-coursework2\\pytorch_mlp_framework\\experiment_builder.py:134: UserWarning: Attempting to set identical left == right == 0 results in singular transformations; automatically expanding.\n",
      "  plt.xlim(xmin=0, xmax=len(all_grads))\n"
     ]
    },
    {
     "name": "stdout",
     "output_type": "stream",
     "text": [
      "Epoch 38: train_acc_0.4665_train_loss_1.9647_val_acc_0.4284_val_loss_2.2038 epoch time 41.6760 seconds\n",
      "Generating Gradient Flow Plot at epoch 38\n"
     ]
    },
    {
     "name": "stderr",
     "output_type": "stream",
     "text": [
      "  0%|                                                                                          | 0/475 [00:00<?, ?it/s]c:\\users\\neko_maru~\\appdata\\local\\programs\\python\\python37\\lib\\site-packages\\torch\\optim\\lr_scheduler.py:154: UserWarning: The epoch parameter in `scheduler.step()` was not necessary and is being deprecated where possible. Please use `scheduler.step()` to step the scheduler. During the deprecation, if epoch is different from None, the closed form is used instead of the new chainable form, where available. Please open an issue if you are unable to replicate your use case: https://github.com/pytorch/pytorch/issues/new/choose.\n",
      "  warnings.warn(EPOCH_DEPRECATION_WARNING, UserWarning)\n",
      "loss: 1.8225, accuracy: 0.5100: 100%|████████████████████████████████████████████████| 475/475 [00:34<00:00, 13.60it/s]\n",
      "loss: 1.9395, accuracy: 0.4700: 100%|██████████████████████████████████████████████████| 25/25 [00:07<00:00,  3.27it/s]\n",
      "E:\\notebook\\mlpractical\\mlpractical-mlp2021-22-coursework2\\pytorch_mlp_framework\\experiment_builder.py:134: UserWarning: Attempting to set identical left == right == 0 results in singular transformations; automatically expanding.\n",
      "  plt.xlim(xmin=0, xmax=len(all_grads))\n"
     ]
    },
    {
     "name": "stdout",
     "output_type": "stream",
     "text": [
      "Epoch 39: train_acc_0.4653_train_loss_1.9623_val_acc_0.4316_val_loss_2.1907 epoch time 42.5911 seconds\n",
      "Generating Gradient Flow Plot at epoch 39\n"
     ]
    },
    {
     "name": "stderr",
     "output_type": "stream",
     "text": [
      "  0%|                                                                                          | 0/475 [00:00<?, ?it/s]c:\\users\\neko_maru~\\appdata\\local\\programs\\python\\python37\\lib\\site-packages\\torch\\optim\\lr_scheduler.py:154: UserWarning: The epoch parameter in `scheduler.step()` was not necessary and is being deprecated where possible. Please use `scheduler.step()` to step the scheduler. During the deprecation, if epoch is different from None, the closed form is used instead of the new chainable form, where available. Please open an issue if you are unable to replicate your use case: https://github.com/pytorch/pytorch/issues/new/choose.\n",
      "  warnings.warn(EPOCH_DEPRECATION_WARNING, UserWarning)\n",
      "loss: 2.2090, accuracy: 0.4900: 100%|████████████████████████████████████████████████| 475/475 [00:34<00:00, 13.79it/s]\n",
      "loss: 2.2514, accuracy: 0.3300: 100%|██████████████████████████████████████████████████| 25/25 [00:07<00:00,  3.31it/s]\n",
      "E:\\notebook\\mlpractical\\mlpractical-mlp2021-22-coursework2\\pytorch_mlp_framework\\experiment_builder.py:134: UserWarning: Attempting to set identical left == right == 0 results in singular transformations; automatically expanding.\n",
      "  plt.xlim(xmin=0, xmax=len(all_grads))\n"
     ]
    },
    {
     "name": "stdout",
     "output_type": "stream",
     "text": [
      "Epoch 40: train_acc_0.4677_train_loss_1.9476_val_acc_0.4340_val_loss_2.1378 epoch time 41.9980 seconds\n",
      "Generating Gradient Flow Plot at epoch 40\n"
     ]
    },
    {
     "name": "stderr",
     "output_type": "stream",
     "text": [
      "  0%|                                                                                          | 0/475 [00:00<?, ?it/s]c:\\users\\neko_maru~\\appdata\\local\\programs\\python\\python37\\lib\\site-packages\\torch\\optim\\lr_scheduler.py:154: UserWarning: The epoch parameter in `scheduler.step()` was not necessary and is being deprecated where possible. Please use `scheduler.step()` to step the scheduler. During the deprecation, if epoch is different from None, the closed form is used instead of the new chainable form, where available. Please open an issue if you are unable to replicate your use case: https://github.com/pytorch/pytorch/issues/new/choose.\n",
      "  warnings.warn(EPOCH_DEPRECATION_WARNING, UserWarning)\n",
      "loss: 2.0683, accuracy: 0.4800: 100%|████████████████████████████████████████████████| 475/475 [00:35<00:00, 13.29it/s]\n",
      "loss: 1.9005, accuracy: 0.4800: 100%|██████████████████████████████████████████████████| 25/25 [00:07<00:00,  3.23it/s]\n",
      "E:\\notebook\\mlpractical\\mlpractical-mlp2021-22-coursework2\\pytorch_mlp_framework\\experiment_builder.py:134: UserWarning: Attempting to set identical left == right == 0 results in singular transformations; automatically expanding.\n",
      "  plt.xlim(xmin=0, xmax=len(all_grads))\n"
     ]
    },
    {
     "name": "stdout",
     "output_type": "stream",
     "text": [
      "Epoch 41: train_acc_0.4696_train_loss_1.9400_val_acc_0.4284_val_loss_2.1662 epoch time 43.4983 seconds\n",
      "Generating Gradient Flow Plot at epoch 41\n"
     ]
    },
    {
     "name": "stderr",
     "output_type": "stream",
     "text": [
      "  0%|                                                                                          | 0/475 [00:00<?, ?it/s]c:\\users\\neko_maru~\\appdata\\local\\programs\\python\\python37\\lib\\site-packages\\torch\\optim\\lr_scheduler.py:154: UserWarning: The epoch parameter in `scheduler.step()` was not necessary and is being deprecated where possible. Please use `scheduler.step()` to step the scheduler. During the deprecation, if epoch is different from None, the closed form is used instead of the new chainable form, where available. Please open an issue if you are unable to replicate your use case: https://github.com/pytorch/pytorch/issues/new/choose.\n",
      "  warnings.warn(EPOCH_DEPRECATION_WARNING, UserWarning)\n",
      "loss: 1.8924, accuracy: 0.5300: 100%|████████████████████████████████████████████████| 475/475 [00:33<00:00, 14.15it/s]\n",
      "loss: 2.0480, accuracy: 0.4800: 100%|██████████████████████████████████████████████████| 25/25 [00:07<00:00,  3.27it/s]\n",
      "E:\\notebook\\mlpractical\\mlpractical-mlp2021-22-coursework2\\pytorch_mlp_framework\\experiment_builder.py:134: UserWarning: Attempting to set identical left == right == 0 results in singular transformations; automatically expanding.\n",
      "  plt.xlim(xmin=0, xmax=len(all_grads))\n"
     ]
    },
    {
     "name": "stdout",
     "output_type": "stream",
     "text": [
      "Epoch 42: train_acc_0.4718_train_loss_1.9309_val_acc_0.4316_val_loss_2.2099 epoch time 41.2188 seconds\n",
      "Generating Gradient Flow Plot at epoch 42\n"
     ]
    },
    {
     "name": "stderr",
     "output_type": "stream",
     "text": [
      "  0%|                                                                                          | 0/475 [00:00<?, ?it/s]c:\\users\\neko_maru~\\appdata\\local\\programs\\python\\python37\\lib\\site-packages\\torch\\optim\\lr_scheduler.py:154: UserWarning: The epoch parameter in `scheduler.step()` was not necessary and is being deprecated where possible. Please use `scheduler.step()` to step the scheduler. During the deprecation, if epoch is different from None, the closed form is used instead of the new chainable form, where available. Please open an issue if you are unable to replicate your use case: https://github.com/pytorch/pytorch/issues/new/choose.\n",
      "  warnings.warn(EPOCH_DEPRECATION_WARNING, UserWarning)\n",
      "loss: 1.8298, accuracy: 0.5100: 100%|████████████████████████████████████████████████| 475/475 [00:33<00:00, 14.22it/s]\n",
      "loss: 2.1480, accuracy: 0.4000: 100%|██████████████████████████████████████████████████| 25/25 [00:07<00:00,  3.28it/s]\n",
      "E:\\notebook\\mlpractical\\mlpractical-mlp2021-22-coursework2\\pytorch_mlp_framework\\experiment_builder.py:134: UserWarning: Attempting to set identical left == right == 0 results in singular transformations; automatically expanding.\n",
      "  plt.xlim(xmin=0, xmax=len(all_grads))\n"
     ]
    },
    {
     "name": "stdout",
     "output_type": "stream",
     "text": [
      "Epoch 43: train_acc_0.4726_train_loss_1.9186_val_acc_0.4316_val_loss_2.1691 epoch time 41.0273 seconds\n",
      "Generating Gradient Flow Plot at epoch 43\n"
     ]
    },
    {
     "name": "stderr",
     "output_type": "stream",
     "text": [
      "  0%|                                                                                          | 0/475 [00:00<?, ?it/s]c:\\users\\neko_maru~\\appdata\\local\\programs\\python\\python37\\lib\\site-packages\\torch\\optim\\lr_scheduler.py:154: UserWarning: The epoch parameter in `scheduler.step()` was not necessary and is being deprecated where possible. Please use `scheduler.step()` to step the scheduler. During the deprecation, if epoch is different from None, the closed form is used instead of the new chainable form, where available. Please open an issue if you are unable to replicate your use case: https://github.com/pytorch/pytorch/issues/new/choose.\n",
      "  warnings.warn(EPOCH_DEPRECATION_WARNING, UserWarning)\n",
      "loss: 2.0240, accuracy: 0.4600: 100%|████████████████████████████████████████████████| 475/475 [00:33<00:00, 14.25it/s]\n",
      "loss: 1.9151, accuracy: 0.4800: 100%|██████████████████████████████████████████████████| 25/25 [00:07<00:00,  3.37it/s]\n",
      "E:\\notebook\\mlpractical\\mlpractical-mlp2021-22-coursework2\\pytorch_mlp_framework\\experiment_builder.py:134: UserWarning: Attempting to set identical left == right == 0 results in singular transformations; automatically expanding.\n",
      "  plt.xlim(xmin=0, xmax=len(all_grads))\n"
     ]
    },
    {
     "name": "stdout",
     "output_type": "stream",
     "text": [
      "Epoch 44: train_acc_0.4791_train_loss_1.9046_val_acc_0.4412_val_loss_2.1466 epoch time 40.7467 seconds\n",
      "Generating Gradient Flow Plot at epoch 44\n"
     ]
    },
    {
     "name": "stderr",
     "output_type": "stream",
     "text": [
      "  0%|                                                                                          | 0/475 [00:00<?, ?it/s]c:\\users\\neko_maru~\\appdata\\local\\programs\\python\\python37\\lib\\site-packages\\torch\\optim\\lr_scheduler.py:154: UserWarning: The epoch parameter in `scheduler.step()` was not necessary and is being deprecated where possible. Please use `scheduler.step()` to step the scheduler. During the deprecation, if epoch is different from None, the closed form is used instead of the new chainable form, where available. Please open an issue if you are unable to replicate your use case: https://github.com/pytorch/pytorch/issues/new/choose.\n",
      "  warnings.warn(EPOCH_DEPRECATION_WARNING, UserWarning)\n",
      "loss: 1.7636, accuracy: 0.5200: 100%|████████████████████████████████████████████████| 475/475 [00:33<00:00, 14.27it/s]\n",
      "loss: 2.1223, accuracy: 0.3900: 100%|██████████████████████████████████████████████████| 25/25 [00:07<00:00,  3.24it/s]\n",
      "E:\\notebook\\mlpractical\\mlpractical-mlp2021-22-coursework2\\pytorch_mlp_framework\\experiment_builder.py:134: UserWarning: Attempting to set identical left == right == 0 results in singular transformations; automatically expanding.\n",
      "  plt.xlim(xmin=0, xmax=len(all_grads))\n"
     ]
    },
    {
     "name": "stdout",
     "output_type": "stream",
     "text": [
      "Epoch 45: train_acc_0.4803_train_loss_1.8950_val_acc_0.4524_val_loss_2.1297 epoch time 41.0056 seconds\n",
      "Generating Gradient Flow Plot at epoch 45\n"
     ]
    },
    {
     "name": "stderr",
     "output_type": "stream",
     "text": [
      "  0%|                                                                                          | 0/475 [00:00<?, ?it/s]c:\\users\\neko_maru~\\appdata\\local\\programs\\python\\python37\\lib\\site-packages\\torch\\optim\\lr_scheduler.py:154: UserWarning: The epoch parameter in `scheduler.step()` was not necessary and is being deprecated where possible. Please use `scheduler.step()` to step the scheduler. During the deprecation, if epoch is different from None, the closed form is used instead of the new chainable form, where available. Please open an issue if you are unable to replicate your use case: https://github.com/pytorch/pytorch/issues/new/choose.\n",
      "  warnings.warn(EPOCH_DEPRECATION_WARNING, UserWarning)\n",
      "loss: 1.7718, accuracy: 0.5400: 100%|████████████████████████████████████████████████| 475/475 [00:33<00:00, 14.33it/s]\n",
      "loss: 2.3159, accuracy: 0.4000: 100%|██████████████████████████████████████████████████| 25/25 [00:07<00:00,  3.36it/s]\n",
      "E:\\notebook\\mlpractical\\mlpractical-mlp2021-22-coursework2\\pytorch_mlp_framework\\experiment_builder.py:134: UserWarning: Attempting to set identical left == right == 0 results in singular transformations; automatically expanding.\n",
      "  plt.xlim(xmin=0, xmax=len(all_grads))\n"
     ]
    },
    {
     "name": "stdout",
     "output_type": "stream",
     "text": [
      "Epoch 46: train_acc_0.4822_train_loss_1.8886_val_acc_0.4344_val_loss_2.1235 epoch time 40.5870 seconds\n",
      "Generating Gradient Flow Plot at epoch 46\n"
     ]
    },
    {
     "name": "stderr",
     "output_type": "stream",
     "text": [
      "  0%|                                                                                          | 0/475 [00:00<?, ?it/s]c:\\users\\neko_maru~\\appdata\\local\\programs\\python\\python37\\lib\\site-packages\\torch\\optim\\lr_scheduler.py:154: UserWarning: The epoch parameter in `scheduler.step()` was not necessary and is being deprecated where possible. Please use `scheduler.step()` to step the scheduler. During the deprecation, if epoch is different from None, the closed form is used instead of the new chainable form, where available. Please open an issue if you are unable to replicate your use case: https://github.com/pytorch/pytorch/issues/new/choose.\n",
      "  warnings.warn(EPOCH_DEPRECATION_WARNING, UserWarning)\n",
      "loss: 1.7919, accuracy: 0.5000: 100%|████████████████████████████████████████████████| 475/475 [00:33<00:00, 14.37it/s]\n",
      "loss: 2.4560, accuracy: 0.4900: 100%|██████████████████████████████████████████████████| 25/25 [00:07<00:00,  3.32it/s]\n",
      "E:\\notebook\\mlpractical\\mlpractical-mlp2021-22-coursework2\\pytorch_mlp_framework\\experiment_builder.py:134: UserWarning: Attempting to set identical left == right == 0 results in singular transformations; automatically expanding.\n",
      "  plt.xlim(xmin=0, xmax=len(all_grads))\n"
     ]
    },
    {
     "name": "stdout",
     "output_type": "stream",
     "text": [
      "Epoch 47: train_acc_0.4872_train_loss_1.8697_val_acc_0.4504_val_loss_2.1356 epoch time 40.5928 seconds\n",
      "Generating Gradient Flow Plot at epoch 47\n"
     ]
    },
    {
     "name": "stderr",
     "output_type": "stream",
     "text": [
      "  0%|                                                                                          | 0/475 [00:00<?, ?it/s]c:\\users\\neko_maru~\\appdata\\local\\programs\\python\\python37\\lib\\site-packages\\torch\\optim\\lr_scheduler.py:154: UserWarning: The epoch parameter in `scheduler.step()` was not necessary and is being deprecated where possible. Please use `scheduler.step()` to step the scheduler. During the deprecation, if epoch is different from None, the closed form is used instead of the new chainable form, where available. Please open an issue if you are unable to replicate your use case: https://github.com/pytorch/pytorch/issues/new/choose.\n",
      "  warnings.warn(EPOCH_DEPRECATION_WARNING, UserWarning)\n",
      "loss: 1.6094, accuracy: 0.5800: 100%|████████████████████████████████████████████████| 475/475 [00:32<00:00, 14.52it/s]\n",
      "loss: 1.7656, accuracy: 0.4900: 100%|██████████████████████████████████████████████████| 25/25 [00:07<00:00,  3.38it/s]\n",
      "E:\\notebook\\mlpractical\\mlpractical-mlp2021-22-coursework2\\pytorch_mlp_framework\\experiment_builder.py:134: UserWarning: Attempting to set identical left == right == 0 results in singular transformations; automatically expanding.\n",
      "  plt.xlim(xmin=0, xmax=len(all_grads))\n"
     ]
    },
    {
     "name": "stdout",
     "output_type": "stream",
     "text": [
      "Epoch 48: train_acc_0.4852_train_loss_1.8694_val_acc_0.4556_val_loss_2.0976 epoch time 40.1002 seconds\n",
      "Generating Gradient Flow Plot at epoch 48\n"
     ]
    },
    {
     "name": "stderr",
     "output_type": "stream",
     "text": [
      "  0%|                                                                                          | 0/475 [00:00<?, ?it/s]c:\\users\\neko_maru~\\appdata\\local\\programs\\python\\python37\\lib\\site-packages\\torch\\optim\\lr_scheduler.py:154: UserWarning: The epoch parameter in `scheduler.step()` was not necessary and is being deprecated where possible. Please use `scheduler.step()` to step the scheduler. During the deprecation, if epoch is different from None, the closed form is used instead of the new chainable form, where available. Please open an issue if you are unable to replicate your use case: https://github.com/pytorch/pytorch/issues/new/choose.\n",
      "  warnings.warn(EPOCH_DEPRECATION_WARNING, UserWarning)\n",
      "loss: 1.5688, accuracy: 0.5800: 100%|████████████████████████████████████████████████| 475/475 [00:32<00:00, 14.64it/s]\n",
      "loss: 1.9807, accuracy: 0.4700: 100%|██████████████████████████████████████████████████| 25/25 [00:07<00:00,  3.36it/s]\n",
      "E:\\notebook\\mlpractical\\mlpractical-mlp2021-22-coursework2\\pytorch_mlp_framework\\experiment_builder.py:134: UserWarning: Attempting to set identical left == right == 0 results in singular transformations; automatically expanding.\n",
      "  plt.xlim(xmin=0, xmax=len(all_grads))\n"
     ]
    },
    {
     "name": "stdout",
     "output_type": "stream",
     "text": [
      "Epoch 49: train_acc_0.4881_train_loss_1.8586_val_acc_0.4504_val_loss_2.0981 epoch time 39.8801 seconds\n",
      "Generating Gradient Flow Plot at epoch 49\n"
     ]
    },
    {
     "name": "stderr",
     "output_type": "stream",
     "text": [
      "  0%|                                                                                          | 0/475 [00:00<?, ?it/s]c:\\users\\neko_maru~\\appdata\\local\\programs\\python\\python37\\lib\\site-packages\\torch\\optim\\lr_scheduler.py:154: UserWarning: The epoch parameter in `scheduler.step()` was not necessary and is being deprecated where possible. Please use `scheduler.step()` to step the scheduler. During the deprecation, if epoch is different from None, the closed form is used instead of the new chainable form, where available. Please open an issue if you are unable to replicate your use case: https://github.com/pytorch/pytorch/issues/new/choose.\n",
      "  warnings.warn(EPOCH_DEPRECATION_WARNING, UserWarning)\n",
      "loss: 2.1622, accuracy: 0.4100: 100%|████████████████████████████████████████████████| 475/475 [00:33<00:00, 14.39it/s]\n",
      "loss: 2.4323, accuracy: 0.3600: 100%|██████████████████████████████████████████████████| 25/25 [00:07<00:00,  3.40it/s]\n",
      "E:\\notebook\\mlpractical\\mlpractical-mlp2021-22-coursework2\\pytorch_mlp_framework\\experiment_builder.py:134: UserWarning: Attempting to set identical left == right == 0 results in singular transformations; automatically expanding.\n",
      "  plt.xlim(xmin=0, xmax=len(all_grads))\n"
     ]
    },
    {
     "name": "stdout",
     "output_type": "stream",
     "text": [
      "Epoch 50: train_acc_0.4887_train_loss_1.8527_val_acc_0.4420_val_loss_2.0869 epoch time 40.3650 seconds\n",
      "Generating Gradient Flow Plot at epoch 50\n"
     ]
    },
    {
     "name": "stderr",
     "output_type": "stream",
     "text": [
      "  0%|                                                                                          | 0/475 [00:00<?, ?it/s]c:\\users\\neko_maru~\\appdata\\local\\programs\\python\\python37\\lib\\site-packages\\torch\\optim\\lr_scheduler.py:154: UserWarning: The epoch parameter in `scheduler.step()` was not necessary and is being deprecated where possible. Please use `scheduler.step()` to step the scheduler. During the deprecation, if epoch is different from None, the closed form is used instead of the new chainable form, where available. Please open an issue if you are unable to replicate your use case: https://github.com/pytorch/pytorch/issues/new/choose.\n",
      "  warnings.warn(EPOCH_DEPRECATION_WARNING, UserWarning)\n",
      "loss: 1.9357, accuracy: 0.4800: 100%|████████████████████████████████████████████████| 475/475 [00:32<00:00, 14.52it/s]\n",
      "loss: 1.9503, accuracy: 0.4700: 100%|██████████████████████████████████████████████████| 25/25 [00:07<00:00,  3.27it/s]\n",
      "E:\\notebook\\mlpractical\\mlpractical-mlp2021-22-coursework2\\pytorch_mlp_framework\\experiment_builder.py:134: UserWarning: Attempting to set identical left == right == 0 results in singular transformations; automatically expanding.\n",
      "  plt.xlim(xmin=0, xmax=len(all_grads))\n"
     ]
    },
    {
     "name": "stdout",
     "output_type": "stream",
     "text": [
      "Epoch 51: train_acc_0.4916_train_loss_1.8405_val_acc_0.4472_val_loss_2.0772 epoch time 40.3675 seconds\n",
      "Generating Gradient Flow Plot at epoch 51\n"
     ]
    },
    {
     "name": "stderr",
     "output_type": "stream",
     "text": [
      "  0%|                                                                                          | 0/475 [00:00<?, ?it/s]c:\\users\\neko_maru~\\appdata\\local\\programs\\python\\python37\\lib\\site-packages\\torch\\optim\\lr_scheduler.py:154: UserWarning: The epoch parameter in `scheduler.step()` was not necessary and is being deprecated where possible. Please use `scheduler.step()` to step the scheduler. During the deprecation, if epoch is different from None, the closed form is used instead of the new chainable form, where available. Please open an issue if you are unable to replicate your use case: https://github.com/pytorch/pytorch/issues/new/choose.\n",
      "  warnings.warn(EPOCH_DEPRECATION_WARNING, UserWarning)\n",
      "loss: 1.7025, accuracy: 0.5200: 100%|████████████████████████████████████████████████| 475/475 [00:32<00:00, 14.44it/s]\n",
      "loss: 1.9225, accuracy: 0.5100: 100%|██████████████████████████████████████████████████| 25/25 [00:07<00:00,  3.28it/s]\n",
      "E:\\notebook\\mlpractical\\mlpractical-mlp2021-22-coursework2\\pytorch_mlp_framework\\experiment_builder.py:134: UserWarning: Attempting to set identical left == right == 0 results in singular transformations; automatically expanding.\n",
      "  plt.xlim(xmin=0, xmax=len(all_grads))\n"
     ]
    },
    {
     "name": "stdout",
     "output_type": "stream",
     "text": [
      "Epoch 52: train_acc_0.4937_train_loss_1.8286_val_acc_0.4548_val_loss_2.0547 epoch time 40.5124 seconds\n",
      "Generating Gradient Flow Plot at epoch 52\n"
     ]
    },
    {
     "name": "stderr",
     "output_type": "stream",
     "text": [
      "  0%|                                                                                          | 0/475 [00:00<?, ?it/s]c:\\users\\neko_maru~\\appdata\\local\\programs\\python\\python37\\lib\\site-packages\\torch\\optim\\lr_scheduler.py:154: UserWarning: The epoch parameter in `scheduler.step()` was not necessary and is being deprecated where possible. Please use `scheduler.step()` to step the scheduler. During the deprecation, if epoch is different from None, the closed form is used instead of the new chainable form, where available. Please open an issue if you are unable to replicate your use case: https://github.com/pytorch/pytorch/issues/new/choose.\n",
      "  warnings.warn(EPOCH_DEPRECATION_WARNING, UserWarning)\n",
      "loss: 2.0383, accuracy: 0.4100: 100%|████████████████████████████████████████████████| 475/475 [00:32<00:00, 14.74it/s]\n",
      "loss: 2.0965, accuracy: 0.4300: 100%|██████████████████████████████████████████████████| 25/25 [00:07<00:00,  3.42it/s]\n",
      "E:\\notebook\\mlpractical\\mlpractical-mlp2021-22-coursework2\\pytorch_mlp_framework\\experiment_builder.py:134: UserWarning: Attempting to set identical left == right == 0 results in singular transformations; automatically expanding.\n",
      "  plt.xlim(xmin=0, xmax=len(all_grads))\n"
     ]
    },
    {
     "name": "stdout",
     "output_type": "stream",
     "text": [
      "Epoch 53: train_acc_0.4959_train_loss_1.8270_val_acc_0.4380_val_loss_2.1129 epoch time 39.5423 seconds\n",
      "Generating Gradient Flow Plot at epoch 53\n"
     ]
    },
    {
     "name": "stderr",
     "output_type": "stream",
     "text": [
      "  0%|                                                                                          | 0/475 [00:00<?, ?it/s]c:\\users\\neko_maru~\\appdata\\local\\programs\\python\\python37\\lib\\site-packages\\torch\\optim\\lr_scheduler.py:154: UserWarning: The epoch parameter in `scheduler.step()` was not necessary and is being deprecated where possible. Please use `scheduler.step()` to step the scheduler. During the deprecation, if epoch is different from None, the closed form is used instead of the new chainable form, where available. Please open an issue if you are unable to replicate your use case: https://github.com/pytorch/pytorch/issues/new/choose.\n",
      "  warnings.warn(EPOCH_DEPRECATION_WARNING, UserWarning)\n",
      "loss: 1.7107, accuracy: 0.5000: 100%|████████████████████████████████████████████████| 475/475 [00:32<00:00, 14.76it/s]\n",
      "loss: 1.7380, accuracy: 0.5000: 100%|██████████████████████████████████████████████████| 25/25 [00:07<00:00,  3.42it/s]\n",
      "E:\\notebook\\mlpractical\\mlpractical-mlp2021-22-coursework2\\pytorch_mlp_framework\\experiment_builder.py:134: UserWarning: Attempting to set identical left == right == 0 results in singular transformations; automatically expanding.\n",
      "  plt.xlim(xmin=0, xmax=len(all_grads))\n"
     ]
    },
    {
     "name": "stdout",
     "output_type": "stream",
     "text": [
      "Epoch 54: train_acc_0.4975_train_loss_1.8178_val_acc_0.4428_val_loss_2.0814 epoch time 39.4782 seconds\n",
      "Generating Gradient Flow Plot at epoch 54\n"
     ]
    },
    {
     "name": "stderr",
     "output_type": "stream",
     "text": [
      "  0%|                                                                                          | 0/475 [00:00<?, ?it/s]c:\\users\\neko_maru~\\appdata\\local\\programs\\python\\python37\\lib\\site-packages\\torch\\optim\\lr_scheduler.py:154: UserWarning: The epoch parameter in `scheduler.step()` was not necessary and is being deprecated where possible. Please use `scheduler.step()` to step the scheduler. During the deprecation, if epoch is different from None, the closed form is used instead of the new chainable form, where available. Please open an issue if you are unable to replicate your use case: https://github.com/pytorch/pytorch/issues/new/choose.\n",
      "  warnings.warn(EPOCH_DEPRECATION_WARNING, UserWarning)\n",
      "loss: 1.6464, accuracy: 0.5500: 100%|████████████████████████████████████████████████| 475/475 [00:32<00:00, 14.74it/s]\n",
      "loss: 2.0368, accuracy: 0.5000: 100%|██████████████████████████████████████████████████| 25/25 [00:07<00:00,  3.49it/s]\n",
      "E:\\notebook\\mlpractical\\mlpractical-mlp2021-22-coursework2\\pytorch_mlp_framework\\experiment_builder.py:134: UserWarning: Attempting to set identical left == right == 0 results in singular transformations; automatically expanding.\n",
      "  plt.xlim(xmin=0, xmax=len(all_grads))\n"
     ]
    },
    {
     "name": "stdout",
     "output_type": "stream",
     "text": [
      "Epoch 55: train_acc_0.4990_train_loss_1.8074_val_acc_0.4496_val_loss_2.0945 epoch time 39.3803 seconds\n",
      "Generating Gradient Flow Plot at epoch 55\n"
     ]
    },
    {
     "name": "stderr",
     "output_type": "stream",
     "text": [
      "  0%|                                                                                          | 0/475 [00:00<?, ?it/s]c:\\users\\neko_maru~\\appdata\\local\\programs\\python\\python37\\lib\\site-packages\\torch\\optim\\lr_scheduler.py:154: UserWarning: The epoch parameter in `scheduler.step()` was not necessary and is being deprecated where possible. Please use `scheduler.step()` to step the scheduler. During the deprecation, if epoch is different from None, the closed form is used instead of the new chainable form, where available. Please open an issue if you are unable to replicate your use case: https://github.com/pytorch/pytorch/issues/new/choose.\n",
      "  warnings.warn(EPOCH_DEPRECATION_WARNING, UserWarning)\n",
      "loss: 1.6504, accuracy: 0.5000: 100%|████████████████████████████████████████████████| 475/475 [00:32<00:00, 14.75it/s]\n",
      "loss: 2.3517, accuracy: 0.3800: 100%|██████████████████████████████████████████████████| 25/25 [00:07<00:00,  3.43it/s]\n",
      "E:\\notebook\\mlpractical\\mlpractical-mlp2021-22-coursework2\\pytorch_mlp_framework\\experiment_builder.py:134: UserWarning: Attempting to set identical left == right == 0 results in singular transformations; automatically expanding.\n",
      "  plt.xlim(xmin=0, xmax=len(all_grads))\n"
     ]
    },
    {
     "name": "stdout",
     "output_type": "stream",
     "text": [
      "Epoch 56: train_acc_0.5009_train_loss_1.7958_val_acc_0.4584_val_loss_2.0640 epoch time 39.4935 seconds\n",
      "Generating Gradient Flow Plot at epoch 56\n"
     ]
    },
    {
     "name": "stderr",
     "output_type": "stream",
     "text": [
      "  0%|                                                                                          | 0/475 [00:00<?, ?it/s]c:\\users\\neko_maru~\\appdata\\local\\programs\\python\\python37\\lib\\site-packages\\torch\\optim\\lr_scheduler.py:154: UserWarning: The epoch parameter in `scheduler.step()` was not necessary and is being deprecated where possible. Please use `scheduler.step()` to step the scheduler. During the deprecation, if epoch is different from None, the closed form is used instead of the new chainable form, where available. Please open an issue if you are unable to replicate your use case: https://github.com/pytorch/pytorch/issues/new/choose.\n",
      "  warnings.warn(EPOCH_DEPRECATION_WARNING, UserWarning)\n",
      "loss: 1.6409, accuracy: 0.5000: 100%|████████████████████████████████████████████████| 475/475 [00:32<00:00, 14.70it/s]\n",
      "loss: 2.3946, accuracy: 0.4000: 100%|██████████████████████████████████████████████████| 25/25 [00:07<00:00,  3.39it/s]\n",
      "E:\\notebook\\mlpractical\\mlpractical-mlp2021-22-coursework2\\pytorch_mlp_framework\\experiment_builder.py:134: UserWarning: Attempting to set identical left == right == 0 results in singular transformations; automatically expanding.\n",
      "  plt.xlim(xmin=0, xmax=len(all_grads))\n"
     ]
    },
    {
     "name": "stdout",
     "output_type": "stream",
     "text": [
      "Epoch 57: train_acc_0.5057_train_loss_1.7894_val_acc_0.4664_val_loss_2.0517 epoch time 39.7060 seconds\n",
      "Generating Gradient Flow Plot at epoch 57\n"
     ]
    },
    {
     "name": "stderr",
     "output_type": "stream",
     "text": [
      "  0%|                                                                                          | 0/475 [00:00<?, ?it/s]c:\\users\\neko_maru~\\appdata\\local\\programs\\python\\python37\\lib\\site-packages\\torch\\optim\\lr_scheduler.py:154: UserWarning: The epoch parameter in `scheduler.step()` was not necessary and is being deprecated where possible. Please use `scheduler.step()` to step the scheduler. During the deprecation, if epoch is different from None, the closed form is used instead of the new chainable form, where available. Please open an issue if you are unable to replicate your use case: https://github.com/pytorch/pytorch/issues/new/choose.\n",
      "  warnings.warn(EPOCH_DEPRECATION_WARNING, UserWarning)\n",
      "loss: 1.4484, accuracy: 0.5900: 100%|████████████████████████████████████████████████| 475/475 [00:32<00:00, 14.72it/s]\n",
      "loss: 2.2426, accuracy: 0.3900: 100%|██████████████████████████████████████████████████| 25/25 [00:07<00:00,  3.46it/s]\n",
      "E:\\notebook\\mlpractical\\mlpractical-mlp2021-22-coursework2\\pytorch_mlp_framework\\experiment_builder.py:134: UserWarning: Attempting to set identical left == right == 0 results in singular transformations; automatically expanding.\n",
      "  plt.xlim(xmin=0, xmax=len(all_grads))\n"
     ]
    },
    {
     "name": "stdout",
     "output_type": "stream",
     "text": [
      "Epoch 58: train_acc_0.5081_train_loss_1.7848_val_acc_0.4540_val_loss_2.0670 epoch time 39.4910 seconds\n",
      "Generating Gradient Flow Plot at epoch 58\n"
     ]
    },
    {
     "name": "stderr",
     "output_type": "stream",
     "text": [
      "  0%|                                                                                          | 0/475 [00:00<?, ?it/s]c:\\users\\neko_maru~\\appdata\\local\\programs\\python\\python37\\lib\\site-packages\\torch\\optim\\lr_scheduler.py:154: UserWarning: The epoch parameter in `scheduler.step()` was not necessary and is being deprecated where possible. Please use `scheduler.step()` to step the scheduler. During the deprecation, if epoch is different from None, the closed form is used instead of the new chainable form, where available. Please open an issue if you are unable to replicate your use case: https://github.com/pytorch/pytorch/issues/new/choose.\n",
      "  warnings.warn(EPOCH_DEPRECATION_WARNING, UserWarning)\n",
      "loss: 1.6096, accuracy: 0.5100: 100%|████████████████████████████████████████████████| 475/475 [00:32<00:00, 14.71it/s]\n",
      "loss: 2.1489, accuracy: 0.4100: 100%|██████████████████████████████████████████████████| 25/25 [00:07<00:00,  3.45it/s]\n",
      "E:\\notebook\\mlpractical\\mlpractical-mlp2021-22-coursework2\\pytorch_mlp_framework\\experiment_builder.py:134: UserWarning: Attempting to set identical left == right == 0 results in singular transformations; automatically expanding.\n",
      "  plt.xlim(xmin=0, xmax=len(all_grads))\n"
     ]
    },
    {
     "name": "stdout",
     "output_type": "stream",
     "text": [
      "Epoch 59: train_acc_0.5085_train_loss_1.7727_val_acc_0.4600_val_loss_2.0266 epoch time 39.5525 seconds\n",
      "Generating Gradient Flow Plot at epoch 59\n"
     ]
    },
    {
     "name": "stderr",
     "output_type": "stream",
     "text": [
      "  0%|                                                                                          | 0/475 [00:00<?, ?it/s]c:\\users\\neko_maru~\\appdata\\local\\programs\\python\\python37\\lib\\site-packages\\torch\\optim\\lr_scheduler.py:154: UserWarning: The epoch parameter in `scheduler.step()` was not necessary and is being deprecated where possible. Please use `scheduler.step()` to step the scheduler. During the deprecation, if epoch is different from None, the closed form is used instead of the new chainable form, where available. Please open an issue if you are unable to replicate your use case: https://github.com/pytorch/pytorch/issues/new/choose.\n",
      "  warnings.warn(EPOCH_DEPRECATION_WARNING, UserWarning)\n",
      "loss: 1.8758, accuracy: 0.4600: 100%|████████████████████████████████████████████████| 475/475 [00:32<00:00, 14.75it/s]\n",
      "loss: 2.1127, accuracy: 0.4500: 100%|██████████████████████████████████████████████████| 25/25 [00:07<00:00,  3.43it/s]\n",
      "E:\\notebook\\mlpractical\\mlpractical-mlp2021-22-coursework2\\pytorch_mlp_framework\\experiment_builder.py:134: UserWarning: Attempting to set identical left == right == 0 results in singular transformations; automatically expanding.\n",
      "  plt.xlim(xmin=0, xmax=len(all_grads))\n"
     ]
    },
    {
     "name": "stdout",
     "output_type": "stream",
     "text": [
      "Epoch 60: train_acc_0.5080_train_loss_1.7780_val_acc_0.4616_val_loss_2.0332 epoch time 39.5013 seconds\n",
      "Generating Gradient Flow Plot at epoch 60\n"
     ]
    },
    {
     "name": "stderr",
     "output_type": "stream",
     "text": [
      "  0%|                                                                                          | 0/475 [00:00<?, ?it/s]c:\\users\\neko_maru~\\appdata\\local\\programs\\python\\python37\\lib\\site-packages\\torch\\optim\\lr_scheduler.py:154: UserWarning: The epoch parameter in `scheduler.step()` was not necessary and is being deprecated where possible. Please use `scheduler.step()` to step the scheduler. During the deprecation, if epoch is different from None, the closed form is used instead of the new chainable form, where available. Please open an issue if you are unable to replicate your use case: https://github.com/pytorch/pytorch/issues/new/choose.\n",
      "  warnings.warn(EPOCH_DEPRECATION_WARNING, UserWarning)\n",
      "loss: 2.1169, accuracy: 0.4700: 100%|████████████████████████████████████████████████| 475/475 [00:32<00:00, 14.48it/s]\n",
      "loss: 2.1446, accuracy: 0.4600: 100%|██████████████████████████████████████████████████| 25/25 [00:07<00:00,  3.40it/s]\n",
      "E:\\notebook\\mlpractical\\mlpractical-mlp2021-22-coursework2\\pytorch_mlp_framework\\experiment_builder.py:134: UserWarning: Attempting to set identical left == right == 0 results in singular transformations; automatically expanding.\n",
      "  plt.xlim(xmin=0, xmax=len(all_grads))\n"
     ]
    },
    {
     "name": "stdout",
     "output_type": "stream",
     "text": [
      "Epoch 61: train_acc_0.5093_train_loss_1.7605_val_acc_0.4552_val_loss_2.0505 epoch time 40.1643 seconds\n",
      "Generating Gradient Flow Plot at epoch 61\n"
     ]
    },
    {
     "name": "stderr",
     "output_type": "stream",
     "text": [
      "  0%|                                                                                          | 0/475 [00:00<?, ?it/s]c:\\users\\neko_maru~\\appdata\\local\\programs\\python\\python37\\lib\\site-packages\\torch\\optim\\lr_scheduler.py:154: UserWarning: The epoch parameter in `scheduler.step()` was not necessary and is being deprecated where possible. Please use `scheduler.step()` to step the scheduler. During the deprecation, if epoch is different from None, the closed form is used instead of the new chainable form, where available. Please open an issue if you are unable to replicate your use case: https://github.com/pytorch/pytorch/issues/new/choose.\n",
      "  warnings.warn(EPOCH_DEPRECATION_WARNING, UserWarning)\n",
      "loss: 1.6900, accuracy: 0.5400: 100%|████████████████████████████████████████████████| 475/475 [00:32<00:00, 14.70it/s]\n",
      "loss: 2.3340, accuracy: 0.3800: 100%|██████████████████████████████████████████████████| 25/25 [00:07<00:00,  3.41it/s]\n",
      "E:\\notebook\\mlpractical\\mlpractical-mlp2021-22-coursework2\\pytorch_mlp_framework\\experiment_builder.py:134: UserWarning: Attempting to set identical left == right == 0 results in singular transformations; automatically expanding.\n",
      "  plt.xlim(xmin=0, xmax=len(all_grads))\n"
     ]
    },
    {
     "name": "stdout",
     "output_type": "stream",
     "text": [
      "Epoch 62: train_acc_0.5126_train_loss_1.7556_val_acc_0.4648_val_loss_2.0458 epoch time 39.6549 seconds\n",
      "Generating Gradient Flow Plot at epoch 62\n"
     ]
    },
    {
     "name": "stderr",
     "output_type": "stream",
     "text": [
      "  0%|                                                                                          | 0/475 [00:00<?, ?it/s]c:\\users\\neko_maru~\\appdata\\local\\programs\\python\\python37\\lib\\site-packages\\torch\\optim\\lr_scheduler.py:154: UserWarning: The epoch parameter in `scheduler.step()` was not necessary and is being deprecated where possible. Please use `scheduler.step()` to step the scheduler. During the deprecation, if epoch is different from None, the closed form is used instead of the new chainable form, where available. Please open an issue if you are unable to replicate your use case: https://github.com/pytorch/pytorch/issues/new/choose.\n",
      "  warnings.warn(EPOCH_DEPRECATION_WARNING, UserWarning)\n",
      "loss: 1.9882, accuracy: 0.4800: 100%|████████████████████████████████████████████████| 475/475 [00:32<00:00, 14.68it/s]\n",
      "loss: 2.2808, accuracy: 0.4100: 100%|██████████████████████████████████████████████████| 25/25 [00:07<00:00,  3.40it/s]\n",
      "E:\\notebook\\mlpractical\\mlpractical-mlp2021-22-coursework2\\pytorch_mlp_framework\\experiment_builder.py:134: UserWarning: Attempting to set identical left == right == 0 results in singular transformations; automatically expanding.\n",
      "  plt.xlim(xmin=0, xmax=len(all_grads))\n"
     ]
    },
    {
     "name": "stdout",
     "output_type": "stream",
     "text": [
      "Epoch 63: train_acc_0.5121_train_loss_1.7527_val_acc_0.4688_val_loss_2.0298 epoch time 39.7012 seconds\n",
      "Generating Gradient Flow Plot at epoch 63\n"
     ]
    },
    {
     "name": "stderr",
     "output_type": "stream",
     "text": [
      "  0%|                                                                                          | 0/475 [00:00<?, ?it/s]c:\\users\\neko_maru~\\appdata\\local\\programs\\python\\python37\\lib\\site-packages\\torch\\optim\\lr_scheduler.py:154: UserWarning: The epoch parameter in `scheduler.step()` was not necessary and is being deprecated where possible. Please use `scheduler.step()` to step the scheduler. During the deprecation, if epoch is different from None, the closed form is used instead of the new chainable form, where available. Please open an issue if you are unable to replicate your use case: https://github.com/pytorch/pytorch/issues/new/choose.\n",
      "  warnings.warn(EPOCH_DEPRECATION_WARNING, UserWarning)\n",
      "loss: 2.0822, accuracy: 0.4500: 100%|████████████████████████████████████████████████| 475/475 [00:32<00:00, 14.68it/s]\n",
      "loss: 2.1378, accuracy: 0.4600: 100%|██████████████████████████████████████████████████| 25/25 [00:07<00:00,  3.48it/s]\n",
      "E:\\notebook\\mlpractical\\mlpractical-mlp2021-22-coursework2\\pytorch_mlp_framework\\experiment_builder.py:134: UserWarning: Attempting to set identical left == right == 0 results in singular transformations; automatically expanding.\n",
      "  plt.xlim(xmin=0, xmax=len(all_grads))\n"
     ]
    },
    {
     "name": "stdout",
     "output_type": "stream",
     "text": [
      "Epoch 64: train_acc_0.5171_train_loss_1.7408_val_acc_0.4676_val_loss_2.0266 epoch time 39.5393 seconds\n",
      "Generating Gradient Flow Plot at epoch 64\n"
     ]
    },
    {
     "name": "stderr",
     "output_type": "stream",
     "text": [
      "  0%|                                                                                          | 0/475 [00:00<?, ?it/s]c:\\users\\neko_maru~\\appdata\\local\\programs\\python\\python37\\lib\\site-packages\\torch\\optim\\lr_scheduler.py:154: UserWarning: The epoch parameter in `scheduler.step()` was not necessary and is being deprecated where possible. Please use `scheduler.step()` to step the scheduler. During the deprecation, if epoch is different from None, the closed form is used instead of the new chainable form, where available. Please open an issue if you are unable to replicate your use case: https://github.com/pytorch/pytorch/issues/new/choose.\n",
      "  warnings.warn(EPOCH_DEPRECATION_WARNING, UserWarning)\n",
      "loss: 1.9242, accuracy: 0.4800: 100%|████████████████████████████████████████████████| 475/475 [00:32<00:00, 14.67it/s]\n",
      "loss: 2.0777, accuracy: 0.4400: 100%|██████████████████████████████████████████████████| 25/25 [00:07<00:00,  3.40it/s]\n",
      "E:\\notebook\\mlpractical\\mlpractical-mlp2021-22-coursework2\\pytorch_mlp_framework\\experiment_builder.py:134: UserWarning: Attempting to set identical left == right == 0 results in singular transformations; automatically expanding.\n",
      "  plt.xlim(xmin=0, xmax=len(all_grads))\n"
     ]
    },
    {
     "name": "stdout",
     "output_type": "stream",
     "text": [
      "Epoch 65: train_acc_0.5160_train_loss_1.7430_val_acc_0.4744_val_loss_2.0003 epoch time 39.7318 seconds\n",
      "Generating Gradient Flow Plot at epoch 65\n"
     ]
    },
    {
     "name": "stderr",
     "output_type": "stream",
     "text": [
      "  0%|                                                                                          | 0/475 [00:00<?, ?it/s]c:\\users\\neko_maru~\\appdata\\local\\programs\\python\\python37\\lib\\site-packages\\torch\\optim\\lr_scheduler.py:154: UserWarning: The epoch parameter in `scheduler.step()` was not necessary and is being deprecated where possible. Please use `scheduler.step()` to step the scheduler. During the deprecation, if epoch is different from None, the closed form is used instead of the new chainable form, where available. Please open an issue if you are unable to replicate your use case: https://github.com/pytorch/pytorch/issues/new/choose.\n",
      "  warnings.warn(EPOCH_DEPRECATION_WARNING, UserWarning)\n",
      "loss: 1.5411, accuracy: 0.5300: 100%|████████████████████████████████████████████████| 475/475 [00:32<00:00, 14.70it/s]\n",
      "loss: 1.5178, accuracy: 0.5700: 100%|██████████████████████████████████████████████████| 25/25 [00:07<00:00,  3.48it/s]\n",
      "E:\\notebook\\mlpractical\\mlpractical-mlp2021-22-coursework2\\pytorch_mlp_framework\\experiment_builder.py:134: UserWarning: Attempting to set identical left == right == 0 results in singular transformations; automatically expanding.\n",
      "  plt.xlim(xmin=0, xmax=len(all_grads))\n"
     ]
    },
    {
     "name": "stdout",
     "output_type": "stream",
     "text": [
      "Epoch 66: train_acc_0.5177_train_loss_1.7363_val_acc_0.4584_val_loss_2.0506 epoch time 39.5125 seconds\n",
      "Generating Gradient Flow Plot at epoch 66\n"
     ]
    },
    {
     "name": "stderr",
     "output_type": "stream",
     "text": [
      "  0%|                                                                                          | 0/475 [00:00<?, ?it/s]c:\\users\\neko_maru~\\appdata\\local\\programs\\python\\python37\\lib\\site-packages\\torch\\optim\\lr_scheduler.py:154: UserWarning: The epoch parameter in `scheduler.step()` was not necessary and is being deprecated where possible. Please use `scheduler.step()` to step the scheduler. During the deprecation, if epoch is different from None, the closed form is used instead of the new chainable form, where available. Please open an issue if you are unable to replicate your use case: https://github.com/pytorch/pytorch/issues/new/choose.\n",
      "  warnings.warn(EPOCH_DEPRECATION_WARNING, UserWarning)\n",
      "loss: 1.7169, accuracy: 0.5000: 100%|████████████████████████████████████████████████| 475/475 [00:32<00:00, 14.71it/s]\n",
      "loss: 1.9944, accuracy: 0.5900: 100%|██████████████████████████████████████████████████| 25/25 [00:07<00:00,  3.37it/s]\n",
      "E:\\notebook\\mlpractical\\mlpractical-mlp2021-22-coursework2\\pytorch_mlp_framework\\experiment_builder.py:134: UserWarning: Attempting to set identical left == right == 0 results in singular transformations; automatically expanding.\n",
      "  plt.xlim(xmin=0, xmax=len(all_grads))\n"
     ]
    },
    {
     "name": "stdout",
     "output_type": "stream",
     "text": [
      "Epoch 67: train_acc_0.5184_train_loss_1.7274_val_acc_0.4756_val_loss_2.0215 epoch time 39.7115 seconds\n",
      "Generating Gradient Flow Plot at epoch 67\n"
     ]
    },
    {
     "name": "stderr",
     "output_type": "stream",
     "text": [
      "  0%|                                                                                          | 0/475 [00:00<?, ?it/s]c:\\users\\neko_maru~\\appdata\\local\\programs\\python\\python37\\lib\\site-packages\\torch\\optim\\lr_scheduler.py:154: UserWarning: The epoch parameter in `scheduler.step()` was not necessary and is being deprecated where possible. Please use `scheduler.step()` to step the scheduler. During the deprecation, if epoch is different from None, the closed form is used instead of the new chainable form, where available. Please open an issue if you are unable to replicate your use case: https://github.com/pytorch/pytorch/issues/new/choose.\n",
      "  warnings.warn(EPOCH_DEPRECATION_WARNING, UserWarning)\n",
      "loss: 1.3077, accuracy: 0.6600: 100%|████████████████████████████████████████████████| 475/475 [00:32<00:00, 14.71it/s]\n",
      "loss: 2.4646, accuracy: 0.4500: 100%|██████████████████████████████████████████████████| 25/25 [00:07<00:00,  3.47it/s]\n",
      "E:\\notebook\\mlpractical\\mlpractical-mlp2021-22-coursework2\\pytorch_mlp_framework\\experiment_builder.py:134: UserWarning: Attempting to set identical left == right == 0 results in singular transformations; automatically expanding.\n",
      "  plt.xlim(xmin=0, xmax=len(all_grads))\n"
     ]
    },
    {
     "name": "stdout",
     "output_type": "stream",
     "text": [
      "Epoch 68: train_acc_0.5216_train_loss_1.7202_val_acc_0.4708_val_loss_2.0533 epoch time 39.5103 seconds\n",
      "Generating Gradient Flow Plot at epoch 68\n"
     ]
    },
    {
     "name": "stderr",
     "output_type": "stream",
     "text": [
      "  0%|                                                                                          | 0/475 [00:00<?, ?it/s]c:\\users\\neko_maru~\\appdata\\local\\programs\\python\\python37\\lib\\site-packages\\torch\\optim\\lr_scheduler.py:154: UserWarning: The epoch parameter in `scheduler.step()` was not necessary and is being deprecated where possible. Please use `scheduler.step()` to step the scheduler. During the deprecation, if epoch is different from None, the closed form is used instead of the new chainable form, where available. Please open an issue if you are unable to replicate your use case: https://github.com/pytorch/pytorch/issues/new/choose.\n",
      "  warnings.warn(EPOCH_DEPRECATION_WARNING, UserWarning)\n",
      "loss: 1.7007, accuracy: 0.5600: 100%|████████████████████████████████████████████████| 475/475 [00:32<00:00, 14.69it/s]\n",
      "loss: 1.9933, accuracy: 0.5000: 100%|██████████████████████████████████████████████████| 25/25 [00:07<00:00,  3.41it/s]\n",
      "E:\\notebook\\mlpractical\\mlpractical-mlp2021-22-coursework2\\pytorch_mlp_framework\\experiment_builder.py:134: UserWarning: Attempting to set identical left == right == 0 results in singular transformations; automatically expanding.\n",
      "  plt.xlim(xmin=0, xmax=len(all_grads))\n"
     ]
    },
    {
     "name": "stdout",
     "output_type": "stream",
     "text": [
      "Epoch 69: train_acc_0.5219_train_loss_1.7173_val_acc_0.4716_val_loss_2.0184 epoch time 39.6806 seconds\n",
      "Generating Gradient Flow Plot at epoch 69\n"
     ]
    },
    {
     "name": "stderr",
     "output_type": "stream",
     "text": [
      "  0%|                                                                                          | 0/475 [00:00<?, ?it/s]c:\\users\\neko_maru~\\appdata\\local\\programs\\python\\python37\\lib\\site-packages\\torch\\optim\\lr_scheduler.py:154: UserWarning: The epoch parameter in `scheduler.step()` was not necessary and is being deprecated where possible. Please use `scheduler.step()` to step the scheduler. During the deprecation, if epoch is different from None, the closed form is used instead of the new chainable form, where available. Please open an issue if you are unable to replicate your use case: https://github.com/pytorch/pytorch/issues/new/choose.\n",
      "  warnings.warn(EPOCH_DEPRECATION_WARNING, UserWarning)\n",
      "loss: 1.7613, accuracy: 0.4900: 100%|████████████████████████████████████████████████| 475/475 [00:32<00:00, 14.65it/s]\n",
      "loss: 2.1005, accuracy: 0.4400: 100%|██████████████████████████████████████████████████| 25/25 [00:07<00:00,  3.43it/s]\n",
      "E:\\notebook\\mlpractical\\mlpractical-mlp2021-22-coursework2\\pytorch_mlp_framework\\experiment_builder.py:134: UserWarning: Attempting to set identical left == right == 0 results in singular transformations; automatically expanding.\n",
      "  plt.xlim(xmin=0, xmax=len(all_grads))\n"
     ]
    },
    {
     "name": "stdout",
     "output_type": "stream",
     "text": [
      "Epoch 70: train_acc_0.5221_train_loss_1.7162_val_acc_0.4728_val_loss_1.9932 epoch time 39.7186 seconds\n",
      "Generating Gradient Flow Plot at epoch 70\n"
     ]
    },
    {
     "name": "stderr",
     "output_type": "stream",
     "text": [
      "  0%|                                                                                          | 0/475 [00:00<?, ?it/s]c:\\users\\neko_maru~\\appdata\\local\\programs\\python\\python37\\lib\\site-packages\\torch\\optim\\lr_scheduler.py:154: UserWarning: The epoch parameter in `scheduler.step()` was not necessary and is being deprecated where possible. Please use `scheduler.step()` to step the scheduler. During the deprecation, if epoch is different from None, the closed form is used instead of the new chainable form, where available. Please open an issue if you are unable to replicate your use case: https://github.com/pytorch/pytorch/issues/new/choose.\n",
      "  warnings.warn(EPOCH_DEPRECATION_WARNING, UserWarning)\n",
      "loss: 1.5340, accuracy: 0.5200: 100%|████████████████████████████████████████████████| 475/475 [00:32<00:00, 14.67it/s]\n",
      "loss: 2.2138, accuracy: 0.4400: 100%|██████████████████████████████████████████████████| 25/25 [00:07<00:00,  3.41it/s]\n",
      "E:\\notebook\\mlpractical\\mlpractical-mlp2021-22-coursework2\\pytorch_mlp_framework\\experiment_builder.py:134: UserWarning: Attempting to set identical left == right == 0 results in singular transformations; automatically expanding.\n",
      "  plt.xlim(xmin=0, xmax=len(all_grads))\n"
     ]
    },
    {
     "name": "stdout",
     "output_type": "stream",
     "text": [
      "Epoch 71: train_acc_0.5234_train_loss_1.7064_val_acc_0.4716_val_loss_2.0073 epoch time 39.7258 seconds\n",
      "Generating Gradient Flow Plot at epoch 71\n"
     ]
    },
    {
     "name": "stderr",
     "output_type": "stream",
     "text": [
      "  0%|                                                                                          | 0/475 [00:00<?, ?it/s]c:\\users\\neko_maru~\\appdata\\local\\programs\\python\\python37\\lib\\site-packages\\torch\\optim\\lr_scheduler.py:154: UserWarning: The epoch parameter in `scheduler.step()` was not necessary and is being deprecated where possible. Please use `scheduler.step()` to step the scheduler. During the deprecation, if epoch is different from None, the closed form is used instead of the new chainable form, where available. Please open an issue if you are unable to replicate your use case: https://github.com/pytorch/pytorch/issues/new/choose.\n",
      "  warnings.warn(EPOCH_DEPRECATION_WARNING, UserWarning)\n",
      "loss: 1.5820, accuracy: 0.5700: 100%|████████████████████████████████████████████████| 475/475 [00:33<00:00, 14.26it/s]\n",
      "loss: 2.2069, accuracy: 0.4500: 100%|██████████████████████████████████████████████████| 25/25 [00:07<00:00,  3.27it/s]\n",
      "E:\\notebook\\mlpractical\\mlpractical-mlp2021-22-coursework2\\pytorch_mlp_framework\\experiment_builder.py:134: UserWarning: Attempting to set identical left == right == 0 results in singular transformations; automatically expanding.\n",
      "  plt.xlim(xmin=0, xmax=len(all_grads))\n"
     ]
    },
    {
     "name": "stdout",
     "output_type": "stream",
     "text": [
      "Epoch 72: train_acc_0.5247_train_loss_1.7069_val_acc_0.4772_val_loss_1.9834 epoch time 40.9730 seconds\n",
      "Generating Gradient Flow Plot at epoch 72\n"
     ]
    },
    {
     "name": "stderr",
     "output_type": "stream",
     "text": [
      "  0%|                                                                                          | 0/475 [00:00<?, ?it/s]c:\\users\\neko_maru~\\appdata\\local\\programs\\python\\python37\\lib\\site-packages\\torch\\optim\\lr_scheduler.py:154: UserWarning: The epoch parameter in `scheduler.step()` was not necessary and is being deprecated where possible. Please use `scheduler.step()` to step the scheduler. During the deprecation, if epoch is different from None, the closed form is used instead of the new chainable form, where available. Please open an issue if you are unable to replicate your use case: https://github.com/pytorch/pytorch/issues/new/choose.\n",
      "  warnings.warn(EPOCH_DEPRECATION_WARNING, UserWarning)\n",
      "loss: 1.5338, accuracy: 0.5300: 100%|████████████████████████████████████████████████| 475/475 [00:32<00:00, 14.63it/s]\n",
      "loss: 1.8089, accuracy: 0.4500: 100%|██████████████████████████████████████████████████| 25/25 [00:07<00:00,  3.38it/s]\n",
      "E:\\notebook\\mlpractical\\mlpractical-mlp2021-22-coursework2\\pytorch_mlp_framework\\experiment_builder.py:134: UserWarning: Attempting to set identical left == right == 0 results in singular transformations; automatically expanding.\n",
      "  plt.xlim(xmin=0, xmax=len(all_grads))\n"
     ]
    },
    {
     "name": "stdout",
     "output_type": "stream",
     "text": [
      "Epoch 73: train_acc_0.5276_train_loss_1.6937_val_acc_0.4692_val_loss_2.0039 epoch time 39.8737 seconds\n",
      "Generating Gradient Flow Plot at epoch 73\n"
     ]
    },
    {
     "name": "stderr",
     "output_type": "stream",
     "text": [
      "  0%|                                                                                          | 0/475 [00:00<?, ?it/s]c:\\users\\neko_maru~\\appdata\\local\\programs\\python\\python37\\lib\\site-packages\\torch\\optim\\lr_scheduler.py:154: UserWarning: The epoch parameter in `scheduler.step()` was not necessary and is being deprecated where possible. Please use `scheduler.step()` to step the scheduler. During the deprecation, if epoch is different from None, the closed form is used instead of the new chainable form, where available. Please open an issue if you are unable to replicate your use case: https://github.com/pytorch/pytorch/issues/new/choose.\n",
      "  warnings.warn(EPOCH_DEPRECATION_WARNING, UserWarning)\n",
      "loss: 1.6342, accuracy: 0.5200: 100%|████████████████████████████████████████████████| 475/475 [00:32<00:00, 14.61it/s]\n",
      "loss: 2.0517, accuracy: 0.4900: 100%|██████████████████████████████████████████████████| 25/25 [00:07<00:00,  3.48it/s]\n",
      "E:\\notebook\\mlpractical\\mlpractical-mlp2021-22-coursework2\\pytorch_mlp_framework\\experiment_builder.py:134: UserWarning: Attempting to set identical left == right == 0 results in singular transformations; automatically expanding.\n",
      "  plt.xlim(xmin=0, xmax=len(all_grads))\n"
     ]
    },
    {
     "name": "stdout",
     "output_type": "stream",
     "text": [
      "Epoch 74: train_acc_0.5279_train_loss_1.6930_val_acc_0.4768_val_loss_1.9961 epoch time 39.6959 seconds\n",
      "Generating Gradient Flow Plot at epoch 74\n"
     ]
    },
    {
     "name": "stderr",
     "output_type": "stream",
     "text": [
      "  0%|                                                                                          | 0/475 [00:00<?, ?it/s]c:\\users\\neko_maru~\\appdata\\local\\programs\\python\\python37\\lib\\site-packages\\torch\\optim\\lr_scheduler.py:154: UserWarning: The epoch parameter in `scheduler.step()` was not necessary and is being deprecated where possible. Please use `scheduler.step()` to step the scheduler. During the deprecation, if epoch is different from None, the closed form is used instead of the new chainable form, where available. Please open an issue if you are unable to replicate your use case: https://github.com/pytorch/pytorch/issues/new/choose.\n",
      "  warnings.warn(EPOCH_DEPRECATION_WARNING, UserWarning)\n",
      "loss: 1.5158, accuracy: 0.5900: 100%|████████████████████████████████████████████████| 475/475 [00:32<00:00, 14.53it/s]\n",
      "loss: 2.2670, accuracy: 0.4500: 100%|██████████████████████████████████████████████████| 25/25 [00:07<00:00,  3.36it/s]\n",
      "E:\\notebook\\mlpractical\\mlpractical-mlp2021-22-coursework2\\pytorch_mlp_framework\\experiment_builder.py:134: UserWarning: Attempting to set identical left == right == 0 results in singular transformations; automatically expanding.\n",
      "  plt.xlim(xmin=0, xmax=len(all_grads))\n"
     ]
    },
    {
     "name": "stdout",
     "output_type": "stream",
     "text": [
      "Epoch 75: train_acc_0.5294_train_loss_1.6871_val_acc_0.4852_val_loss_1.9762 epoch time 40.1242 seconds\n",
      "Generating Gradient Flow Plot at epoch 75\n"
     ]
    },
    {
     "name": "stderr",
     "output_type": "stream",
     "text": [
      "  0%|                                                                                          | 0/475 [00:00<?, ?it/s]c:\\users\\neko_maru~\\appdata\\local\\programs\\python\\python37\\lib\\site-packages\\torch\\optim\\lr_scheduler.py:154: UserWarning: The epoch parameter in `scheduler.step()` was not necessary and is being deprecated where possible. Please use `scheduler.step()` to step the scheduler. During the deprecation, if epoch is different from None, the closed form is used instead of the new chainable form, where available. Please open an issue if you are unable to replicate your use case: https://github.com/pytorch/pytorch/issues/new/choose.\n",
      "  warnings.warn(EPOCH_DEPRECATION_WARNING, UserWarning)\n",
      "loss: 1.7269, accuracy: 0.5000: 100%|████████████████████████████████████████████████| 475/475 [00:32<00:00, 14.51it/s]\n",
      "loss: 1.8716, accuracy: 0.5100: 100%|██████████████████████████████████████████████████| 25/25 [00:07<00:00,  3.39it/s]\n",
      "E:\\notebook\\mlpractical\\mlpractical-mlp2021-22-coursework2\\pytorch_mlp_framework\\experiment_builder.py:134: UserWarning: Attempting to set identical left == right == 0 results in singular transformations; automatically expanding.\n",
      "  plt.xlim(xmin=0, xmax=len(all_grads))\n"
     ]
    },
    {
     "name": "stdout",
     "output_type": "stream",
     "text": [
      "Epoch 76: train_acc_0.5334_train_loss_1.6772_val_acc_0.4752_val_loss_1.9975 epoch time 40.1125 seconds\n",
      "Generating Gradient Flow Plot at epoch 76\n"
     ]
    },
    {
     "name": "stderr",
     "output_type": "stream",
     "text": [
      "  0%|                                                                                          | 0/475 [00:00<?, ?it/s]c:\\users\\neko_maru~\\appdata\\local\\programs\\python\\python37\\lib\\site-packages\\torch\\optim\\lr_scheduler.py:154: UserWarning: The epoch parameter in `scheduler.step()` was not necessary and is being deprecated where possible. Please use `scheduler.step()` to step the scheduler. During the deprecation, if epoch is different from None, the closed form is used instead of the new chainable form, where available. Please open an issue if you are unable to replicate your use case: https://github.com/pytorch/pytorch/issues/new/choose.\n",
      "  warnings.warn(EPOCH_DEPRECATION_WARNING, UserWarning)\n",
      "loss: 1.6322, accuracy: 0.5400: 100%|████████████████████████████████████████████████| 475/475 [00:33<00:00, 14.39it/s]\n",
      "loss: 1.8926, accuracy: 0.5500: 100%|██████████████████████████████████████████████████| 25/25 [00:07<00:00,  3.34it/s]\n",
      "E:\\notebook\\mlpractical\\mlpractical-mlp2021-22-coursework2\\pytorch_mlp_framework\\experiment_builder.py:134: UserWarning: Attempting to set identical left == right == 0 results in singular transformations; automatically expanding.\n",
      "  plt.xlim(xmin=0, xmax=len(all_grads))\n"
     ]
    },
    {
     "name": "stdout",
     "output_type": "stream",
     "text": [
      "Epoch 77: train_acc_0.5312_train_loss_1.6771_val_acc_0.4756_val_loss_1.9854 epoch time 40.4936 seconds\n",
      "Generating Gradient Flow Plot at epoch 77\n"
     ]
    },
    {
     "name": "stderr",
     "output_type": "stream",
     "text": [
      "  0%|                                                                                          | 0/475 [00:00<?, ?it/s]c:\\users\\neko_maru~\\appdata\\local\\programs\\python\\python37\\lib\\site-packages\\torch\\optim\\lr_scheduler.py:154: UserWarning: The epoch parameter in `scheduler.step()` was not necessary and is being deprecated where possible. Please use `scheduler.step()` to step the scheduler. During the deprecation, if epoch is different from None, the closed form is used instead of the new chainable form, where available. Please open an issue if you are unable to replicate your use case: https://github.com/pytorch/pytorch/issues/new/choose.\n",
      "  warnings.warn(EPOCH_DEPRECATION_WARNING, UserWarning)\n",
      "loss: 1.6502, accuracy: 0.5800: 100%|████████████████████████████████████████████████| 475/475 [00:32<00:00, 14.49it/s]\n",
      "loss: 1.8564, accuracy: 0.5000: 100%|██████████████████████████████████████████████████| 25/25 [00:07<00:00,  3.40it/s]\n",
      "E:\\notebook\\mlpractical\\mlpractical-mlp2021-22-coursework2\\pytorch_mlp_framework\\experiment_builder.py:134: UserWarning: Attempting to set identical left == right == 0 results in singular transformations; automatically expanding.\n",
      "  plt.xlim(xmin=0, xmax=len(all_grads))\n"
     ]
    },
    {
     "name": "stdout",
     "output_type": "stream",
     "text": [
      "Epoch 78: train_acc_0.5314_train_loss_1.6749_val_acc_0.4784_val_loss_1.9933 epoch time 40.1299 seconds\n",
      "Generating Gradient Flow Plot at epoch 78\n"
     ]
    },
    {
     "name": "stderr",
     "output_type": "stream",
     "text": [
      "  0%|                                                                                          | 0/475 [00:00<?, ?it/s]c:\\users\\neko_maru~\\appdata\\local\\programs\\python\\python37\\lib\\site-packages\\torch\\optim\\lr_scheduler.py:154: UserWarning: The epoch parameter in `scheduler.step()` was not necessary and is being deprecated where possible. Please use `scheduler.step()` to step the scheduler. During the deprecation, if epoch is different from None, the closed form is used instead of the new chainable form, where available. Please open an issue if you are unable to replicate your use case: https://github.com/pytorch/pytorch/issues/new/choose.\n",
      "  warnings.warn(EPOCH_DEPRECATION_WARNING, UserWarning)\n",
      "loss: 1.4721, accuracy: 0.5900: 100%|████████████████████████████████████████████████| 475/475 [00:32<00:00, 14.66it/s]\n",
      "loss: 2.0413, accuracy: 0.4800: 100%|██████████████████████████████████████████████████| 25/25 [00:07<00:00,  3.40it/s]\n",
      "E:\\notebook\\mlpractical\\mlpractical-mlp2021-22-coursework2\\pytorch_mlp_framework\\experiment_builder.py:134: UserWarning: Attempting to set identical left == right == 0 results in singular transformations; automatically expanding.\n",
      "  plt.xlim(xmin=0, xmax=len(all_grads))\n"
     ]
    },
    {
     "name": "stdout",
     "output_type": "stream",
     "text": [
      "Epoch 79: train_acc_0.5345_train_loss_1.6653_val_acc_0.4744_val_loss_2.0104 epoch time 39.7561 seconds\n",
      "Generating Gradient Flow Plot at epoch 79\n"
     ]
    },
    {
     "name": "stderr",
     "output_type": "stream",
     "text": [
      "  0%|                                                                                          | 0/475 [00:00<?, ?it/s]c:\\users\\neko_maru~\\appdata\\local\\programs\\python\\python37\\lib\\site-packages\\torch\\optim\\lr_scheduler.py:154: UserWarning: The epoch parameter in `scheduler.step()` was not necessary and is being deprecated where possible. Please use `scheduler.step()` to step the scheduler. During the deprecation, if epoch is different from None, the closed form is used instead of the new chainable form, where available. Please open an issue if you are unable to replicate your use case: https://github.com/pytorch/pytorch/issues/new/choose.\n",
      "  warnings.warn(EPOCH_DEPRECATION_WARNING, UserWarning)\n",
      "loss: 1.6764, accuracy: 0.5800: 100%|████████████████████████████████████████████████| 475/475 [00:32<00:00, 14.40it/s]\n",
      "loss: 1.9112, accuracy: 0.4400: 100%|██████████████████████████████████████████████████| 25/25 [00:07<00:00,  3.22it/s]\n",
      "E:\\notebook\\mlpractical\\mlpractical-mlp2021-22-coursework2\\pytorch_mlp_framework\\experiment_builder.py:134: UserWarning: Attempting to set identical left == right == 0 results in singular transformations; automatically expanding.\n",
      "  plt.xlim(xmin=0, xmax=len(all_grads))\n"
     ]
    },
    {
     "name": "stdout",
     "output_type": "stream",
     "text": [
      "Epoch 80: train_acc_0.5333_train_loss_1.6645_val_acc_0.4828_val_loss_1.9910 epoch time 40.7639 seconds\n",
      "Generating Gradient Flow Plot at epoch 80\n"
     ]
    },
    {
     "name": "stderr",
     "output_type": "stream",
     "text": [
      "  0%|                                                                                          | 0/475 [00:00<?, ?it/s]c:\\users\\neko_maru~\\appdata\\local\\programs\\python\\python37\\lib\\site-packages\\torch\\optim\\lr_scheduler.py:154: UserWarning: The epoch parameter in `scheduler.step()` was not necessary and is being deprecated where possible. Please use `scheduler.step()` to step the scheduler. During the deprecation, if epoch is different from None, the closed form is used instead of the new chainable form, where available. Please open an issue if you are unable to replicate your use case: https://github.com/pytorch/pytorch/issues/new/choose.\n",
      "  warnings.warn(EPOCH_DEPRECATION_WARNING, UserWarning)\n",
      "loss: 1.6823, accuracy: 0.5100: 100%|████████████████████████████████████████████████| 475/475 [00:33<00:00, 14.23it/s]\n",
      "loss: 1.9095, accuracy: 0.4900: 100%|██████████████████████████████████████████████████| 25/25 [00:07<00:00,  3.17it/s]\n",
      "E:\\notebook\\mlpractical\\mlpractical-mlp2021-22-coursework2\\pytorch_mlp_framework\\experiment_builder.py:134: UserWarning: Attempting to set identical left == right == 0 results in singular transformations; automatically expanding.\n",
      "  plt.xlim(xmin=0, xmax=len(all_grads))\n"
     ]
    },
    {
     "name": "stdout",
     "output_type": "stream",
     "text": [
      "Epoch 81: train_acc_0.5340_train_loss_1.6634_val_acc_0.4864_val_loss_1.9775 epoch time 41.2795 seconds\n",
      "Generating Gradient Flow Plot at epoch 81\n"
     ]
    },
    {
     "name": "stderr",
     "output_type": "stream",
     "text": [
      "  0%|                                                                                          | 0/475 [00:00<?, ?it/s]c:\\users\\neko_maru~\\appdata\\local\\programs\\python\\python37\\lib\\site-packages\\torch\\optim\\lr_scheduler.py:154: UserWarning: The epoch parameter in `scheduler.step()` was not necessary and is being deprecated where possible. Please use `scheduler.step()` to step the scheduler. During the deprecation, if epoch is different from None, the closed form is used instead of the new chainable form, where available. Please open an issue if you are unable to replicate your use case: https://github.com/pytorch/pytorch/issues/new/choose.\n",
      "  warnings.warn(EPOCH_DEPRECATION_WARNING, UserWarning)\n",
      "loss: 1.6039, accuracy: 0.5800: 100%|████████████████████████████████████████████████| 475/475 [00:33<00:00, 14.15it/s]\n",
      "loss: 2.0030, accuracy: 0.4900: 100%|██████████████████████████████████████████████████| 25/25 [00:07<00:00,  3.36it/s]\n",
      "E:\\notebook\\mlpractical\\mlpractical-mlp2021-22-coursework2\\pytorch_mlp_framework\\experiment_builder.py:134: UserWarning: Attempting to set identical left == right == 0 results in singular transformations; automatically expanding.\n",
      "  plt.xlim(xmin=0, xmax=len(all_grads))\n"
     ]
    },
    {
     "name": "stdout",
     "output_type": "stream",
     "text": [
      "Epoch 82: train_acc_0.5360_train_loss_1.6583_val_acc_0.4856_val_loss_1.9790 epoch time 41.0237 seconds\n",
      "Generating Gradient Flow Plot at epoch 82\n"
     ]
    },
    {
     "name": "stderr",
     "output_type": "stream",
     "text": [
      "  0%|                                                                                          | 0/475 [00:00<?, ?it/s]c:\\users\\neko_maru~\\appdata\\local\\programs\\python\\python37\\lib\\site-packages\\torch\\optim\\lr_scheduler.py:154: UserWarning: The epoch parameter in `scheduler.step()` was not necessary and is being deprecated where possible. Please use `scheduler.step()` to step the scheduler. During the deprecation, if epoch is different from None, the closed form is used instead of the new chainable form, where available. Please open an issue if you are unable to replicate your use case: https://github.com/pytorch/pytorch/issues/new/choose.\n",
      "  warnings.warn(EPOCH_DEPRECATION_WARNING, UserWarning)\n",
      "loss: 2.0200, accuracy: 0.4900: 100%|████████████████████████████████████████████████| 475/475 [00:33<00:00, 14.22it/s]\n",
      "loss: 1.7099, accuracy: 0.4900: 100%|██████████████████████████████████████████████████| 25/25 [00:07<00:00,  3.20it/s]\n",
      "E:\\notebook\\mlpractical\\mlpractical-mlp2021-22-coursework2\\pytorch_mlp_framework\\experiment_builder.py:134: UserWarning: Attempting to set identical left == right == 0 results in singular transformations; automatically expanding.\n",
      "  plt.xlim(xmin=0, xmax=len(all_grads))\n"
     ]
    },
    {
     "name": "stdout",
     "output_type": "stream",
     "text": [
      "Epoch 83: train_acc_0.5359_train_loss_1.6590_val_acc_0.4844_val_loss_1.9838 epoch time 41.2111 seconds\n",
      "Generating Gradient Flow Plot at epoch 83\n"
     ]
    },
    {
     "name": "stderr",
     "output_type": "stream",
     "text": [
      "  0%|                                                                                          | 0/475 [00:00<?, ?it/s]c:\\users\\neko_maru~\\appdata\\local\\programs\\python\\python37\\lib\\site-packages\\torch\\optim\\lr_scheduler.py:154: UserWarning: The epoch parameter in `scheduler.step()` was not necessary and is being deprecated where possible. Please use `scheduler.step()` to step the scheduler. During the deprecation, if epoch is different from None, the closed form is used instead of the new chainable form, where available. Please open an issue if you are unable to replicate your use case: https://github.com/pytorch/pytorch/issues/new/choose.\n",
      "  warnings.warn(EPOCH_DEPRECATION_WARNING, UserWarning)\n",
      "loss: 1.6570, accuracy: 0.5100: 100%|████████████████████████████████████████████████| 475/475 [00:35<00:00, 13.55it/s]\n",
      "loss: 2.0322, accuracy: 0.4900: 100%|██████████████████████████████████████████████████| 25/25 [00:08<00:00,  3.07it/s]\n",
      "E:\\notebook\\mlpractical\\mlpractical-mlp2021-22-coursework2\\pytorch_mlp_framework\\experiment_builder.py:134: UserWarning: Attempting to set identical left == right == 0 results in singular transformations; automatically expanding.\n",
      "  plt.xlim(xmin=0, xmax=len(all_grads))\n"
     ]
    },
    {
     "name": "stdout",
     "output_type": "stream",
     "text": [
      "Epoch 84: train_acc_0.5364_train_loss_1.6596_val_acc_0.4864_val_loss_1.9838 epoch time 43.2059 seconds\n",
      "Generating Gradient Flow Plot at epoch 84\n"
     ]
    },
    {
     "name": "stderr",
     "output_type": "stream",
     "text": [
      "  0%|                                                                                          | 0/475 [00:00<?, ?it/s]c:\\users\\neko_maru~\\appdata\\local\\programs\\python\\python37\\lib\\site-packages\\torch\\optim\\lr_scheduler.py:154: UserWarning: The epoch parameter in `scheduler.step()` was not necessary and is being deprecated where possible. Please use `scheduler.step()` to step the scheduler. During the deprecation, if epoch is different from None, the closed form is used instead of the new chainable form, where available. Please open an issue if you are unable to replicate your use case: https://github.com/pytorch/pytorch/issues/new/choose.\n",
      "  warnings.warn(EPOCH_DEPRECATION_WARNING, UserWarning)\n",
      "loss: 1.5701, accuracy: 0.5700: 100%|████████████████████████████████████████████████| 475/475 [00:33<00:00, 13.99it/s]\n",
      "loss: 2.1541, accuracy: 0.4100: 100%|██████████████████████████████████████████████████| 25/25 [00:07<00:00,  3.15it/s]\n",
      "E:\\notebook\\mlpractical\\mlpractical-mlp2021-22-coursework2\\pytorch_mlp_framework\\experiment_builder.py:134: UserWarning: Attempting to set identical left == right == 0 results in singular transformations; automatically expanding.\n",
      "  plt.xlim(xmin=0, xmax=len(all_grads))\n"
     ]
    },
    {
     "name": "stdout",
     "output_type": "stream",
     "text": [
      "Epoch 85: train_acc_0.5368_train_loss_1.6534_val_acc_0.4844_val_loss_1.9650 epoch time 41.8957 seconds\n",
      "Generating Gradient Flow Plot at epoch 85\n"
     ]
    },
    {
     "name": "stderr",
     "output_type": "stream",
     "text": [
      "  0%|                                                                                          | 0/475 [00:00<?, ?it/s]c:\\users\\neko_maru~\\appdata\\local\\programs\\python\\python37\\lib\\site-packages\\torch\\optim\\lr_scheduler.py:154: UserWarning: The epoch parameter in `scheduler.step()` was not necessary and is being deprecated where possible. Please use `scheduler.step()` to step the scheduler. During the deprecation, if epoch is different from None, the closed form is used instead of the new chainable form, where available. Please open an issue if you are unable to replicate your use case: https://github.com/pytorch/pytorch/issues/new/choose.\n",
      "  warnings.warn(EPOCH_DEPRECATION_WARNING, UserWarning)\n",
      "loss: 1.5618, accuracy: 0.5200: 100%|████████████████████████████████████████████████| 475/475 [00:36<00:00, 12.94it/s]\n",
      "loss: 2.2721, accuracy: 0.4900: 100%|██████████████████████████████████████████████████| 25/25 [00:07<00:00,  3.15it/s]\n",
      "E:\\notebook\\mlpractical\\mlpractical-mlp2021-22-coursework2\\pytorch_mlp_framework\\experiment_builder.py:134: UserWarning: Attempting to set identical left == right == 0 results in singular transformations; automatically expanding.\n",
      "  plt.xlim(xmin=0, xmax=len(all_grads))\n"
     ]
    },
    {
     "name": "stdout",
     "output_type": "stream",
     "text": [
      "Epoch 86: train_acc_0.5379_train_loss_1.6457_val_acc_0.4876_val_loss_1.9738 epoch time 44.6356 seconds\n",
      "Generating Gradient Flow Plot at epoch 86\n"
     ]
    },
    {
     "name": "stderr",
     "output_type": "stream",
     "text": [
      "  0%|                                                                                          | 0/475 [00:00<?, ?it/s]c:\\users\\neko_maru~\\appdata\\local\\programs\\python\\python37\\lib\\site-packages\\torch\\optim\\lr_scheduler.py:154: UserWarning: The epoch parameter in `scheduler.step()` was not necessary and is being deprecated where possible. Please use `scheduler.step()` to step the scheduler. During the deprecation, if epoch is different from None, the closed form is used instead of the new chainable form, where available. Please open an issue if you are unable to replicate your use case: https://github.com/pytorch/pytorch/issues/new/choose.\n",
      "  warnings.warn(EPOCH_DEPRECATION_WARNING, UserWarning)\n",
      "loss: 1.7156, accuracy: 0.5200: 100%|████████████████████████████████████████████████| 475/475 [00:36<00:00, 13.03it/s]\n",
      "loss: 1.9098, accuracy: 0.5200: 100%|██████████████████████████████████████████████████| 25/25 [00:07<00:00,  3.16it/s]\n",
      "E:\\notebook\\mlpractical\\mlpractical-mlp2021-22-coursework2\\pytorch_mlp_framework\\experiment_builder.py:134: UserWarning: Attempting to set identical left == right == 0 results in singular transformations; automatically expanding.\n",
      "  plt.xlim(xmin=0, xmax=len(all_grads))\n"
     ]
    },
    {
     "name": "stdout",
     "output_type": "stream",
     "text": [
      "Epoch 87: train_acc_0.5384_train_loss_1.6483_val_acc_0.4816_val_loss_1.9790 epoch time 44.3799 seconds\n",
      "Generating Gradient Flow Plot at epoch 87\n"
     ]
    },
    {
     "name": "stderr",
     "output_type": "stream",
     "text": [
      "  0%|                                                                                          | 0/475 [00:00<?, ?it/s]c:\\users\\neko_maru~\\appdata\\local\\programs\\python\\python37\\lib\\site-packages\\torch\\optim\\lr_scheduler.py:154: UserWarning: The epoch parameter in `scheduler.step()` was not necessary and is being deprecated where possible. Please use `scheduler.step()` to step the scheduler. During the deprecation, if epoch is different from None, the closed form is used instead of the new chainable form, where available. Please open an issue if you are unable to replicate your use case: https://github.com/pytorch/pytorch/issues/new/choose.\n",
      "  warnings.warn(EPOCH_DEPRECATION_WARNING, UserWarning)\n",
      "loss: 1.8358, accuracy: 0.5000: 100%|████████████████████████████████████████████████| 475/475 [00:36<00:00, 13.07it/s]\n",
      "loss: 2.1863, accuracy: 0.5300: 100%|██████████████████████████████████████████████████| 25/25 [00:07<00:00,  3.14it/s]\n",
      "E:\\notebook\\mlpractical\\mlpractical-mlp2021-22-coursework2\\pytorch_mlp_framework\\experiment_builder.py:134: UserWarning: Attempting to set identical left == right == 0 results in singular transformations; automatically expanding.\n",
      "  plt.xlim(xmin=0, xmax=len(all_grads))\n"
     ]
    },
    {
     "name": "stdout",
     "output_type": "stream",
     "text": [
      "Epoch 88: train_acc_0.5398_train_loss_1.6506_val_acc_0.4916_val_loss_1.9581 epoch time 44.3027 seconds\n",
      "Generating Gradient Flow Plot at epoch 88\n"
     ]
    },
    {
     "name": "stderr",
     "output_type": "stream",
     "text": [
      "  0%|                                                                                          | 0/475 [00:00<?, ?it/s]c:\\users\\neko_maru~\\appdata\\local\\programs\\python\\python37\\lib\\site-packages\\torch\\optim\\lr_scheduler.py:154: UserWarning: The epoch parameter in `scheduler.step()` was not necessary and is being deprecated where possible. Please use `scheduler.step()` to step the scheduler. During the deprecation, if epoch is different from None, the closed form is used instead of the new chainable form, where available. Please open an issue if you are unable to replicate your use case: https://github.com/pytorch/pytorch/issues/new/choose.\n",
      "  warnings.warn(EPOCH_DEPRECATION_WARNING, UserWarning)\n",
      "loss: 1.9313, accuracy: 0.3800: 100%|████████████████████████████████████████████████| 475/475 [00:37<00:00, 12.83it/s]\n",
      "loss: 1.8244, accuracy: 0.5000: 100%|██████████████████████████████████████████████████| 25/25 [00:07<00:00,  3.13it/s]\n",
      "E:\\notebook\\mlpractical\\mlpractical-mlp2021-22-coursework2\\pytorch_mlp_framework\\experiment_builder.py:134: UserWarning: Attempting to set identical left == right == 0 results in singular transformations; automatically expanding.\n",
      "  plt.xlim(xmin=0, xmax=len(all_grads))\n"
     ]
    },
    {
     "name": "stdout",
     "output_type": "stream",
     "text": [
      "Epoch 89: train_acc_0.5397_train_loss_1.6397_val_acc_0.4864_val_loss_1.9673 epoch time 44.9994 seconds\n",
      "Generating Gradient Flow Plot at epoch 89\n"
     ]
    },
    {
     "name": "stderr",
     "output_type": "stream",
     "text": [
      "  0%|                                                                                          | 0/475 [00:00<?, ?it/s]c:\\users\\neko_maru~\\appdata\\local\\programs\\python\\python37\\lib\\site-packages\\torch\\optim\\lr_scheduler.py:154: UserWarning: The epoch parameter in `scheduler.step()` was not necessary and is being deprecated where possible. Please use `scheduler.step()` to step the scheduler. During the deprecation, if epoch is different from None, the closed form is used instead of the new chainable form, where available. Please open an issue if you are unable to replicate your use case: https://github.com/pytorch/pytorch/issues/new/choose.\n",
      "  warnings.warn(EPOCH_DEPRECATION_WARNING, UserWarning)\n",
      "loss: 1.5482, accuracy: 0.5700: 100%|████████████████████████████████████████████████| 475/475 [00:37<00:00, 12.70it/s]\n",
      "loss: 1.7051, accuracy: 0.5700: 100%|██████████████████████████████████████████████████| 25/25 [00:08<00:00,  3.00it/s]\n",
      "E:\\notebook\\mlpractical\\mlpractical-mlp2021-22-coursework2\\pytorch_mlp_framework\\experiment_builder.py:134: UserWarning: Attempting to set identical left == right == 0 results in singular transformations; automatically expanding.\n",
      "  plt.xlim(xmin=0, xmax=len(all_grads))\n"
     ]
    },
    {
     "name": "stdout",
     "output_type": "stream",
     "text": [
      "Epoch 90: train_acc_0.5395_train_loss_1.6401_val_acc_0.4860_val_loss_1.9755 epoch time 45.7314 seconds\n",
      "Generating Gradient Flow Plot at epoch 90\n"
     ]
    },
    {
     "name": "stderr",
     "output_type": "stream",
     "text": [
      "  0%|                                                                                          | 0/475 [00:00<?, ?it/s]c:\\users\\neko_maru~\\appdata\\local\\programs\\python\\python37\\lib\\site-packages\\torch\\optim\\lr_scheduler.py:154: UserWarning: The epoch parameter in `scheduler.step()` was not necessary and is being deprecated where possible. Please use `scheduler.step()` to step the scheduler. During the deprecation, if epoch is different from None, the closed form is used instead of the new chainable form, where available. Please open an issue if you are unable to replicate your use case: https://github.com/pytorch/pytorch/issues/new/choose.\n",
      "  warnings.warn(EPOCH_DEPRECATION_WARNING, UserWarning)\n",
      "loss: 1.4762, accuracy: 0.5300: 100%|████████████████████████████████████████████████| 475/475 [00:36<00:00, 13.16it/s]\n",
      "loss: 2.0231, accuracy: 0.4900: 100%|██████████████████████████████████████████████████| 25/25 [00:08<00:00,  3.09it/s]\n",
      "E:\\notebook\\mlpractical\\mlpractical-mlp2021-22-coursework2\\pytorch_mlp_framework\\experiment_builder.py:134: UserWarning: Attempting to set identical left == right == 0 results in singular transformations; automatically expanding.\n",
      "  plt.xlim(xmin=0, xmax=len(all_grads))\n"
     ]
    },
    {
     "name": "stdout",
     "output_type": "stream",
     "text": [
      "Epoch 91: train_acc_0.5435_train_loss_1.6329_val_acc_0.4808_val_loss_1.9847 epoch time 44.1726 seconds\n",
      "Generating Gradient Flow Plot at epoch 91\n"
     ]
    },
    {
     "name": "stderr",
     "output_type": "stream",
     "text": [
      "  0%|                                                                                          | 0/475 [00:00<?, ?it/s]c:\\users\\neko_maru~\\appdata\\local\\programs\\python\\python37\\lib\\site-packages\\torch\\optim\\lr_scheduler.py:154: UserWarning: The epoch parameter in `scheduler.step()` was not necessary and is being deprecated where possible. Please use `scheduler.step()` to step the scheduler. During the deprecation, if epoch is different from None, the closed form is used instead of the new chainable form, where available. Please open an issue if you are unable to replicate your use case: https://github.com/pytorch/pytorch/issues/new/choose.\n",
      "  warnings.warn(EPOCH_DEPRECATION_WARNING, UserWarning)\n",
      "loss: 1.6100, accuracy: 0.5400: 100%|████████████████████████████████████████████████| 475/475 [00:35<00:00, 13.23it/s]\n",
      "loss: 1.6873, accuracy: 0.5100: 100%|██████████████████████████████████████████████████| 25/25 [00:08<00:00,  2.99it/s]\n",
      "E:\\notebook\\mlpractical\\mlpractical-mlp2021-22-coursework2\\pytorch_mlp_framework\\experiment_builder.py:134: UserWarning: Attempting to set identical left == right == 0 results in singular transformations; automatically expanding.\n",
      "  plt.xlim(xmin=0, xmax=len(all_grads))\n"
     ]
    },
    {
     "name": "stdout",
     "output_type": "stream",
     "text": [
      "Epoch 92: train_acc_0.5425_train_loss_1.6401_val_acc_0.4840_val_loss_1.9760 epoch time 44.2693 seconds\n",
      "Generating Gradient Flow Plot at epoch 92\n"
     ]
    },
    {
     "name": "stderr",
     "output_type": "stream",
     "text": [
      "  0%|                                                                                          | 0/475 [00:00<?, ?it/s]c:\\users\\neko_maru~\\appdata\\local\\programs\\python\\python37\\lib\\site-packages\\torch\\optim\\lr_scheduler.py:154: UserWarning: The epoch parameter in `scheduler.step()` was not necessary and is being deprecated where possible. Please use `scheduler.step()` to step the scheduler. During the deprecation, if epoch is different from None, the closed form is used instead of the new chainable form, where available. Please open an issue if you are unable to replicate your use case: https://github.com/pytorch/pytorch/issues/new/choose.\n",
      "  warnings.warn(EPOCH_DEPRECATION_WARNING, UserWarning)\n",
      "loss: 1.3861, accuracy: 0.6100: 100%|████████████████████████████████████████████████| 475/475 [00:36<00:00, 13.14it/s]\n",
      "loss: 1.9383, accuracy: 0.4600: 100%|██████████████████████████████████████████████████| 25/25 [00:07<00:00,  3.16it/s]\n",
      "E:\\notebook\\mlpractical\\mlpractical-mlp2021-22-coursework2\\pytorch_mlp_framework\\experiment_builder.py:134: UserWarning: Attempting to set identical left == right == 0 results in singular transformations; automatically expanding.\n",
      "  plt.xlim(xmin=0, xmax=len(all_grads))\n"
     ]
    },
    {
     "name": "stdout",
     "output_type": "stream",
     "text": [
      "Epoch 93: train_acc_0.5413_train_loss_1.6322_val_acc_0.4844_val_loss_1.9738 epoch time 44.0669 seconds\n",
      "Generating Gradient Flow Plot at epoch 93\n"
     ]
    },
    {
     "name": "stderr",
     "output_type": "stream",
     "text": [
      "  0%|                                                                                          | 0/475 [00:00<?, ?it/s]c:\\users\\neko_maru~\\appdata\\local\\programs\\python\\python37\\lib\\site-packages\\torch\\optim\\lr_scheduler.py:154: UserWarning: The epoch parameter in `scheduler.step()` was not necessary and is being deprecated where possible. Please use `scheduler.step()` to step the scheduler. During the deprecation, if epoch is different from None, the closed form is used instead of the new chainable form, where available. Please open an issue if you are unable to replicate your use case: https://github.com/pytorch/pytorch/issues/new/choose.\n",
      "  warnings.warn(EPOCH_DEPRECATION_WARNING, UserWarning)\n",
      "loss: 1.6021, accuracy: 0.5300: 100%|████████████████████████████████████████████████| 475/475 [00:35<00:00, 13.34it/s]\n",
      "loss: 2.1848, accuracy: 0.4500: 100%|██████████████████████████████████████████████████| 25/25 [00:08<00:00,  3.10it/s]\n",
      "E:\\notebook\\mlpractical\\mlpractical-mlp2021-22-coursework2\\pytorch_mlp_framework\\experiment_builder.py:134: UserWarning: Attempting to set identical left == right == 0 results in singular transformations; automatically expanding.\n",
      "  plt.xlim(xmin=0, xmax=len(all_grads))\n"
     ]
    },
    {
     "name": "stdout",
     "output_type": "stream",
     "text": [
      "Epoch 94: train_acc_0.5433_train_loss_1.6326_val_acc_0.4916_val_loss_1.9714 epoch time 43.6803 seconds\n",
      "Generating Gradient Flow Plot at epoch 94\n"
     ]
    },
    {
     "name": "stderr",
     "output_type": "stream",
     "text": [
      "  0%|                                                                                          | 0/475 [00:00<?, ?it/s]c:\\users\\neko_maru~\\appdata\\local\\programs\\python\\python37\\lib\\site-packages\\torch\\optim\\lr_scheduler.py:154: UserWarning: The epoch parameter in `scheduler.step()` was not necessary and is being deprecated where possible. Please use `scheduler.step()` to step the scheduler. During the deprecation, if epoch is different from None, the closed form is used instead of the new chainable form, where available. Please open an issue if you are unable to replicate your use case: https://github.com/pytorch/pytorch/issues/new/choose.\n",
      "  warnings.warn(EPOCH_DEPRECATION_WARNING, UserWarning)\n",
      "loss: 1.8952, accuracy: 0.5400: 100%|████████████████████████████████████████████████| 475/475 [00:35<00:00, 13.46it/s]\n",
      "loss: 2.0858, accuracy: 0.4900: 100%|██████████████████████████████████████████████████| 25/25 [00:07<00:00,  3.15it/s]\n",
      "E:\\notebook\\mlpractical\\mlpractical-mlp2021-22-coursework2\\pytorch_mlp_framework\\experiment_builder.py:134: UserWarning: Attempting to set identical left == right == 0 results in singular transformations; automatically expanding.\n",
      "  plt.xlim(xmin=0, xmax=len(all_grads))\n"
     ]
    },
    {
     "name": "stdout",
     "output_type": "stream",
     "text": [
      "Epoch 95: train_acc_0.5403_train_loss_1.6336_val_acc_0.4900_val_loss_1.9766 epoch time 43.2295 seconds\n",
      "Generating Gradient Flow Plot at epoch 95\n"
     ]
    },
    {
     "name": "stderr",
     "output_type": "stream",
     "text": [
      "  0%|                                                                                          | 0/475 [00:00<?, ?it/s]c:\\users\\neko_maru~\\appdata\\local\\programs\\python\\python37\\lib\\site-packages\\torch\\optim\\lr_scheduler.py:154: UserWarning: The epoch parameter in `scheduler.step()` was not necessary and is being deprecated where possible. Please use `scheduler.step()` to step the scheduler. During the deprecation, if epoch is different from None, the closed form is used instead of the new chainable form, where available. Please open an issue if you are unable to replicate your use case: https://github.com/pytorch/pytorch/issues/new/choose.\n",
      "  warnings.warn(EPOCH_DEPRECATION_WARNING, UserWarning)\n",
      "loss: 1.5607, accuracy: 0.5000: 100%|████████████████████████████████████████████████| 475/475 [00:35<00:00, 13.51it/s]\n",
      "loss: 1.8238, accuracy: 0.5500: 100%|██████████████████████████████████████████████████| 25/25 [00:08<00:00,  3.06it/s]\n",
      "E:\\notebook\\mlpractical\\mlpractical-mlp2021-22-coursework2\\pytorch_mlp_framework\\experiment_builder.py:134: UserWarning: Attempting to set identical left == right == 0 results in singular transformations; automatically expanding.\n",
      "  plt.xlim(xmin=0, xmax=len(all_grads))\n"
     ]
    },
    {
     "name": "stdout",
     "output_type": "stream",
     "text": [
      "Epoch 96: train_acc_0.5432_train_loss_1.6312_val_acc_0.4924_val_loss_1.9716 epoch time 43.3280 seconds\n",
      "Generating Gradient Flow Plot at epoch 96\n"
     ]
    },
    {
     "name": "stderr",
     "output_type": "stream",
     "text": [
      "  0%|                                                                                          | 0/475 [00:00<?, ?it/s]c:\\users\\neko_maru~\\appdata\\local\\programs\\python\\python37\\lib\\site-packages\\torch\\optim\\lr_scheduler.py:154: UserWarning: The epoch parameter in `scheduler.step()` was not necessary and is being deprecated where possible. Please use `scheduler.step()` to step the scheduler. During the deprecation, if epoch is different from None, the closed form is used instead of the new chainable form, where available. Please open an issue if you are unable to replicate your use case: https://github.com/pytorch/pytorch/issues/new/choose.\n",
      "  warnings.warn(EPOCH_DEPRECATION_WARNING, UserWarning)\n",
      "loss: 1.3755, accuracy: 0.6800: 100%|████████████████████████████████████████████████| 475/475 [00:37<00:00, 12.83it/s]\n",
      "loss: 2.0815, accuracy: 0.4800: 100%|██████████████████████████████████████████████████| 25/25 [00:08<00:00,  3.02it/s]\n",
      "E:\\notebook\\mlpractical\\mlpractical-mlp2021-22-coursework2\\pytorch_mlp_framework\\experiment_builder.py:134: UserWarning: Attempting to set identical left == right == 0 results in singular transformations; automatically expanding.\n",
      "  plt.xlim(xmin=0, xmax=len(all_grads))\n"
     ]
    },
    {
     "name": "stdout",
     "output_type": "stream",
     "text": [
      "Epoch 97: train_acc_0.5416_train_loss_1.6326_val_acc_0.4896_val_loss_1.9658 epoch time 45.2995 seconds\n",
      "Generating Gradient Flow Plot at epoch 97\n"
     ]
    },
    {
     "name": "stderr",
     "output_type": "stream",
     "text": [
      "  0%|                                                                                          | 0/475 [00:00<?, ?it/s]c:\\users\\neko_maru~\\appdata\\local\\programs\\python\\python37\\lib\\site-packages\\torch\\optim\\lr_scheduler.py:154: UserWarning: The epoch parameter in `scheduler.step()` was not necessary and is being deprecated where possible. Please use `scheduler.step()` to step the scheduler. During the deprecation, if epoch is different from None, the closed form is used instead of the new chainable form, where available. Please open an issue if you are unable to replicate your use case: https://github.com/pytorch/pytorch/issues/new/choose.\n",
      "  warnings.warn(EPOCH_DEPRECATION_WARNING, UserWarning)\n",
      "loss: 1.8090, accuracy: 0.4900: 100%|████████████████████████████████████████████████| 475/475 [00:35<00:00, 13.34it/s]\n",
      "loss: 2.0608, accuracy: 0.4200: 100%|██████████████████████████████████████████████████| 25/25 [00:08<00:00,  3.12it/s]\n",
      "E:\\notebook\\mlpractical\\mlpractical-mlp2021-22-coursework2\\pytorch_mlp_framework\\experiment_builder.py:134: UserWarning: Attempting to set identical left == right == 0 results in singular transformations; automatically expanding.\n",
      "  plt.xlim(xmin=0, xmax=len(all_grads))\n"
     ]
    },
    {
     "name": "stdout",
     "output_type": "stream",
     "text": [
      "Epoch 98: train_acc_0.5433_train_loss_1.6323_val_acc_0.4880_val_loss_1.9696 epoch time 43.6265 seconds\n",
      "Generating Gradient Flow Plot at epoch 98\n"
     ]
    },
    {
     "name": "stderr",
     "output_type": "stream",
     "text": [
      "  0%|                                                                                          | 0/475 [00:00<?, ?it/s]c:\\users\\neko_maru~\\appdata\\local\\programs\\python\\python37\\lib\\site-packages\\torch\\optim\\lr_scheduler.py:154: UserWarning: The epoch parameter in `scheduler.step()` was not necessary and is being deprecated where possible. Please use `scheduler.step()` to step the scheduler. During the deprecation, if epoch is different from None, the closed form is used instead of the new chainable form, where available. Please open an issue if you are unable to replicate your use case: https://github.com/pytorch/pytorch/issues/new/choose.\n",
      "  warnings.warn(EPOCH_DEPRECATION_WARNING, UserWarning)\n",
      "loss: 1.7013, accuracy: 0.5000: 100%|████████████████████████████████████████████████| 475/475 [00:36<00:00, 13.17it/s]\n",
      "loss: 2.5174, accuracy: 0.4100: 100%|██████████████████████████████████████████████████| 25/25 [00:07<00:00,  3.24it/s]\n",
      "E:\\notebook\\mlpractical\\mlpractical-mlp2021-22-coursework2\\pytorch_mlp_framework\\experiment_builder.py:134: UserWarning: Attempting to set identical left == right == 0 results in singular transformations; automatically expanding.\n",
      "  plt.xlim(xmin=0, xmax=len(all_grads))\n"
     ]
    },
    {
     "name": "stdout",
     "output_type": "stream",
     "text": [
      "Epoch 99: train_acc_0.5431_train_loss_1.6337_val_acc_0.4900_val_loss_1.9689 epoch time 43.7895 seconds\n",
      "Generating Gradient Flow Plot at epoch 99\n",
      "Generating test set evaluation metrics\n"
     ]
    },
    {
     "name": "stderr",
     "output_type": "stream",
     "text": [
      "loss: 1.9335, accuracy: 0.5200: 100%|████████████████████████████████████████████████| 100/100 [00:09<00:00, 10.04it/s]\n"
     ]
    },
    {
     "data": {
      "image/png": "[encoded data removed]",
      "text/plain": [
       "<Figure size 432x288 with 1 Axes>"
      ]
     },
     "metadata": {
      "needs_background": "light"
     },
     "output_type": "display_data"
    }
   ],
   "source": [
    "%run pytorch_mlp_framework/train_evaluate_image_classification_system.py --batch_size 100 --seed 0 --num_filters 32 --num_stages 3 --num_blocks_per_stage 0 --experiment_name VGG_07 --num_classes 100 --block_type conv_block --weight_decay_coefficient 0.00000 --use_gpu True"
   ]
  },
  {
   "cell_type": "markdown",
   "id": "95840960",
   "metadata": {},
   "source": [
    "##  VGG_38"
   ]
  },
  {
   "cell_type": "code",
   "execution_count": 3,
   "id": "46887287",
   "metadata": {
    "scrolled": true
   },
   "outputs": [
    {
     "name": "stdout",
     "output_type": "stream",
     "text": [
      "Namespace(batch_size=100, block_type='conv_block', continue_from_epoch=-1, experiment_name='VGG_38_experiment', image_height=32, image_num_channels=3, image_width=32, num_blocks_per_stage=5, num_classes=100, num_epochs=100, num_filters=32, num_stages=3, seed=0, use_gpu=True, weight_decay_coefficient=0)\n",
      "Files already downloaded and verified\n",
      "train (47500, 32, 32, 3)\n",
      "train (47500,)\n",
      "Files already downloaded and verified\n",
      "val (2500, 32, 32, 3)\n",
      "val (2500,)\n",
      "Files already downloaded and verified\n",
      "test (10000, 32, 32, 3)\n",
      "test (10000,)\n",
      "Building basic block of ConvolutionalNetwork using input shape (100, 3, 32, 32)\n",
      "torch.Size([100, 32, 32, 32])\n",
      "torch.Size([100, 32, 32, 32])\n",
      "torch.Size([100, 32, 32, 32])\n",
      "torch.Size([100, 32, 32, 32])\n",
      "torch.Size([100, 32, 32, 32])\n",
      "torch.Size([100, 32, 32, 32])\n",
      "torch.Size([100, 32, 16, 16])\n",
      "torch.Size([100, 32, 16, 16])\n",
      "torch.Size([100, 32, 16, 16])\n",
      "torch.Size([100, 32, 16, 16])\n",
      "torch.Size([100, 32, 16, 16])\n",
      "torch.Size([100, 32, 16, 16])\n",
      "torch.Size([100, 32, 8, 8])\n",
      "torch.Size([100, 32, 8, 8])\n",
      "torch.Size([100, 32, 8, 8])\n",
      "torch.Size([100, 32, 8, 8])\n",
      "torch.Size([100, 32, 8, 8])\n",
      "torch.Size([100, 32, 8, 8])\n",
      "torch.Size([100, 32, 4, 4])\n",
      "shape before final linear layer torch.Size([100, 32, 1, 1])\n",
      "Block is built, output volume is torch.Size([100, 100])\n",
      "Use GPU 0\n",
      "here\n",
      "System learnable parameters\n",
      "model.layer_dict.input_conv.layer_dict.conv_0.weight torch.Size([32, 3, 3, 3])\n",
      "model.layer_dict.input_conv.layer_dict.bn_0.weight torch.Size([32])\n",
      "model.layer_dict.input_conv.layer_dict.bn_0.bias torch.Size([32])\n",
      "model.layer_dict.block_0_0.layer_dict.conv_0.weight torch.Size([32, 32, 3, 3])\n",
      "model.layer_dict.block_0_0.layer_dict.conv_1.weight torch.Size([32, 32, 3, 3])\n",
      "model.layer_dict.block_0_1.layer_dict.conv_0.weight torch.Size([32, 32, 3, 3])\n",
      "model.layer_dict.block_0_1.layer_dict.conv_1.weight torch.Size([32, 32, 3, 3])\n",
      "model.layer_dict.block_0_2.layer_dict.conv_0.weight torch.Size([32, 32, 3, 3])\n",
      "model.layer_dict.block_0_2.layer_dict.conv_1.weight torch.Size([32, 32, 3, 3])\n",
      "model.layer_dict.block_0_3.layer_dict.conv_0.weight torch.Size([32, 32, 3, 3])\n",
      "model.layer_dict.block_0_3.layer_dict.conv_1.weight torch.Size([32, 32, 3, 3])\n",
      "model.layer_dict.block_0_4.layer_dict.conv_0.weight torch.Size([32, 32, 3, 3])\n",
      "model.layer_dict.block_0_4.layer_dict.conv_1.weight torch.Size([32, 32, 3, 3])\n",
      "model.layer_dict.reduction_block_0.layer_dict.conv_0.weight torch.Size([32, 32, 3, 3])\n",
      "model.layer_dict.reduction_block_0.layer_dict.conv_0.bias torch.Size([32])\n",
      "model.layer_dict.reduction_block_0.layer_dict.conv_1.weight torch.Size([32, 32, 3, 3])\n",
      "model.layer_dict.reduction_block_0.layer_dict.conv_1.bias torch.Size([32])\n",
      "model.layer_dict.block_1_0.layer_dict.conv_0.weight torch.Size([32, 32, 3, 3])\n",
      "model.layer_dict.block_1_0.layer_dict.conv_1.weight torch.Size([32, 32, 3, 3])\n",
      "model.layer_dict.block_1_1.layer_dict.conv_0.weight torch.Size([32, 32, 3, 3])\n",
      "model.layer_dict.block_1_1.layer_dict.conv_1.weight torch.Size([32, 32, 3, 3])\n",
      "model.layer_dict.block_1_2.layer_dict.conv_0.weight torch.Size([32, 32, 3, 3])\n",
      "model.layer_dict.block_1_2.layer_dict.conv_1.weight torch.Size([32, 32, 3, 3])\n",
      "model.layer_dict.block_1_3.layer_dict.conv_0.weight torch.Size([32, 32, 3, 3])\n",
      "model.layer_dict.block_1_3.layer_dict.conv_1.weight torch.Size([32, 32, 3, 3])\n",
      "model.layer_dict.block_1_4.layer_dict.conv_0.weight torch.Size([32, 32, 3, 3])\n",
      "model.layer_dict.block_1_4.layer_dict.conv_1.weight torch.Size([32, 32, 3, 3])\n",
      "model.layer_dict.reduction_block_1.layer_dict.conv_0.weight torch.Size([32, 32, 3, 3])\n",
      "model.layer_dict.reduction_block_1.layer_dict.conv_0.bias torch.Size([32])\n",
      "model.layer_dict.reduction_block_1.layer_dict.conv_1.weight torch.Size([32, 32, 3, 3])\n",
      "model.layer_dict.reduction_block_1.layer_dict.conv_1.bias torch.Size([32])\n",
      "model.layer_dict.block_2_0.layer_dict.conv_0.weight torch.Size([32, 32, 3, 3])\n",
      "model.layer_dict.block_2_0.layer_dict.conv_1.weight torch.Size([32, 32, 3, 3])\n",
      "model.layer_dict.block_2_1.layer_dict.conv_0.weight torch.Size([32, 32, 3, 3])\n",
      "model.layer_dict.block_2_1.layer_dict.conv_1.weight torch.Size([32, 32, 3, 3])\n",
      "model.layer_dict.block_2_2.layer_dict.conv_0.weight torch.Size([32, 32, 3, 3])\n",
      "model.layer_dict.block_2_2.layer_dict.conv_1.weight torch.Size([32, 32, 3, 3])\n",
      "model.layer_dict.block_2_3.layer_dict.conv_0.weight torch.Size([32, 32, 3, 3])\n",
      "model.layer_dict.block_2_3.layer_dict.conv_1.weight torch.Size([32, 32, 3, 3])\n",
      "model.layer_dict.block_2_4.layer_dict.conv_0.weight torch.Size([32, 32, 3, 3])\n",
      "model.layer_dict.block_2_4.layer_dict.conv_1.weight torch.Size([32, 32, 3, 3])\n",
      "model.layer_dict.reduction_block_2.layer_dict.conv_0.weight torch.Size([32, 32, 3, 3])\n",
      "model.layer_dict.reduction_block_2.layer_dict.conv_0.bias torch.Size([32])\n",
      "model.layer_dict.reduction_block_2.layer_dict.conv_1.weight torch.Size([32, 32, 3, 3])\n",
      "model.layer_dict.reduction_block_2.layer_dict.conv_1.bias torch.Size([32])\n",
      "model.logit_linear_layer.weight torch.Size([100, 32])\n",
      "model.logit_linear_layer.bias torch.Size([100])\n",
      "Total number of parameters 336196\n",
      "Total number of conv layers 38\n",
      "Total number of linear layers 1\n"
     ]
    },
    {
     "name": "stderr",
     "output_type": "stream",
     "text": [
      "  0%|                                                                                          | 0/475 [00:00<?, ?it/s]c:\\users\\neko_maru~\\appdata\\local\\programs\\python\\python37\\lib\\site-packages\\torch\\optim\\lr_scheduler.py:134: UserWarning: Detected call of `lr_scheduler.step()` before `optimizer.step()`. In PyTorch 1.1.0 and later, you should call them in the opposite order: `optimizer.step()` before `lr_scheduler.step()`.  Failure to do this will result in PyTorch skipping the first value of the learning rate schedule. See more details at https://pytorch.org/docs/stable/optim.html#how-to-adjust-learning-rate\n",
      "  \"https://pytorch.org/docs/stable/optim.html#how-to-adjust-learning-rate\", UserWarning)\n",
      "c:\\users\\neko_maru~\\appdata\\local\\programs\\python\\python37\\lib\\site-packages\\torch\\optim\\lr_scheduler.py:154: UserWarning: The epoch parameter in `scheduler.step()` was not necessary and is being deprecated where possible. Please use `scheduler.step()` to step the scheduler. During the deprecation, if epoch is different from None, the closed form is used instead of the new chainable form, where available. Please open an issue if you are unable to replicate your use case: https://github.com/pytorch/pytorch/issues/new/choose.\n",
      "  warnings.warn(EPOCH_DEPRECATION_WARNING, UserWarning)\n",
      "loss: 4.5999, accuracy: 0.0100: 100%|████████████████████████████████████████████████| 475/475 [00:32<00:00, 14.69it/s]\n",
      "loss: 4.6096, accuracy: 0.0400: 100%|██████████████████████████████████████████████████| 25/25 [00:07<00:00,  3.53it/s]\n",
      "E:\\notebook\\mlpractical\\mlpractical-mlp2021-22-coursework2\\pytorch_mlp_framework\\experiment_builder.py:134: UserWarning: Attempting to set identical left == right == 0 results in singular transformations; automatically expanding.\n",
      "  plt.xlim(xmin=0, xmax=len(all_grads))\n"
     ]
    },
    {
     "name": "stdout",
     "output_type": "stream",
     "text": [
      "Epoch 0: train_acc_0.0095_train_loss_4.6086_val_acc_0.0104_val_loss_4.6067 epoch time 39.4343 seconds\n",
      "Generating Gradient Flow Plot at epoch 0\n"
     ]
    },
    {
     "name": "stderr",
     "output_type": "stream",
     "text": [
      "  0%|                                                                                          | 0/475 [00:00<?, ?it/s]c:\\users\\neko_maru~\\appdata\\local\\programs\\python\\python37\\lib\\site-packages\\torch\\optim\\lr_scheduler.py:154: UserWarning: The epoch parameter in `scheduler.step()` was not necessary and is being deprecated where possible. Please use `scheduler.step()` to step the scheduler. During the deprecation, if epoch is different from None, the closed form is used instead of the new chainable form, where available. Please open an issue if you are unable to replicate your use case: https://github.com/pytorch/pytorch/issues/new/choose.\n",
      "  warnings.warn(EPOCH_DEPRECATION_WARNING, UserWarning)\n",
      "loss: 4.6080, accuracy: 0.0200: 100%|████████████████████████████████████████████████| 475/475 [00:29<00:00, 16.29it/s]\n",
      "loss: 4.6097, accuracy: 0.0000: 100%|██████████████████████████████████████████████████| 25/25 [00:07<00:00,  3.38it/s]\n",
      "E:\\notebook\\mlpractical\\mlpractical-mlp2021-22-coursework2\\pytorch_mlp_framework\\experiment_builder.py:134: UserWarning: Attempting to set identical left == right == 0 results in singular transformations; automatically expanding.\n",
      "  plt.xlim(xmin=0, xmax=len(all_grads))\n"
     ]
    },
    {
     "name": "stdout",
     "output_type": "stream",
     "text": [
      "Epoch 1: train_acc_0.0089_train_loss_4.6065_val_acc_0.0076_val_loss_4.6063 epoch time 36.5589 seconds\n",
      "Generating Gradient Flow Plot at epoch 1\n"
     ]
    },
    {
     "name": "stderr",
     "output_type": "stream",
     "text": [
      "  0%|                                                                                          | 0/475 [00:00<?, ?it/s]c:\\users\\neko_maru~\\appdata\\local\\programs\\python\\python37\\lib\\site-packages\\torch\\optim\\lr_scheduler.py:154: UserWarning: The epoch parameter in `scheduler.step()` was not necessary and is being deprecated where possible. Please use `scheduler.step()` to step the scheduler. During the deprecation, if epoch is different from None, the closed form is used instead of the new chainable form, where available. Please open an issue if you are unable to replicate your use case: https://github.com/pytorch/pytorch/issues/new/choose.\n",
      "  warnings.warn(EPOCH_DEPRECATION_WARNING, UserWarning)\n",
      "loss: 4.6054, accuracy: 0.0000: 100%|████████████████████████████████████████████████| 475/475 [00:29<00:00, 16.31it/s]\n",
      "loss: 4.6047, accuracy: 0.0200: 100%|██████████████████████████████████████████████████| 25/25 [00:07<00:00,  3.39it/s]\n",
      "E:\\notebook\\mlpractical\\mlpractical-mlp2021-22-coursework2\\pytorch_mlp_framework\\experiment_builder.py:134: UserWarning: Attempting to set identical left == right == 0 results in singular transformations; automatically expanding.\n",
      "  plt.xlim(xmin=0, xmax=len(all_grads))\n"
     ]
    },
    {
     "name": "stdout",
     "output_type": "stream",
     "text": [
      "Epoch 2: train_acc_0.0087_train_loss_4.6061_val_acc_0.0076_val_loss_4.6066 epoch time 36.5128 seconds\n",
      "Generating Gradient Flow Plot at epoch 2\n"
     ]
    },
    {
     "name": "stderr",
     "output_type": "stream",
     "text": [
      "  0%|                                                                                          | 0/475 [00:00<?, ?it/s]c:\\users\\neko_maru~\\appdata\\local\\programs\\python\\python37\\lib\\site-packages\\torch\\optim\\lr_scheduler.py:154: UserWarning: The epoch parameter in `scheduler.step()` was not necessary and is being deprecated where possible. Please use `scheduler.step()` to step the scheduler. During the deprecation, if epoch is different from None, the closed form is used instead of the new chainable form, where available. Please open an issue if you are unable to replicate your use case: https://github.com/pytorch/pytorch/issues/new/choose.\n",
      "  warnings.warn(EPOCH_DEPRECATION_WARNING, UserWarning)\n",
      "loss: 4.6054, accuracy: 0.0000: 100%|████████████████████████████████████████████████| 475/475 [00:29<00:00, 16.27it/s]\n",
      "loss: 4.6083, accuracy: 0.0200: 100%|██████████████████████████████████████████████████| 25/25 [00:07<00:00,  3.43it/s]\n",
      "E:\\notebook\\mlpractical\\mlpractical-mlp2021-22-coursework2\\pytorch_mlp_framework\\experiment_builder.py:134: UserWarning: Attempting to set identical left == right == 0 results in singular transformations; automatically expanding.\n",
      "  plt.xlim(xmin=0, xmax=len(all_grads))\n"
     ]
    },
    {
     "name": "stdout",
     "output_type": "stream",
     "text": [
      "Epoch 3: train_acc_0.0092_train_loss_4.6061_val_acc_0.0076_val_loss_4.6068 epoch time 36.4995 seconds\n",
      "Generating Gradient Flow Plot at epoch 3\n"
     ]
    },
    {
     "name": "stderr",
     "output_type": "stream",
     "text": [
      "  0%|                                                                                          | 0/475 [00:00<?, ?it/s]c:\\users\\neko_maru~\\appdata\\local\\programs\\python\\python37\\lib\\site-packages\\torch\\optim\\lr_scheduler.py:154: UserWarning: The epoch parameter in `scheduler.step()` was not necessary and is being deprecated where possible. Please use `scheduler.step()` to step the scheduler. During the deprecation, if epoch is different from None, the closed form is used instead of the new chainable form, where available. Please open an issue if you are unable to replicate your use case: https://github.com/pytorch/pytorch/issues/new/choose.\n",
      "  warnings.warn(EPOCH_DEPRECATION_WARNING, UserWarning)\n",
      "loss: 4.6079, accuracy: 0.0000: 100%|████████████████████████████████████████████████| 475/475 [00:29<00:00, 16.10it/s]\n",
      "loss: 4.6083, accuracy: 0.0000: 100%|██████████████████████████████████████████████████| 25/25 [00:07<00:00,  3.34it/s]\n",
      "E:\\notebook\\mlpractical\\mlpractical-mlp2021-22-coursework2\\pytorch_mlp_framework\\experiment_builder.py:134: UserWarning: Attempting to set identical left == right == 0 results in singular transformations; automatically expanding.\n",
      "  plt.xlim(xmin=0, xmax=len(all_grads))\n"
     ]
    },
    {
     "name": "stdout",
     "output_type": "stream",
     "text": [
      "Epoch 4: train_acc_0.0095_train_loss_4.6060_val_acc_0.0064_val_loss_4.6068 epoch time 36.9757 seconds\n",
      "Generating Gradient Flow Plot at epoch 4\n"
     ]
    },
    {
     "name": "stderr",
     "output_type": "stream",
     "text": [
      "  0%|                                                                                          | 0/475 [00:00<?, ?it/s]c:\\users\\neko_maru~\\appdata\\local\\programs\\python\\python37\\lib\\site-packages\\torch\\optim\\lr_scheduler.py:154: UserWarning: The epoch parameter in `scheduler.step()` was not necessary and is being deprecated where possible. Please use `scheduler.step()` to step the scheduler. During the deprecation, if epoch is different from None, the closed form is used instead of the new chainable form, where available. Please open an issue if you are unable to replicate your use case: https://github.com/pytorch/pytorch/issues/new/choose.\n",
      "  warnings.warn(EPOCH_DEPRECATION_WARNING, UserWarning)\n",
      "loss: 4.6045, accuracy: 0.0100: 100%|████████████████████████████████████████████████| 475/475 [00:29<00:00, 16.14it/s]\n",
      "loss: 4.6093, accuracy: 0.0000: 100%|██████████████████████████████████████████████████| 25/25 [00:07<00:00,  3.35it/s]\n",
      "E:\\notebook\\mlpractical\\mlpractical-mlp2021-22-coursework2\\pytorch_mlp_framework\\experiment_builder.py:134: UserWarning: Attempting to set identical left == right == 0 results in singular transformations; automatically expanding.\n",
      "  plt.xlim(xmin=0, xmax=len(all_grads))\n"
     ]
    },
    {
     "name": "stdout",
     "output_type": "stream",
     "text": [
      "Epoch 5: train_acc_0.0090_train_loss_4.6059_val_acc_0.0068_val_loss_4.6071 epoch time 36.9089 seconds\n",
      "Generating Gradient Flow Plot at epoch 5\n"
     ]
    },
    {
     "name": "stderr",
     "output_type": "stream",
     "text": [
      "  0%|                                                                                          | 0/475 [00:00<?, ?it/s]c:\\users\\neko_maru~\\appdata\\local\\programs\\python\\python37\\lib\\site-packages\\torch\\optim\\lr_scheduler.py:154: UserWarning: The epoch parameter in `scheduler.step()` was not necessary and is being deprecated where possible. Please use `scheduler.step()` to step the scheduler. During the deprecation, if epoch is different from None, the closed form is used instead of the new chainable form, where available. Please open an issue if you are unable to replicate your use case: https://github.com/pytorch/pytorch/issues/new/choose.\n",
      "  warnings.warn(EPOCH_DEPRECATION_WARNING, UserWarning)\n",
      "loss: 4.6077, accuracy: 0.0100: 100%|████████████████████████████████████████████████| 475/475 [00:29<00:00, 16.14it/s]\n",
      "loss: 4.6051, accuracy: 0.0100: 100%|██████████████████████████████████████████████████| 25/25 [00:07<00:00,  3.38it/s]\n",
      "E:\\notebook\\mlpractical\\mlpractical-mlp2021-22-coursework2\\pytorch_mlp_framework\\experiment_builder.py:134: UserWarning: Attempting to set identical left == right == 0 results in singular transformations; automatically expanding.\n",
      "  plt.xlim(xmin=0, xmax=len(all_grads))\n"
     ]
    },
    {
     "name": "stdout",
     "output_type": "stream",
     "text": [
      "Epoch 6: train_acc_0.0090_train_loss_4.6059_val_acc_0.0076_val_loss_4.6069 epoch time 36.8238 seconds\n",
      "Generating Gradient Flow Plot at epoch 6\n"
     ]
    },
    {
     "name": "stderr",
     "output_type": "stream",
     "text": [
      "  0%|                                                                                          | 0/475 [00:00<?, ?it/s]c:\\users\\neko_maru~\\appdata\\local\\programs\\python\\python37\\lib\\site-packages\\torch\\optim\\lr_scheduler.py:154: UserWarning: The epoch parameter in `scheduler.step()` was not necessary and is being deprecated where possible. Please use `scheduler.step()` to step the scheduler. During the deprecation, if epoch is different from None, the closed form is used instead of the new chainable form, where available. Please open an issue if you are unable to replicate your use case: https://github.com/pytorch/pytorch/issues/new/choose.\n",
      "  warnings.warn(EPOCH_DEPRECATION_WARNING, UserWarning)\n",
      "loss: 4.6066, accuracy: 0.0100: 100%|████████████████████████████████████████████████| 475/475 [00:30<00:00, 15.81it/s]\n",
      "loss: 4.6076, accuracy: 0.0100: 100%|██████████████████████████████████████████████████| 25/25 [00:07<00:00,  3.35it/s]\n",
      "E:\\notebook\\mlpractical\\mlpractical-mlp2021-22-coursework2\\pytorch_mlp_framework\\experiment_builder.py:134: UserWarning: Attempting to set identical left == right == 0 results in singular transformations; automatically expanding.\n",
      "  plt.xlim(xmin=0, xmax=len(all_grads))\n"
     ]
    },
    {
     "name": "stdout",
     "output_type": "stream",
     "text": [
      "Epoch 7: train_acc_0.0093_train_loss_4.6058_val_acc_0.0064_val_loss_4.6067 epoch time 37.5120 seconds\n",
      "Generating Gradient Flow Plot at epoch 7\n"
     ]
    },
    {
     "name": "stderr",
     "output_type": "stream",
     "text": [
      "  0%|                                                                                          | 0/475 [00:00<?, ?it/s]c:\\users\\neko_maru~\\appdata\\local\\programs\\python\\python37\\lib\\site-packages\\torch\\optim\\lr_scheduler.py:154: UserWarning: The epoch parameter in `scheduler.step()` was not necessary and is being deprecated where possible. Please use `scheduler.step()` to step the scheduler. During the deprecation, if epoch is different from None, the closed form is used instead of the new chainable form, where available. Please open an issue if you are unable to replicate your use case: https://github.com/pytorch/pytorch/issues/new/choose.\n",
      "  warnings.warn(EPOCH_DEPRECATION_WARNING, UserWarning)\n",
      "loss: 4.6064, accuracy: 0.0000: 100%|████████████████████████████████████████████████| 475/475 [00:29<00:00, 16.09it/s]\n",
      "loss: 4.6080, accuracy: 0.0100: 100%|██████████████████████████████████████████████████| 25/25 [00:07<00:00,  3.40it/s]\n",
      "E:\\notebook\\mlpractical\\mlpractical-mlp2021-22-coursework2\\pytorch_mlp_framework\\experiment_builder.py:134: UserWarning: Attempting to set identical left == right == 0 results in singular transformations; automatically expanding.\n",
      "  plt.xlim(xmin=0, xmax=len(all_grads))\n"
     ]
    },
    {
     "name": "stdout",
     "output_type": "stream",
     "text": [
      "Epoch 8: train_acc_0.0087_train_loss_4.6058_val_acc_0.0064_val_loss_4.6069 epoch time 36.8850 seconds\n",
      "Generating Gradient Flow Plot at epoch 8\n"
     ]
    },
    {
     "name": "stderr",
     "output_type": "stream",
     "text": [
      "  0%|                                                                                          | 0/475 [00:00<?, ?it/s]c:\\users\\neko_maru~\\appdata\\local\\programs\\python\\python37\\lib\\site-packages\\torch\\optim\\lr_scheduler.py:154: UserWarning: The epoch parameter in `scheduler.step()` was not necessary and is being deprecated where possible. Please use `scheduler.step()` to step the scheduler. During the deprecation, if epoch is different from None, the closed form is used instead of the new chainable form, where available. Please open an issue if you are unable to replicate your use case: https://github.com/pytorch/pytorch/issues/new/choose.\n",
      "  warnings.warn(EPOCH_DEPRECATION_WARNING, UserWarning)\n",
      "loss: 4.6052, accuracy: 0.0100: 100%|████████████████████████████████████████████████| 475/475 [00:29<00:00, 16.09it/s]\n",
      "loss: 4.6058, accuracy: 0.0000: 100%|██████████████████████████████████████████████████| 25/25 [00:08<00:00,  3.10it/s]\n",
      "E:\\notebook\\mlpractical\\mlpractical-mlp2021-22-coursework2\\pytorch_mlp_framework\\experiment_builder.py:134: UserWarning: Attempting to set identical left == right == 0 results in singular transformations; automatically expanding.\n",
      "  plt.xlim(xmin=0, xmax=len(all_grads))\n"
     ]
    },
    {
     "name": "stdout",
     "output_type": "stream",
     "text": [
      "Epoch 9: train_acc_0.0093_train_loss_4.6058_val_acc_0.0064_val_loss_4.6067 epoch time 37.5861 seconds\n",
      "Generating Gradient Flow Plot at epoch 9\n"
     ]
    },
    {
     "name": "stderr",
     "output_type": "stream",
     "text": [
      "  0%|                                                                                          | 0/475 [00:00<?, ?it/s]c:\\users\\neko_maru~\\appdata\\local\\programs\\python\\python37\\lib\\site-packages\\torch\\optim\\lr_scheduler.py:154: UserWarning: The epoch parameter in `scheduler.step()` was not necessary and is being deprecated where possible. Please use `scheduler.step()` to step the scheduler. During the deprecation, if epoch is different from None, the closed form is used instead of the new chainable form, where available. Please open an issue if you are unable to replicate your use case: https://github.com/pytorch/pytorch/issues/new/choose.\n",
      "  warnings.warn(EPOCH_DEPRECATION_WARNING, UserWarning)\n",
      "loss: 4.6053, accuracy: 0.0200: 100%|████████████████████████████████████████████████| 475/475 [00:32<00:00, 14.81it/s]\n",
      "loss: 4.6073, accuracy: 0.0000: 100%|██████████████████████████████████████████████████| 25/25 [00:09<00:00,  2.73it/s]\n",
      "E:\\notebook\\mlpractical\\mlpractical-mlp2021-22-coursework2\\pytorch_mlp_framework\\experiment_builder.py:134: UserWarning: Attempting to set identical left == right == 0 results in singular transformations; automatically expanding.\n",
      "  plt.xlim(xmin=0, xmax=len(all_grads))\n"
     ]
    },
    {
     "name": "stdout",
     "output_type": "stream",
     "text": [
      "Epoch 10: train_acc_0.0096_train_loss_4.6058_val_acc_0.0072_val_loss_4.6067 epoch time 41.2528 seconds\n",
      "Generating Gradient Flow Plot at epoch 10\n"
     ]
    },
    {
     "name": "stderr",
     "output_type": "stream",
     "text": [
      "  0%|                                                                                          | 0/475 [00:00<?, ?it/s]c:\\users\\neko_maru~\\appdata\\local\\programs\\python\\python37\\lib\\site-packages\\torch\\optim\\lr_scheduler.py:154: UserWarning: The epoch parameter in `scheduler.step()` was not necessary and is being deprecated where possible. Please use `scheduler.step()` to step the scheduler. During the deprecation, if epoch is different from None, the closed form is used instead of the new chainable form, where available. Please open an issue if you are unable to replicate your use case: https://github.com/pytorch/pytorch/issues/new/choose.\n",
      "  warnings.warn(EPOCH_DEPRECATION_WARNING, UserWarning)\n",
      "loss: 4.6065, accuracy: 0.0000: 100%|████████████████████████████████████████████████| 475/475 [00:34<00:00, 13.59it/s]\n",
      "loss: 4.6075, accuracy: 0.0100: 100%|██████████████████████████████████████████████████| 25/25 [00:09<00:00,  2.68it/s]\n",
      "E:\\notebook\\mlpractical\\mlpractical-mlp2021-22-coursework2\\pytorch_mlp_framework\\experiment_builder.py:134: UserWarning: Attempting to set identical left == right == 0 results in singular transformations; automatically expanding.\n",
      "  plt.xlim(xmin=0, xmax=len(all_grads))\n"
     ]
    },
    {
     "name": "stdout",
     "output_type": "stream",
     "text": [
      "Epoch 11: train_acc_0.0092_train_loss_4.6058_val_acc_0.0072_val_loss_4.6067 epoch time 44.2937 seconds\n",
      "Generating Gradient Flow Plot at epoch 11\n"
     ]
    },
    {
     "name": "stderr",
     "output_type": "stream",
     "text": [
      "  0%|                                                                                          | 0/475 [00:00<?, ?it/s]c:\\users\\neko_maru~\\appdata\\local\\programs\\python\\python37\\lib\\site-packages\\torch\\optim\\lr_scheduler.py:154: UserWarning: The epoch parameter in `scheduler.step()` was not necessary and is being deprecated where possible. Please use `scheduler.step()` to step the scheduler. During the deprecation, if epoch is different from None, the closed form is used instead of the new chainable form, where available. Please open an issue if you are unable to replicate your use case: https://github.com/pytorch/pytorch/issues/new/choose.\n",
      "  warnings.warn(EPOCH_DEPRECATION_WARNING, UserWarning)\n",
      "loss: 4.6054, accuracy: 0.0200: 100%|████████████████████████████████████████████████| 475/475 [00:31<00:00, 14.97it/s]\n",
      "loss: 4.6061, accuracy: 0.0100: 100%|██████████████████████████████████████████████████| 25/25 [00:07<00:00,  3.23it/s]\n",
      "E:\\notebook\\mlpractical\\mlpractical-mlp2021-22-coursework2\\pytorch_mlp_framework\\experiment_builder.py:134: UserWarning: Attempting to set identical left == right == 0 results in singular transformations; automatically expanding.\n",
      "  plt.xlim(xmin=0, xmax=len(all_grads))\n"
     ]
    },
    {
     "name": "stdout",
     "output_type": "stream",
     "text": [
      "Epoch 12: train_acc_0.0098_train_loss_4.6057_val_acc_0.0076_val_loss_4.6068 epoch time 39.4789 seconds\n",
      "Generating Gradient Flow Plot at epoch 12\n"
     ]
    },
    {
     "name": "stderr",
     "output_type": "stream",
     "text": [
      "  0%|                                                                                          | 0/475 [00:00<?, ?it/s]c:\\users\\neko_maru~\\appdata\\local\\programs\\python\\python37\\lib\\site-packages\\torch\\optim\\lr_scheduler.py:154: UserWarning: The epoch parameter in `scheduler.step()` was not necessary and is being deprecated where possible. Please use `scheduler.step()` to step the scheduler. During the deprecation, if epoch is different from None, the closed form is used instead of the new chainable form, where available. Please open an issue if you are unable to replicate your use case: https://github.com/pytorch/pytorch/issues/new/choose.\n",
      "  warnings.warn(EPOCH_DEPRECATION_WARNING, UserWarning)\n",
      "loss: 4.6063, accuracy: 0.0100: 100%|████████████████████████████████████████████████| 475/475 [00:33<00:00, 14.28it/s]\n",
      "loss: 4.6073, accuracy: 0.0000: 100%|██████████████████████████████████████████████████| 25/25 [00:09<00:00,  2.65it/s]\n",
      "E:\\notebook\\mlpractical\\mlpractical-mlp2021-22-coursework2\\pytorch_mlp_framework\\experiment_builder.py:134: UserWarning: Attempting to set identical left == right == 0 results in singular transformations; automatically expanding.\n",
      "  plt.xlim(xmin=0, xmax=len(all_grads))\n"
     ]
    },
    {
     "name": "stdout",
     "output_type": "stream",
     "text": [
      "Epoch 13: train_acc_0.0093_train_loss_4.6057_val_acc_0.0076_val_loss_4.6070 epoch time 42.7081 seconds\n",
      "Generating Gradient Flow Plot at epoch 13\n"
     ]
    },
    {
     "name": "stderr",
     "output_type": "stream",
     "text": [
      "  0%|                                                                                          | 0/475 [00:00<?, ?it/s]c:\\users\\neko_maru~\\appdata\\local\\programs\\python\\python37\\lib\\site-packages\\torch\\optim\\lr_scheduler.py:154: UserWarning: The epoch parameter in `scheduler.step()` was not necessary and is being deprecated where possible. Please use `scheduler.step()` to step the scheduler. During the deprecation, if epoch is different from None, the closed form is used instead of the new chainable form, where available. Please open an issue if you are unable to replicate your use case: https://github.com/pytorch/pytorch/issues/new/choose.\n",
      "  warnings.warn(EPOCH_DEPRECATION_WARNING, UserWarning)\n",
      "loss: 4.6051, accuracy: 0.0100: 100%|████████████████████████████████████████████████| 475/475 [00:34<00:00, 13.72it/s]\n",
      "loss: 4.6059, accuracy: 0.0100: 100%|██████████████████████████████████████████████████| 25/25 [00:08<00:00,  2.95it/s]\n",
      "E:\\notebook\\mlpractical\\mlpractical-mlp2021-22-coursework2\\pytorch_mlp_framework\\experiment_builder.py:134: UserWarning: Attempting to set identical left == right == 0 results in singular transformations; automatically expanding.\n",
      "  plt.xlim(xmin=0, xmax=len(all_grads))\n"
     ]
    },
    {
     "name": "stdout",
     "output_type": "stream",
     "text": [
      "Epoch 14: train_acc_0.0087_train_loss_4.6057_val_acc_0.0064_val_loss_4.6068 epoch time 43.1206 seconds\n",
      "Generating Gradient Flow Plot at epoch 14\n"
     ]
    },
    {
     "name": "stderr",
     "output_type": "stream",
     "text": [
      "  0%|                                                                                          | 0/475 [00:00<?, ?it/s]c:\\users\\neko_maru~\\appdata\\local\\programs\\python\\python37\\lib\\site-packages\\torch\\optim\\lr_scheduler.py:154: UserWarning: The epoch parameter in `scheduler.step()` was not necessary and is being deprecated where possible. Please use `scheduler.step()` to step the scheduler. During the deprecation, if epoch is different from None, the closed form is used instead of the new chainable form, where available. Please open an issue if you are unable to replicate your use case: https://github.com/pytorch/pytorch/issues/new/choose.\n",
      "  warnings.warn(EPOCH_DEPRECATION_WARNING, UserWarning)\n",
      "loss: 4.6063, accuracy: 0.0100: 100%|████████████████████████████████████████████████| 475/475 [00:31<00:00, 14.99it/s]\n",
      "loss: 4.6089, accuracy: 0.0000: 100%|██████████████████████████████████████████████████| 25/25 [00:08<00:00,  2.88it/s]\n",
      "E:\\notebook\\mlpractical\\mlpractical-mlp2021-22-coursework2\\pytorch_mlp_framework\\experiment_builder.py:134: UserWarning: Attempting to set identical left == right == 0 results in singular transformations; automatically expanding.\n",
      "  plt.xlim(xmin=0, xmax=len(all_grads))\n"
     ]
    },
    {
     "name": "stdout",
     "output_type": "stream",
     "text": [
      "Epoch 15: train_acc_0.0092_train_loss_4.6057_val_acc_0.0072_val_loss_4.6068 epoch time 40.3886 seconds\n",
      "Generating Gradient Flow Plot at epoch 15\n"
     ]
    },
    {
     "name": "stderr",
     "output_type": "stream",
     "text": [
      "  0%|                                                                                          | 0/475 [00:00<?, ?it/s]c:\\users\\neko_maru~\\appdata\\local\\programs\\python\\python37\\lib\\site-packages\\torch\\optim\\lr_scheduler.py:154: UserWarning: The epoch parameter in `scheduler.step()` was not necessary and is being deprecated where possible. Please use `scheduler.step()` to step the scheduler. During the deprecation, if epoch is different from None, the closed form is used instead of the new chainable form, where available. Please open an issue if you are unable to replicate your use case: https://github.com/pytorch/pytorch/issues/new/choose.\n",
      "  warnings.warn(EPOCH_DEPRECATION_WARNING, UserWarning)\n",
      "loss: 4.6063, accuracy: 0.0100: 100%|████████████████████████████████████████████████| 475/475 [00:32<00:00, 14.54it/s]\n",
      "loss: 4.6051, accuracy: 0.0100: 100%|██████████████████████████████████████████████████| 25/25 [00:08<00:00,  2.85it/s]\n",
      "E:\\notebook\\mlpractical\\mlpractical-mlp2021-22-coursework2\\pytorch_mlp_framework\\experiment_builder.py:134: UserWarning: Attempting to set identical left == right == 0 results in singular transformations; automatically expanding.\n",
      "  plt.xlim(xmin=0, xmax=len(all_grads))\n"
     ]
    },
    {
     "name": "stdout",
     "output_type": "stream",
     "text": [
      "Epoch 16: train_acc_0.0089_train_loss_4.6057_val_acc_0.0064_val_loss_4.6070 epoch time 41.4517 seconds\n",
      "Generating Gradient Flow Plot at epoch 16\n"
     ]
    },
    {
     "name": "stderr",
     "output_type": "stream",
     "text": [
      "  0%|                                                                                          | 0/475 [00:00<?, ?it/s]c:\\users\\neko_maru~\\appdata\\local\\programs\\python\\python37\\lib\\site-packages\\torch\\optim\\lr_scheduler.py:154: UserWarning: The epoch parameter in `scheduler.step()` was not necessary and is being deprecated where possible. Please use `scheduler.step()` to step the scheduler. During the deprecation, if epoch is different from None, the closed form is used instead of the new chainable form, where available. Please open an issue if you are unable to replicate your use case: https://github.com/pytorch/pytorch/issues/new/choose.\n",
      "  warnings.warn(EPOCH_DEPRECATION_WARNING, UserWarning)\n",
      "loss: 4.6049, accuracy: 0.0200: 100%|████████████████████████████████████████████████| 475/475 [00:31<00:00, 15.11it/s]\n",
      "loss: 4.6077, accuracy: 0.0000: 100%|██████████████████████████████████████████████████| 25/25 [00:07<00:00,  3.33it/s]\n",
      "E:\\notebook\\mlpractical\\mlpractical-mlp2021-22-coursework2\\pytorch_mlp_framework\\experiment_builder.py:134: UserWarning: Attempting to set identical left == right == 0 results in singular transformations; automatically expanding.\n",
      "  plt.xlim(xmin=0, xmax=len(all_grads))\n"
     ]
    },
    {
     "name": "stdout",
     "output_type": "stream",
     "text": [
      "Epoch 17: train_acc_0.0097_train_loss_4.6057_val_acc_0.0072_val_loss_4.6067 epoch time 38.9385 seconds\n",
      "Generating Gradient Flow Plot at epoch 17\n"
     ]
    },
    {
     "name": "stderr",
     "output_type": "stream",
     "text": [
      "  0%|                                                                                          | 0/475 [00:00<?, ?it/s]c:\\users\\neko_maru~\\appdata\\local\\programs\\python\\python37\\lib\\site-packages\\torch\\optim\\lr_scheduler.py:154: UserWarning: The epoch parameter in `scheduler.step()` was not necessary and is being deprecated where possible. Please use `scheduler.step()` to step the scheduler. During the deprecation, if epoch is different from None, the closed form is used instead of the new chainable form, where available. Please open an issue if you are unable to replicate your use case: https://github.com/pytorch/pytorch/issues/new/choose.\n",
      "  warnings.warn(EPOCH_DEPRECATION_WARNING, UserWarning)\n",
      "loss: 4.6061, accuracy: 0.0000: 100%|████████████████████████████████████████████████| 475/475 [00:29<00:00, 16.12it/s]\n",
      "loss: 4.6083, accuracy: 0.0000: 100%|██████████████████████████████████████████████████| 25/25 [00:08<00:00,  2.95it/s]\n",
      "E:\\notebook\\mlpractical\\mlpractical-mlp2021-22-coursework2\\pytorch_mlp_framework\\experiment_builder.py:134: UserWarning: Attempting to set identical left == right == 0 results in singular transformations; automatically expanding.\n",
      "  plt.xlim(xmin=0, xmax=len(all_grads))\n"
     ]
    },
    {
     "name": "stdout",
     "output_type": "stream",
     "text": [
      "Epoch 18: train_acc_0.0085_train_loss_4.6057_val_acc_0.0064_val_loss_4.6069 epoch time 37.9447 seconds\n",
      "Generating Gradient Flow Plot at epoch 18\n"
     ]
    },
    {
     "name": "stderr",
     "output_type": "stream",
     "text": [
      "  0%|                                                                                          | 0/475 [00:00<?, ?it/s]c:\\users\\neko_maru~\\appdata\\local\\programs\\python\\python37\\lib\\site-packages\\torch\\optim\\lr_scheduler.py:154: UserWarning: The epoch parameter in `scheduler.step()` was not necessary and is being deprecated where possible. Please use `scheduler.step()` to step the scheduler. During the deprecation, if epoch is different from None, the closed form is used instead of the new chainable form, where available. Please open an issue if you are unable to replicate your use case: https://github.com/pytorch/pytorch/issues/new/choose.\n",
      "  warnings.warn(EPOCH_DEPRECATION_WARNING, UserWarning)\n",
      "loss: 4.6055, accuracy: 0.0000: 100%|████████████████████████████████████████████████| 475/475 [00:33<00:00, 14.17it/s]\n",
      "loss: 4.6080, accuracy: 0.0100: 100%|██████████████████████████████████████████████████| 25/25 [00:07<00:00,  3.26it/s]\n",
      "E:\\notebook\\mlpractical\\mlpractical-mlp2021-22-coursework2\\pytorch_mlp_framework\\experiment_builder.py:134: UserWarning: Attempting to set identical left == right == 0 results in singular transformations; automatically expanding.\n",
      "  plt.xlim(xmin=0, xmax=len(all_grads))\n"
     ]
    },
    {
     "name": "stdout",
     "output_type": "stream",
     "text": [
      "Epoch 19: train_acc_0.0088_train_loss_4.6057_val_acc_0.0072_val_loss_4.6068 epoch time 41.2088 seconds\n",
      "Generating Gradient Flow Plot at epoch 19\n"
     ]
    },
    {
     "name": "stderr",
     "output_type": "stream",
     "text": [
      "  0%|                                                                                          | 0/475 [00:00<?, ?it/s]c:\\users\\neko_maru~\\appdata\\local\\programs\\python\\python37\\lib\\site-packages\\torch\\optim\\lr_scheduler.py:154: UserWarning: The epoch parameter in `scheduler.step()` was not necessary and is being deprecated where possible. Please use `scheduler.step()` to step the scheduler. During the deprecation, if epoch is different from None, the closed form is used instead of the new chainable form, where available. Please open an issue if you are unable to replicate your use case: https://github.com/pytorch/pytorch/issues/new/choose.\n",
      "  warnings.warn(EPOCH_DEPRECATION_WARNING, UserWarning)\n",
      "loss: 4.6070, accuracy: 0.0000: 100%|████████████████████████████████████████████████| 475/475 [00:30<00:00, 15.70it/s]\n",
      "loss: 4.6076, accuracy: 0.0000: 100%|██████████████████████████████████████████████████| 25/25 [00:07<00:00,  3.26it/s]\n",
      "E:\\notebook\\mlpractical\\mlpractical-mlp2021-22-coursework2\\pytorch_mlp_framework\\experiment_builder.py:134: UserWarning: Attempting to set identical left == right == 0 results in singular transformations; automatically expanding.\n",
      "  plt.xlim(xmin=0, xmax=len(all_grads))\n"
     ]
    },
    {
     "name": "stdout",
     "output_type": "stream",
     "text": [
      "Epoch 20: train_acc_0.0096_train_loss_4.6057_val_acc_0.0064_val_loss_4.6069 epoch time 37.9259 seconds\n",
      "Generating Gradient Flow Plot at epoch 20\n"
     ]
    },
    {
     "name": "stderr",
     "output_type": "stream",
     "text": [
      "  0%|                                                                                          | 0/475 [00:00<?, ?it/s]c:\\users\\neko_maru~\\appdata\\local\\programs\\python\\python37\\lib\\site-packages\\torch\\optim\\lr_scheduler.py:154: UserWarning: The epoch parameter in `scheduler.step()` was not necessary and is being deprecated where possible. Please use `scheduler.step()` to step the scheduler. During the deprecation, if epoch is different from None, the closed form is used instead of the new chainable form, where available. Please open an issue if you are unable to replicate your use case: https://github.com/pytorch/pytorch/issues/new/choose.\n",
      "  warnings.warn(EPOCH_DEPRECATION_WARNING, UserWarning)\n",
      "loss: 4.6069, accuracy: 0.0000: 100%|████████████████████████████████████████████████| 475/475 [00:29<00:00, 16.05it/s]\n",
      "loss: 4.6049, accuracy: 0.0100: 100%|██████████████████████████████████████████████████| 25/25 [00:07<00:00,  3.44it/s]\n",
      "E:\\notebook\\mlpractical\\mlpractical-mlp2021-22-coursework2\\pytorch_mlp_framework\\experiment_builder.py:134: UserWarning: Attempting to set identical left == right == 0 results in singular transformations; automatically expanding.\n",
      "  plt.xlim(xmin=0, xmax=len(all_grads))\n"
     ]
    },
    {
     "name": "stdout",
     "output_type": "stream",
     "text": [
      "Epoch 21: train_acc_0.0095_train_loss_4.6057_val_acc_0.0072_val_loss_4.6069 epoch time 36.8701 seconds\n",
      "Generating Gradient Flow Plot at epoch 21\n"
     ]
    },
    {
     "name": "stderr",
     "output_type": "stream",
     "text": [
      "  0%|                                                                                          | 0/475 [00:00<?, ?it/s]c:\\users\\neko_maru~\\appdata\\local\\programs\\python\\python37\\lib\\site-packages\\torch\\optim\\lr_scheduler.py:154: UserWarning: The epoch parameter in `scheduler.step()` was not necessary and is being deprecated where possible. Please use `scheduler.step()` to step the scheduler. During the deprecation, if epoch is different from None, the closed form is used instead of the new chainable form, where available. Please open an issue if you are unable to replicate your use case: https://github.com/pytorch/pytorch/issues/new/choose.\n",
      "  warnings.warn(EPOCH_DEPRECATION_WARNING, UserWarning)\n",
      "loss: 4.6064, accuracy: 0.0100: 100%|████████████████████████████████████████████████| 475/475 [00:29<00:00, 16.12it/s]\n",
      "loss: 4.6062, accuracy: 0.0200: 100%|██████████████████████████████████████████████████| 25/25 [00:07<00:00,  3.48it/s]\n",
      "E:\\notebook\\mlpractical\\mlpractical-mlp2021-22-coursework2\\pytorch_mlp_framework\\experiment_builder.py:134: UserWarning: Attempting to set identical left == right == 0 results in singular transformations; automatically expanding.\n",
      "  plt.xlim(xmin=0, xmax=len(all_grads))\n"
     ]
    },
    {
     "name": "stdout",
     "output_type": "stream",
     "text": [
      "Epoch 22: train_acc_0.0096_train_loss_4.6056_val_acc_0.0064_val_loss_4.6069 epoch time 36.6567 seconds\n",
      "Generating Gradient Flow Plot at epoch 22\n"
     ]
    },
    {
     "name": "stderr",
     "output_type": "stream",
     "text": [
      "  0%|                                                                                          | 0/475 [00:00<?, ?it/s]c:\\users\\neko_maru~\\appdata\\local\\programs\\python\\python37\\lib\\site-packages\\torch\\optim\\lr_scheduler.py:154: UserWarning: The epoch parameter in `scheduler.step()` was not necessary and is being deprecated where possible. Please use `scheduler.step()` to step the scheduler. During the deprecation, if epoch is different from None, the closed form is used instead of the new chainable form, where available. Please open an issue if you are unable to replicate your use case: https://github.com/pytorch/pytorch/issues/new/choose.\n",
      "  warnings.warn(EPOCH_DEPRECATION_WARNING, UserWarning)\n",
      "loss: 4.6039, accuracy: 0.0100: 100%|████████████████████████████████████████████████| 475/475 [00:28<00:00, 16.58it/s]\n",
      "loss: 4.6074, accuracy: 0.0000: 100%|██████████████████████████████████████████████████| 25/25 [00:07<00:00,  3.26it/s]\n",
      "E:\\notebook\\mlpractical\\mlpractical-mlp2021-22-coursework2\\pytorch_mlp_framework\\experiment_builder.py:134: UserWarning: Attempting to set identical left == right == 0 results in singular transformations; automatically expanding.\n",
      "  plt.xlim(xmin=0, xmax=len(all_grads))\n"
     ]
    },
    {
     "name": "stdout",
     "output_type": "stream",
     "text": [
      "Epoch 23: train_acc_0.0094_train_loss_4.6056_val_acc_0.0064_val_loss_4.6067 epoch time 36.3231 seconds\n",
      "Generating Gradient Flow Plot at epoch 23\n"
     ]
    },
    {
     "name": "stderr",
     "output_type": "stream",
     "text": [
      "  0%|                                                                                          | 0/475 [00:00<?, ?it/s]c:\\users\\neko_maru~\\appdata\\local\\programs\\python\\python37\\lib\\site-packages\\torch\\optim\\lr_scheduler.py:154: UserWarning: The epoch parameter in `scheduler.step()` was not necessary and is being deprecated where possible. Please use `scheduler.step()` to step the scheduler. During the deprecation, if epoch is different from None, the closed form is used instead of the new chainable form, where available. Please open an issue if you are unable to replicate your use case: https://github.com/pytorch/pytorch/issues/new/choose.\n",
      "  warnings.warn(EPOCH_DEPRECATION_WARNING, UserWarning)\n",
      "loss: 4.6065, accuracy: 0.0000: 100%|████████████████████████████████████████████████| 475/475 [00:28<00:00, 16.91it/s]\n",
      "loss: 4.6073, accuracy: 0.0000: 100%|██████████████████████████████████████████████████| 25/25 [00:07<00:00,  3.46it/s]\n",
      "E:\\notebook\\mlpractical\\mlpractical-mlp2021-22-coursework2\\pytorch_mlp_framework\\experiment_builder.py:134: UserWarning: Attempting to set identical left == right == 0 results in singular transformations; automatically expanding.\n",
      "  plt.xlim(xmin=0, xmax=len(all_grads))\n"
     ]
    },
    {
     "name": "stdout",
     "output_type": "stream",
     "text": [
      "Epoch 24: train_acc_0.0093_train_loss_4.6056_val_acc_0.0072_val_loss_4.6069 epoch time 35.3106 seconds\n",
      "Generating Gradient Flow Plot at epoch 24\n"
     ]
    },
    {
     "name": "stderr",
     "output_type": "stream",
     "text": [
      "  0%|                                                                                          | 0/475 [00:00<?, ?it/s]c:\\users\\neko_maru~\\appdata\\local\\programs\\python\\python37\\lib\\site-packages\\torch\\optim\\lr_scheduler.py:154: UserWarning: The epoch parameter in `scheduler.step()` was not necessary and is being deprecated where possible. Please use `scheduler.step()` to step the scheduler. During the deprecation, if epoch is different from None, the closed form is used instead of the new chainable form, where available. Please open an issue if you are unable to replicate your use case: https://github.com/pytorch/pytorch/issues/new/choose.\n",
      "  warnings.warn(EPOCH_DEPRECATION_WARNING, UserWarning)\n",
      "loss: 4.6056, accuracy: 0.0000: 100%|████████████████████████████████████████████████| 475/475 [00:28<00:00, 16.81it/s]\n",
      "loss: 4.6085, accuracy: 0.0100: 100%|██████████████████████████████████████████████████| 25/25 [00:08<00:00,  3.11it/s]\n",
      "E:\\notebook\\mlpractical\\mlpractical-mlp2021-22-coursework2\\pytorch_mlp_framework\\experiment_builder.py:134: UserWarning: Attempting to set identical left == right == 0 results in singular transformations; automatically expanding.\n",
      "  plt.xlim(xmin=0, xmax=len(all_grads))\n"
     ]
    },
    {
     "name": "stdout",
     "output_type": "stream",
     "text": [
      "Epoch 25: train_acc_0.0093_train_loss_4.6056_val_acc_0.0064_val_loss_4.6069 epoch time 36.2986 seconds\n",
      "Generating Gradient Flow Plot at epoch 25\n"
     ]
    },
    {
     "name": "stderr",
     "output_type": "stream",
     "text": [
      "  0%|                                                                                          | 0/475 [00:00<?, ?it/s]c:\\users\\neko_maru~\\appdata\\local\\programs\\python\\python37\\lib\\site-packages\\torch\\optim\\lr_scheduler.py:154: UserWarning: The epoch parameter in `scheduler.step()` was not necessary and is being deprecated where possible. Please use `scheduler.step()` to step the scheduler. During the deprecation, if epoch is different from None, the closed form is used instead of the new chainable form, where available. Please open an issue if you are unable to replicate your use case: https://github.com/pytorch/pytorch/issues/new/choose.\n",
      "  warnings.warn(EPOCH_DEPRECATION_WARNING, UserWarning)\n",
      "loss: 4.6056, accuracy: 0.0000: 100%|████████████████████████████████████████████████| 475/475 [00:28<00:00, 16.69it/s]\n",
      "loss: 4.6074, accuracy: 0.0000: 100%|██████████████████████████████████████████████████| 25/25 [00:07<00:00,  3.37it/s]\n",
      "E:\\notebook\\mlpractical\\mlpractical-mlp2021-22-coursework2\\pytorch_mlp_framework\\experiment_builder.py:134: UserWarning: Attempting to set identical left == right == 0 results in singular transformations; automatically expanding.\n",
      "  plt.xlim(xmin=0, xmax=len(all_grads))\n"
     ]
    },
    {
     "name": "stdout",
     "output_type": "stream",
     "text": [
      "Epoch 26: train_acc_0.0099_train_loss_4.6056_val_acc_0.0076_val_loss_4.6068 epoch time 35.8858 seconds\n",
      "Generating Gradient Flow Plot at epoch 26\n"
     ]
    },
    {
     "name": "stderr",
     "output_type": "stream",
     "text": [
      "  0%|                                                                                          | 0/475 [00:00<?, ?it/s]c:\\users\\neko_maru~\\appdata\\local\\programs\\python\\python37\\lib\\site-packages\\torch\\optim\\lr_scheduler.py:154: UserWarning: The epoch parameter in `scheduler.step()` was not necessary and is being deprecated where possible. Please use `scheduler.step()` to step the scheduler. During the deprecation, if epoch is different from None, the closed form is used instead of the new chainable form, where available. Please open an issue if you are unable to replicate your use case: https://github.com/pytorch/pytorch/issues/new/choose.\n",
      "  warnings.warn(EPOCH_DEPRECATION_WARNING, UserWarning)\n",
      "loss: 4.6052, accuracy: 0.0200: 100%|████████████████████████████████████████████████| 475/475 [00:29<00:00, 16.35it/s]\n",
      "loss: 4.6083, accuracy: 0.0000: 100%|██████████████████████████████████████████████████| 25/25 [00:07<00:00,  3.38it/s]\n",
      "E:\\notebook\\mlpractical\\mlpractical-mlp2021-22-coursework2\\pytorch_mlp_framework\\experiment_builder.py:134: UserWarning: Attempting to set identical left == right == 0 results in singular transformations; automatically expanding.\n",
      "  plt.xlim(xmin=0, xmax=len(all_grads))\n"
     ]
    },
    {
     "name": "stdout",
     "output_type": "stream",
     "text": [
      "Epoch 27: train_acc_0.0088_train_loss_4.6056_val_acc_0.0064_val_loss_4.6068 epoch time 36.4469 seconds\n",
      "Generating Gradient Flow Plot at epoch 27\n"
     ]
    },
    {
     "name": "stderr",
     "output_type": "stream",
     "text": [
      "  0%|                                                                                          | 0/475 [00:00<?, ?it/s]c:\\users\\neko_maru~\\appdata\\local\\programs\\python\\python37\\lib\\site-packages\\torch\\optim\\lr_scheduler.py:154: UserWarning: The epoch parameter in `scheduler.step()` was not necessary and is being deprecated where possible. Please use `scheduler.step()` to step the scheduler. During the deprecation, if epoch is different from None, the closed form is used instead of the new chainable form, where available. Please open an issue if you are unable to replicate your use case: https://github.com/pytorch/pytorch/issues/new/choose.\n",
      "  warnings.warn(EPOCH_DEPRECATION_WARNING, UserWarning)\n",
      "loss: 4.6059, accuracy: 0.0100: 100%|████████████████████████████████████████████████| 475/475 [00:28<00:00, 16.51it/s]\n",
      "loss: 4.6048, accuracy: 0.0200: 100%|██████████████████████████████████████████████████| 25/25 [00:07<00:00,  3.31it/s]\n",
      "E:\\notebook\\mlpractical\\mlpractical-mlp2021-22-coursework2\\pytorch_mlp_framework\\experiment_builder.py:134: UserWarning: Attempting to set identical left == right == 0 results in singular transformations; automatically expanding.\n",
      "  plt.xlim(xmin=0, xmax=len(all_grads))\n"
     ]
    },
    {
     "name": "stdout",
     "output_type": "stream",
     "text": [
      "Epoch 28: train_acc_0.0100_train_loss_4.6056_val_acc_0.0064_val_loss_4.6068 epoch time 36.3324 seconds\n",
      "Generating Gradient Flow Plot at epoch 28\n"
     ]
    },
    {
     "name": "stderr",
     "output_type": "stream",
     "text": [
      "  0%|                                                                                          | 0/475 [00:00<?, ?it/s]c:\\users\\neko_maru~\\appdata\\local\\programs\\python\\python37\\lib\\site-packages\\torch\\optim\\lr_scheduler.py:154: UserWarning: The epoch parameter in `scheduler.step()` was not necessary and is being deprecated where possible. Please use `scheduler.step()` to step the scheduler. During the deprecation, if epoch is different from None, the closed form is used instead of the new chainable form, where available. Please open an issue if you are unable to replicate your use case: https://github.com/pytorch/pytorch/issues/new/choose.\n",
      "  warnings.warn(EPOCH_DEPRECATION_WARNING, UserWarning)\n",
      "loss: 4.6069, accuracy: 0.0000: 100%|████████████████████████████████████████████████| 475/475 [00:29<00:00, 16.31it/s]\n",
      "loss: 4.6054, accuracy: 0.0100: 100%|██████████████████████████████████████████████████| 25/25 [00:08<00:00,  3.07it/s]\n",
      "E:\\notebook\\mlpractical\\mlpractical-mlp2021-22-coursework2\\pytorch_mlp_framework\\experiment_builder.py:134: UserWarning: Attempting to set identical left == right == 0 results in singular transformations; automatically expanding.\n",
      "  plt.xlim(xmin=0, xmax=len(all_grads))\n"
     ]
    },
    {
     "name": "stdout",
     "output_type": "stream",
     "text": [
      "Epoch 29: train_acc_0.0098_train_loss_4.6056_val_acc_0.0064_val_loss_4.6068 epoch time 37.2697 seconds\n",
      "Generating Gradient Flow Plot at epoch 29\n"
     ]
    },
    {
     "name": "stderr",
     "output_type": "stream",
     "text": [
      "  0%|                                                                                          | 0/475 [00:00<?, ?it/s]c:\\users\\neko_maru~\\appdata\\local\\programs\\python\\python37\\lib\\site-packages\\torch\\optim\\lr_scheduler.py:154: UserWarning: The epoch parameter in `scheduler.step()` was not necessary and is being deprecated where possible. Please use `scheduler.step()` to step the scheduler. During the deprecation, if epoch is different from None, the closed form is used instead of the new chainable form, where available. Please open an issue if you are unable to replicate your use case: https://github.com/pytorch/pytorch/issues/new/choose.\n",
      "  warnings.warn(EPOCH_DEPRECATION_WARNING, UserWarning)\n",
      "loss: 4.6049, accuracy: 0.0000: 100%|████████████████████████████████████████████████| 475/475 [00:31<00:00, 15.01it/s]\n",
      "loss: 4.6054, accuracy: 0.0000: 100%|██████████████████████████████████████████████████| 25/25 [00:08<00:00,  3.06it/s]\n",
      "E:\\notebook\\mlpractical\\mlpractical-mlp2021-22-coursework2\\pytorch_mlp_framework\\experiment_builder.py:134: UserWarning: Attempting to set identical left == right == 0 results in singular transformations; automatically expanding.\n",
      "  plt.xlim(xmin=0, xmax=len(all_grads))\n"
     ]
    },
    {
     "name": "stdout",
     "output_type": "stream",
     "text": [
      "Epoch 30: train_acc_0.0090_train_loss_4.6056_val_acc_0.0064_val_loss_4.6067 epoch time 39.8331 seconds\n",
      "Generating Gradient Flow Plot at epoch 30\n"
     ]
    },
    {
     "name": "stderr",
     "output_type": "stream",
     "text": [
      "  0%|                                                                                          | 0/475 [00:00<?, ?it/s]c:\\users\\neko_maru~\\appdata\\local\\programs\\python\\python37\\lib\\site-packages\\torch\\optim\\lr_scheduler.py:154: UserWarning: The epoch parameter in `scheduler.step()` was not necessary and is being deprecated where possible. Please use `scheduler.step()` to step the scheduler. During the deprecation, if epoch is different from None, the closed form is used instead of the new chainable form, where available. Please open an issue if you are unable to replicate your use case: https://github.com/pytorch/pytorch/issues/new/choose.\n",
      "  warnings.warn(EPOCH_DEPRECATION_WARNING, UserWarning)\n",
      "loss: 4.6055, accuracy: 0.0000: 100%|████████████████████████████████████████████████| 475/475 [00:29<00:00, 16.01it/s]\n",
      "loss: 4.6077, accuracy: 0.0300: 100%|██████████████████████████████████████████████████| 25/25 [00:07<00:00,  3.48it/s]\n",
      "E:\\notebook\\mlpractical\\mlpractical-mlp2021-22-coursework2\\pytorch_mlp_framework\\experiment_builder.py:134: UserWarning: Attempting to set identical left == right == 0 results in singular transformations; automatically expanding.\n",
      "  plt.xlim(xmin=0, xmax=len(all_grads))\n"
     ]
    },
    {
     "name": "stdout",
     "output_type": "stream",
     "text": [
      "Epoch 31: train_acc_0.0084_train_loss_4.6056_val_acc_0.0064_val_loss_4.6069 epoch time 36.8640 seconds\n",
      "Generating Gradient Flow Plot at epoch 31\n"
     ]
    },
    {
     "name": "stderr",
     "output_type": "stream",
     "text": [
      "  0%|                                                                                          | 0/475 [00:00<?, ?it/s]c:\\users\\neko_maru~\\appdata\\local\\programs\\python\\python37\\lib\\site-packages\\torch\\optim\\lr_scheduler.py:154: UserWarning: The epoch parameter in `scheduler.step()` was not necessary and is being deprecated where possible. Please use `scheduler.step()` to step the scheduler. During the deprecation, if epoch is different from None, the closed form is used instead of the new chainable form, where available. Please open an issue if you are unable to replicate your use case: https://github.com/pytorch/pytorch/issues/new/choose.\n",
      "  warnings.warn(EPOCH_DEPRECATION_WARNING, UserWarning)\n",
      "loss: 4.6051, accuracy: 0.0100: 100%|████████████████████████████████████████████████| 475/475 [00:27<00:00, 16.97it/s]\n",
      "loss: 4.6068, accuracy: 0.0000: 100%|██████████████████████████████████████████████████| 25/25 [00:07<00:00,  3.44it/s]\n",
      "E:\\notebook\\mlpractical\\mlpractical-mlp2021-22-coursework2\\pytorch_mlp_framework\\experiment_builder.py:134: UserWarning: Attempting to set identical left == right == 0 results in singular transformations; automatically expanding.\n",
      "  plt.xlim(xmin=0, xmax=len(all_grads))\n"
     ]
    },
    {
     "name": "stdout",
     "output_type": "stream",
     "text": [
      "Epoch 32: train_acc_0.0100_train_loss_4.6055_val_acc_0.0064_val_loss_4.6068 epoch time 35.2663 seconds\n",
      "Generating Gradient Flow Plot at epoch 32\n"
     ]
    },
    {
     "name": "stderr",
     "output_type": "stream",
     "text": [
      "  0%|                                                                                          | 0/475 [00:00<?, ?it/s]c:\\users\\neko_maru~\\appdata\\local\\programs\\python\\python37\\lib\\site-packages\\torch\\optim\\lr_scheduler.py:154: UserWarning: The epoch parameter in `scheduler.step()` was not necessary and is being deprecated where possible. Please use `scheduler.step()` to step the scheduler. During the deprecation, if epoch is different from None, the closed form is used instead of the new chainable form, where available. Please open an issue if you are unable to replicate your use case: https://github.com/pytorch/pytorch/issues/new/choose.\n",
      "  warnings.warn(EPOCH_DEPRECATION_WARNING, UserWarning)\n",
      "loss: 4.6060, accuracy: 0.0000: 100%|████████████████████████████████████████████████| 475/475 [00:28<00:00, 16.94it/s]\n",
      "loss: 4.6083, accuracy: 0.0000: 100%|██████████████████████████████████████████████████| 25/25 [00:07<00:00,  3.50it/s]\n",
      "E:\\notebook\\mlpractical\\mlpractical-mlp2021-22-coursework2\\pytorch_mlp_framework\\experiment_builder.py:134: UserWarning: Attempting to set identical left == right == 0 results in singular transformations; automatically expanding.\n",
      "  plt.xlim(xmin=0, xmax=len(all_grads))\n"
     ]
    },
    {
     "name": "stdout",
     "output_type": "stream",
     "text": [
      "Epoch 33: train_acc_0.0094_train_loss_4.6055_val_acc_0.0064_val_loss_4.6069 epoch time 35.1807 seconds\n",
      "Generating Gradient Flow Plot at epoch 33\n"
     ]
    },
    {
     "name": "stderr",
     "output_type": "stream",
     "text": [
      "  0%|                                                                                          | 0/475 [00:00<?, ?it/s]c:\\users\\neko_maru~\\appdata\\local\\programs\\python\\python37\\lib\\site-packages\\torch\\optim\\lr_scheduler.py:154: UserWarning: The epoch parameter in `scheduler.step()` was not necessary and is being deprecated where possible. Please use `scheduler.step()` to step the scheduler. During the deprecation, if epoch is different from None, the closed form is used instead of the new chainable form, where available. Please open an issue if you are unable to replicate your use case: https://github.com/pytorch/pytorch/issues/new/choose.\n",
      "  warnings.warn(EPOCH_DEPRECATION_WARNING, UserWarning)\n",
      "loss: 4.6069, accuracy: 0.0000: 100%|████████████████████████████████████████████████| 475/475 [00:28<00:00, 16.69it/s]\n",
      "loss: 4.6076, accuracy: 0.0000: 100%|██████████████████████████████████████████████████| 25/25 [00:07<00:00,  3.13it/s]\n",
      "E:\\notebook\\mlpractical\\mlpractical-mlp2021-22-coursework2\\pytorch_mlp_framework\\experiment_builder.py:134: UserWarning: Attempting to set identical left == right == 0 results in singular transformations; automatically expanding.\n",
      "  plt.xlim(xmin=0, xmax=len(all_grads))\n"
     ]
    },
    {
     "name": "stdout",
     "output_type": "stream",
     "text": [
      "Epoch 34: train_acc_0.0089_train_loss_4.6055_val_acc_0.0064_val_loss_4.6069 epoch time 36.4560 seconds\n",
      "Generating Gradient Flow Plot at epoch 34\n"
     ]
    },
    {
     "name": "stderr",
     "output_type": "stream",
     "text": [
      "  0%|                                                                                          | 0/475 [00:00<?, ?it/s]c:\\users\\neko_maru~\\appdata\\local\\programs\\python\\python37\\lib\\site-packages\\torch\\optim\\lr_scheduler.py:154: UserWarning: The epoch parameter in `scheduler.step()` was not necessary and is being deprecated where possible. Please use `scheduler.step()` to step the scheduler. During the deprecation, if epoch is different from None, the closed form is used instead of the new chainable form, where available. Please open an issue if you are unable to replicate your use case: https://github.com/pytorch/pytorch/issues/new/choose.\n",
      "  warnings.warn(EPOCH_DEPRECATION_WARNING, UserWarning)\n",
      "loss: 4.6042, accuracy: 0.0000: 100%|████████████████████████████████████████████████| 475/475 [00:28<00:00, 16.81it/s]\n",
      "loss: 4.6069, accuracy: 0.0000: 100%|██████████████████████████████████████████████████| 25/25 [00:07<00:00,  3.48it/s]\n",
      "E:\\notebook\\mlpractical\\mlpractical-mlp2021-22-coursework2\\pytorch_mlp_framework\\experiment_builder.py:134: UserWarning: Attempting to set identical left == right == 0 results in singular transformations; automatically expanding.\n",
      "  plt.xlim(xmin=0, xmax=len(all_grads))\n"
     ]
    },
    {
     "name": "stdout",
     "output_type": "stream",
     "text": [
      "Epoch 35: train_acc_0.0092_train_loss_4.6055_val_acc_0.0064_val_loss_4.6068 epoch time 35.4305 seconds\n",
      "Generating Gradient Flow Plot at epoch 35\n"
     ]
    },
    {
     "name": "stderr",
     "output_type": "stream",
     "text": [
      "  0%|                                                                                          | 0/475 [00:00<?, ?it/s]c:\\users\\neko_maru~\\appdata\\local\\programs\\python\\python37\\lib\\site-packages\\torch\\optim\\lr_scheduler.py:154: UserWarning: The epoch parameter in `scheduler.step()` was not necessary and is being deprecated where possible. Please use `scheduler.step()` to step the scheduler. During the deprecation, if epoch is different from None, the closed form is used instead of the new chainable form, where available. Please open an issue if you are unable to replicate your use case: https://github.com/pytorch/pytorch/issues/new/choose.\n",
      "  warnings.warn(EPOCH_DEPRECATION_WARNING, UserWarning)\n",
      "loss: 4.6047, accuracy: 0.0300: 100%|████████████████████████████████████████████████| 475/475 [00:29<00:00, 16.11it/s]\n",
      "loss: 4.6064, accuracy: 0.0100: 100%|██████████████████████████████████████████████████| 25/25 [00:07<00:00,  3.32it/s]\n",
      "E:\\notebook\\mlpractical\\mlpractical-mlp2021-22-coursework2\\pytorch_mlp_framework\\experiment_builder.py:134: UserWarning: Attempting to set identical left == right == 0 results in singular transformations; automatically expanding.\n",
      "  plt.xlim(xmin=0, xmax=len(all_grads))\n"
     ]
    },
    {
     "name": "stdout",
     "output_type": "stream",
     "text": [
      "Epoch 36: train_acc_0.0096_train_loss_4.6055_val_acc_0.0064_val_loss_4.6068 epoch time 37.0262 seconds\n",
      "Generating Gradient Flow Plot at epoch 36\n"
     ]
    },
    {
     "name": "stderr",
     "output_type": "stream",
     "text": [
      "  0%|                                                                                          | 0/475 [00:00<?, ?it/s]c:\\users\\neko_maru~\\appdata\\local\\programs\\python\\python37\\lib\\site-packages\\torch\\optim\\lr_scheduler.py:154: UserWarning: The epoch parameter in `scheduler.step()` was not necessary and is being deprecated where possible. Please use `scheduler.step()` to step the scheduler. During the deprecation, if epoch is different from None, the closed form is used instead of the new chainable form, where available. Please open an issue if you are unable to replicate your use case: https://github.com/pytorch/pytorch/issues/new/choose.\n",
      "  warnings.warn(EPOCH_DEPRECATION_WARNING, UserWarning)\n",
      "loss: 4.6075, accuracy: 0.0100: 100%|████████████████████████████████████████████████| 475/475 [00:28<00:00, 16.91it/s]\n",
      "loss: 4.6066, accuracy: 0.0100: 100%|██████████████████████████████████████████████████| 25/25 [00:07<00:00,  3.48it/s]\n",
      "E:\\notebook\\mlpractical\\mlpractical-mlp2021-22-coursework2\\pytorch_mlp_framework\\experiment_builder.py:134: UserWarning: Attempting to set identical left == right == 0 results in singular transformations; automatically expanding.\n",
      "  plt.xlim(xmin=0, xmax=len(all_grads))\n"
     ]
    },
    {
     "name": "stdout",
     "output_type": "stream",
     "text": [
      "Epoch 37: train_acc_0.0093_train_loss_4.6055_val_acc_0.0064_val_loss_4.6068 epoch time 35.2807 seconds\n",
      "Generating Gradient Flow Plot at epoch 37\n"
     ]
    },
    {
     "name": "stderr",
     "output_type": "stream",
     "text": [
      "  0%|                                                                                          | 0/475 [00:00<?, ?it/s]c:\\users\\neko_maru~\\appdata\\local\\programs\\python\\python37\\lib\\site-packages\\torch\\optim\\lr_scheduler.py:154: UserWarning: The epoch parameter in `scheduler.step()` was not necessary and is being deprecated where possible. Please use `scheduler.step()` to step the scheduler. During the deprecation, if epoch is different from None, the closed form is used instead of the new chainable form, where available. Please open an issue if you are unable to replicate your use case: https://github.com/pytorch/pytorch/issues/new/choose.\n",
      "  warnings.warn(EPOCH_DEPRECATION_WARNING, UserWarning)\n",
      "loss: 4.6063, accuracy: 0.0000: 100%|████████████████████████████████████████████████| 475/475 [00:28<00:00, 16.66it/s]\n",
      "loss: 4.6083, accuracy: 0.0000: 100%|██████████████████████████████████████████████████| 25/25 [00:07<00:00,  3.51it/s]\n",
      "E:\\notebook\\mlpractical\\mlpractical-mlp2021-22-coursework2\\pytorch_mlp_framework\\experiment_builder.py:134: UserWarning: Attempting to set identical left == right == 0 results in singular transformations; automatically expanding.\n",
      "  plt.xlim(xmin=0, xmax=len(all_grads))\n"
     ]
    },
    {
     "name": "stdout",
     "output_type": "stream",
     "text": [
      "Epoch 38: train_acc_0.0095_train_loss_4.6055_val_acc_0.0064_val_loss_4.6069 epoch time 35.6413 seconds\n",
      "Generating Gradient Flow Plot at epoch 38\n"
     ]
    },
    {
     "name": "stderr",
     "output_type": "stream",
     "text": [
      "  0%|                                                                                          | 0/475 [00:00<?, ?it/s]c:\\users\\neko_maru~\\appdata\\local\\programs\\python\\python37\\lib\\site-packages\\torch\\optim\\lr_scheduler.py:154: UserWarning: The epoch parameter in `scheduler.step()` was not necessary and is being deprecated where possible. Please use `scheduler.step()` to step the scheduler. During the deprecation, if epoch is different from None, the closed form is used instead of the new chainable form, where available. Please open an issue if you are unable to replicate your use case: https://github.com/pytorch/pytorch/issues/new/choose.\n",
      "  warnings.warn(EPOCH_DEPRECATION_WARNING, UserWarning)\n",
      "loss: 4.6055, accuracy: 0.0200: 100%|████████████████████████████████████████████████| 475/475 [00:28<00:00, 16.83it/s]\n",
      "loss: 4.6062, accuracy: 0.0100: 100%|██████████████████████████████████████████████████| 25/25 [00:07<00:00,  3.36it/s]\n",
      "E:\\notebook\\mlpractical\\mlpractical-mlp2021-22-coursework2\\pytorch_mlp_framework\\experiment_builder.py:134: UserWarning: Attempting to set identical left == right == 0 results in singular transformations; automatically expanding.\n",
      "  plt.xlim(xmin=0, xmax=len(all_grads))\n"
     ]
    },
    {
     "name": "stdout",
     "output_type": "stream",
     "text": [
      "Epoch 39: train_acc_0.0089_train_loss_4.6055_val_acc_0.0064_val_loss_4.6068 epoch time 35.6590 seconds\n",
      "Generating Gradient Flow Plot at epoch 39\n"
     ]
    },
    {
     "name": "stderr",
     "output_type": "stream",
     "text": [
      "  0%|                                                                                          | 0/475 [00:00<?, ?it/s]c:\\users\\neko_maru~\\appdata\\local\\programs\\python\\python37\\lib\\site-packages\\torch\\optim\\lr_scheduler.py:154: UserWarning: The epoch parameter in `scheduler.step()` was not necessary and is being deprecated where possible. Please use `scheduler.step()` to step the scheduler. During the deprecation, if epoch is different from None, the closed form is used instead of the new chainable form, where available. Please open an issue if you are unable to replicate your use case: https://github.com/pytorch/pytorch/issues/new/choose.\n",
      "  warnings.warn(EPOCH_DEPRECATION_WARNING, UserWarning)\n",
      "loss: 4.6060, accuracy: 0.0000: 100%|████████████████████████████████████████████████| 475/475 [00:32<00:00, 14.44it/s]\n",
      "loss: 4.6073, accuracy: 0.0000: 100%|██████████████████████████████████████████████████| 25/25 [00:08<00:00,  2.98it/s]\n",
      "E:\\notebook\\mlpractical\\mlpractical-mlp2021-22-coursework2\\pytorch_mlp_framework\\experiment_builder.py:134: UserWarning: Attempting to set identical left == right == 0 results in singular transformations; automatically expanding.\n",
      "  plt.xlim(xmin=0, xmax=len(all_grads))\n"
     ]
    },
    {
     "name": "stdout",
     "output_type": "stream",
     "text": [
      "Epoch 40: train_acc_0.0089_train_loss_4.6055_val_acc_0.0064_val_loss_4.6068 epoch time 41.2822 seconds\n",
      "Generating Gradient Flow Plot at epoch 40\n"
     ]
    },
    {
     "name": "stderr",
     "output_type": "stream",
     "text": [
      "  0%|                                                                                          | 0/475 [00:00<?, ?it/s]c:\\users\\neko_maru~\\appdata\\local\\programs\\python\\python37\\lib\\site-packages\\torch\\optim\\lr_scheduler.py:154: UserWarning: The epoch parameter in `scheduler.step()` was not necessary and is being deprecated where possible. Please use `scheduler.step()` to step the scheduler. During the deprecation, if epoch is different from None, the closed form is used instead of the new chainable form, where available. Please open an issue if you are unable to replicate your use case: https://github.com/pytorch/pytorch/issues/new/choose.\n",
      "  warnings.warn(EPOCH_DEPRECATION_WARNING, UserWarning)\n",
      "loss: 4.6068, accuracy: 0.0100: 100%|████████████████████████████████████████████████| 475/475 [00:29<00:00, 16.14it/s]\n",
      "loss: 4.6060, accuracy: 0.0000: 100%|██████████████████████████████████████████████████| 25/25 [00:07<00:00,  3.50it/s]\n",
      "E:\\notebook\\mlpractical\\mlpractical-mlp2021-22-coursework2\\pytorch_mlp_framework\\experiment_builder.py:134: UserWarning: Attempting to set identical left == right == 0 results in singular transformations; automatically expanding.\n",
      "  plt.xlim(xmin=0, xmax=len(all_grads))\n"
     ]
    },
    {
     "name": "stdout",
     "output_type": "stream",
     "text": [
      "Epoch 41: train_acc_0.0092_train_loss_4.6055_val_acc_0.0064_val_loss_4.6068 epoch time 36.5834 seconds\n",
      "Generating Gradient Flow Plot at epoch 41\n"
     ]
    },
    {
     "name": "stderr",
     "output_type": "stream",
     "text": [
      "  0%|                                                                                          | 0/475 [00:00<?, ?it/s]c:\\users\\neko_maru~\\appdata\\local\\programs\\python\\python37\\lib\\site-packages\\torch\\optim\\lr_scheduler.py:154: UserWarning: The epoch parameter in `scheduler.step()` was not necessary and is being deprecated where possible. Please use `scheduler.step()` to step the scheduler. During the deprecation, if epoch is different from None, the closed form is used instead of the new chainable form, where available. Please open an issue if you are unable to replicate your use case: https://github.com/pytorch/pytorch/issues/new/choose.\n",
      "  warnings.warn(EPOCH_DEPRECATION_WARNING, UserWarning)\n",
      "loss: 4.6064, accuracy: 0.0000: 100%|████████████████████████████████████████████████| 475/475 [00:28<00:00, 16.42it/s]\n",
      "loss: 4.6061, accuracy: 0.0100: 100%|██████████████████████████████████████████████████| 25/25 [00:07<00:00,  3.44it/s]\n",
      "E:\\notebook\\mlpractical\\mlpractical-mlp2021-22-coursework2\\pytorch_mlp_framework\\experiment_builder.py:134: UserWarning: Attempting to set identical left == right == 0 results in singular transformations; automatically expanding.\n",
      "  plt.xlim(xmin=0, xmax=len(all_grads))\n"
     ]
    },
    {
     "name": "stdout",
     "output_type": "stream",
     "text": [
      "Epoch 42: train_acc_0.0089_train_loss_4.6055_val_acc_0.0064_val_loss_4.6068 epoch time 36.2041 seconds\n",
      "Generating Gradient Flow Plot at epoch 42\n"
     ]
    },
    {
     "name": "stderr",
     "output_type": "stream",
     "text": [
      "  0%|                                                                                          | 0/475 [00:00<?, ?it/s]c:\\users\\neko_maru~\\appdata\\local\\programs\\python\\python37\\lib\\site-packages\\torch\\optim\\lr_scheduler.py:154: UserWarning: The epoch parameter in `scheduler.step()` was not necessary and is being deprecated where possible. Please use `scheduler.step()` to step the scheduler. During the deprecation, if epoch is different from None, the closed form is used instead of the new chainable form, where available. Please open an issue if you are unable to replicate your use case: https://github.com/pytorch/pytorch/issues/new/choose.\n",
      "  warnings.warn(EPOCH_DEPRECATION_WARNING, UserWarning)\n",
      "loss: 4.6062, accuracy: 0.0200: 100%|████████████████████████████████████████████████| 475/475 [00:29<00:00, 16.35it/s]\n",
      "loss: 4.6068, accuracy: 0.0000: 100%|██████████████████████████████████████████████████| 25/25 [00:07<00:00,  3.18it/s]\n",
      "E:\\notebook\\mlpractical\\mlpractical-mlp2021-22-coursework2\\pytorch_mlp_framework\\experiment_builder.py:134: UserWarning: Attempting to set identical left == right == 0 results in singular transformations; automatically expanding.\n",
      "  plt.xlim(xmin=0, xmax=len(all_grads))\n"
     ]
    },
    {
     "name": "stdout",
     "output_type": "stream",
     "text": [
      "Epoch 43: train_acc_0.0100_train_loss_4.6054_val_acc_0.0064_val_loss_4.6069 epoch time 36.9353 seconds\n",
      "Generating Gradient Flow Plot at epoch 43\n"
     ]
    },
    {
     "name": "stderr",
     "output_type": "stream",
     "text": [
      "  0%|                                                                                          | 0/475 [00:00<?, ?it/s]c:\\users\\neko_maru~\\appdata\\local\\programs\\python\\python37\\lib\\site-packages\\torch\\optim\\lr_scheduler.py:154: UserWarning: The epoch parameter in `scheduler.step()` was not necessary and is being deprecated where possible. Please use `scheduler.step()` to step the scheduler. During the deprecation, if epoch is different from None, the closed form is used instead of the new chainable form, where available. Please open an issue if you are unable to replicate your use case: https://github.com/pytorch/pytorch/issues/new/choose.\n",
      "  warnings.warn(EPOCH_DEPRECATION_WARNING, UserWarning)\n",
      "loss: 4.6055, accuracy: 0.0000: 100%|████████████████████████████████████████████████| 475/475 [00:29<00:00, 16.21it/s]\n",
      "loss: 4.6061, accuracy: 0.0000: 100%|██████████████████████████████████████████████████| 25/25 [00:07<00:00,  3.21it/s]\n",
      "E:\\notebook\\mlpractical\\mlpractical-mlp2021-22-coursework2\\pytorch_mlp_framework\\experiment_builder.py:134: UserWarning: Attempting to set identical left == right == 0 results in singular transformations; automatically expanding.\n",
      "  plt.xlim(xmin=0, xmax=len(all_grads))\n"
     ]
    },
    {
     "name": "stdout",
     "output_type": "stream",
     "text": [
      "Epoch 44: train_acc_0.0088_train_loss_4.6054_val_acc_0.0064_val_loss_4.6069 epoch time 37.0824 seconds\n",
      "Generating Gradient Flow Plot at epoch 44\n"
     ]
    },
    {
     "name": "stderr",
     "output_type": "stream",
     "text": [
      "  0%|                                                                                          | 0/475 [00:00<?, ?it/s]c:\\users\\neko_maru~\\appdata\\local\\programs\\python\\python37\\lib\\site-packages\\torch\\optim\\lr_scheduler.py:154: UserWarning: The epoch parameter in `scheduler.step()` was not necessary and is being deprecated where possible. Please use `scheduler.step()` to step the scheduler. During the deprecation, if epoch is different from None, the closed form is used instead of the new chainable form, where available. Please open an issue if you are unable to replicate your use case: https://github.com/pytorch/pytorch/issues/new/choose.\n",
      "  warnings.warn(EPOCH_DEPRECATION_WARNING, UserWarning)\n",
      "loss: 4.6064, accuracy: 0.0000: 100%|████████████████████████████████████████████████| 475/475 [00:29<00:00, 15.85it/s]\n",
      "loss: 4.6073, accuracy: 0.0000: 100%|██████████████████████████████████████████████████| 25/25 [00:07<00:00,  3.35it/s]\n",
      "E:\\notebook\\mlpractical\\mlpractical-mlp2021-22-coursework2\\pytorch_mlp_framework\\experiment_builder.py:134: UserWarning: Attempting to set identical left == right == 0 results in singular transformations; automatically expanding.\n",
      "  plt.xlim(xmin=0, xmax=len(all_grads))\n"
     ]
    },
    {
     "name": "stdout",
     "output_type": "stream",
     "text": [
      "Epoch 45: train_acc_0.0092_train_loss_4.6054_val_acc_0.0064_val_loss_4.6069 epoch time 37.4230 seconds\n",
      "Generating Gradient Flow Plot at epoch 45\n"
     ]
    },
    {
     "name": "stderr",
     "output_type": "stream",
     "text": [
      "  0%|                                                                                          | 0/475 [00:00<?, ?it/s]c:\\users\\neko_maru~\\appdata\\local\\programs\\python\\python37\\lib\\site-packages\\torch\\optim\\lr_scheduler.py:154: UserWarning: The epoch parameter in `scheduler.step()` was not necessary and is being deprecated where possible. Please use `scheduler.step()` to step the scheduler. During the deprecation, if epoch is different from None, the closed form is used instead of the new chainable form, where available. Please open an issue if you are unable to replicate your use case: https://github.com/pytorch/pytorch/issues/new/choose.\n",
      "  warnings.warn(EPOCH_DEPRECATION_WARNING, UserWarning)\n",
      "loss: 4.6049, accuracy: 0.0100: 100%|████████████████████████████████████████████████| 475/475 [00:29<00:00, 16.08it/s]\n",
      "loss: 4.6059, accuracy: 0.0100: 100%|██████████████████████████████████████████████████| 25/25 [00:07<00:00,  3.33it/s]\n",
      "E:\\notebook\\mlpractical\\mlpractical-mlp2021-22-coursework2\\pytorch_mlp_framework\\experiment_builder.py:134: UserWarning: Attempting to set identical left == right == 0 results in singular transformations; automatically expanding.\n",
      "  plt.xlim(xmin=0, xmax=len(all_grads))\n"
     ]
    },
    {
     "name": "stdout",
     "output_type": "stream",
     "text": [
      "Epoch 46: train_acc_0.0099_train_loss_4.6054_val_acc_0.0064_val_loss_4.6069 epoch time 37.0462 seconds\n",
      "Generating Gradient Flow Plot at epoch 46\n"
     ]
    },
    {
     "name": "stderr",
     "output_type": "stream",
     "text": [
      "  0%|                                                                                          | 0/475 [00:00<?, ?it/s]c:\\users\\neko_maru~\\appdata\\local\\programs\\python\\python37\\lib\\site-packages\\torch\\optim\\lr_scheduler.py:154: UserWarning: The epoch parameter in `scheduler.step()` was not necessary and is being deprecated where possible. Please use `scheduler.step()` to step the scheduler. During the deprecation, if epoch is different from None, the closed form is used instead of the new chainable form, where available. Please open an issue if you are unable to replicate your use case: https://github.com/pytorch/pytorch/issues/new/choose.\n",
      "  warnings.warn(EPOCH_DEPRECATION_WARNING, UserWarning)\n",
      "loss: 4.6053, accuracy: 0.0000: 100%|████████████████████████████████████████████████| 475/475 [00:29<00:00, 16.34it/s]\n",
      "loss: 4.6060, accuracy: 0.0100: 100%|██████████████████████████████████████████████████| 25/25 [00:07<00:00,  3.26it/s]\n",
      "E:\\notebook\\mlpractical\\mlpractical-mlp2021-22-coursework2\\pytorch_mlp_framework\\experiment_builder.py:134: UserWarning: Attempting to set identical left == right == 0 results in singular transformations; automatically expanding.\n",
      "  plt.xlim(xmin=0, xmax=len(all_grads))\n"
     ]
    },
    {
     "name": "stdout",
     "output_type": "stream",
     "text": [
      "Epoch 47: train_acc_0.0096_train_loss_4.6054_val_acc_0.0064_val_loss_4.6069 epoch time 36.7350 seconds\n",
      "Generating Gradient Flow Plot at epoch 47\n"
     ]
    },
    {
     "name": "stderr",
     "output_type": "stream",
     "text": [
      "  0%|                                                                                          | 0/475 [00:00<?, ?it/s]c:\\users\\neko_maru~\\appdata\\local\\programs\\python\\python37\\lib\\site-packages\\torch\\optim\\lr_scheduler.py:154: UserWarning: The epoch parameter in `scheduler.step()` was not necessary and is being deprecated where possible. Please use `scheduler.step()` to step the scheduler. During the deprecation, if epoch is different from None, the closed form is used instead of the new chainable form, where available. Please open an issue if you are unable to replicate your use case: https://github.com/pytorch/pytorch/issues/new/choose.\n",
      "  warnings.warn(EPOCH_DEPRECATION_WARNING, UserWarning)\n",
      "loss: 4.6055, accuracy: 0.0200: 100%|████████████████████████████████████████████████| 475/475 [00:29<00:00, 16.18it/s]\n",
      "loss: 4.6071, accuracy: 0.0000: 100%|██████████████████████████████████████████████████| 25/25 [00:07<00:00,  3.41it/s]\n",
      "E:\\notebook\\mlpractical\\mlpractical-mlp2021-22-coursework2\\pytorch_mlp_framework\\experiment_builder.py:134: UserWarning: Attempting to set identical left == right == 0 results in singular transformations; automatically expanding.\n",
      "  plt.xlim(xmin=0, xmax=len(all_grads))\n"
     ]
    },
    {
     "name": "stdout",
     "output_type": "stream",
     "text": [
      "Epoch 48: train_acc_0.0096_train_loss_4.6054_val_acc_0.0064_val_loss_4.6068 epoch time 36.7038 seconds\n",
      "Generating Gradient Flow Plot at epoch 48\n"
     ]
    },
    {
     "name": "stderr",
     "output_type": "stream",
     "text": [
      "  0%|                                                                                          | 0/475 [00:00<?, ?it/s]c:\\users\\neko_maru~\\appdata\\local\\programs\\python\\python37\\lib\\site-packages\\torch\\optim\\lr_scheduler.py:154: UserWarning: The epoch parameter in `scheduler.step()` was not necessary and is being deprecated where possible. Please use `scheduler.step()` to step the scheduler. During the deprecation, if epoch is different from None, the closed form is used instead of the new chainable form, where available. Please open an issue if you are unable to replicate your use case: https://github.com/pytorch/pytorch/issues/new/choose.\n",
      "  warnings.warn(EPOCH_DEPRECATION_WARNING, UserWarning)\n",
      "loss: 4.6057, accuracy: 0.0100: 100%|████████████████████████████████████████████████| 475/475 [00:30<00:00, 15.50it/s]\n",
      "loss: 4.6066, accuracy: 0.0100: 100%|██████████████████████████████████████████████████| 25/25 [00:07<00:00,  3.35it/s]\n",
      "E:\\notebook\\mlpractical\\mlpractical-mlp2021-22-coursework2\\pytorch_mlp_framework\\experiment_builder.py:134: UserWarning: Attempting to set identical left == right == 0 results in singular transformations; automatically expanding.\n",
      "  plt.xlim(xmin=0, xmax=len(all_grads))\n"
     ]
    },
    {
     "name": "stdout",
     "output_type": "stream",
     "text": [
      "Epoch 49: train_acc_0.0095_train_loss_4.6054_val_acc_0.0064_val_loss_4.6069 epoch time 38.0991 seconds\n",
      "Generating Gradient Flow Plot at epoch 49\n"
     ]
    },
    {
     "name": "stderr",
     "output_type": "stream",
     "text": [
      "  0%|                                                                                          | 0/475 [00:00<?, ?it/s]c:\\users\\neko_maru~\\appdata\\local\\programs\\python\\python37\\lib\\site-packages\\torch\\optim\\lr_scheduler.py:154: UserWarning: The epoch parameter in `scheduler.step()` was not necessary and is being deprecated where possible. Please use `scheduler.step()` to step the scheduler. During the deprecation, if epoch is different from None, the closed form is used instead of the new chainable form, where available. Please open an issue if you are unable to replicate your use case: https://github.com/pytorch/pytorch/issues/new/choose.\n",
      "  warnings.warn(EPOCH_DEPRECATION_WARNING, UserWarning)\n",
      "loss: 4.6066, accuracy: 0.0000: 100%|████████████████████████████████████████████████| 475/475 [00:30<00:00, 15.81it/s]\n",
      "loss: 4.6068, accuracy: 0.0000: 100%|██████████████████████████████████████████████████| 25/25 [00:07<00:00,  3.29it/s]\n",
      "E:\\notebook\\mlpractical\\mlpractical-mlp2021-22-coursework2\\pytorch_mlp_framework\\experiment_builder.py:134: UserWarning: Attempting to set identical left == right == 0 results in singular transformations; automatically expanding.\n",
      "  plt.xlim(xmin=0, xmax=len(all_grads))\n"
     ]
    },
    {
     "name": "stdout",
     "output_type": "stream",
     "text": [
      "Epoch 50: train_acc_0.0098_train_loss_4.6054_val_acc_0.0064_val_loss_4.6069 epoch time 37.6578 seconds\n",
      "Generating Gradient Flow Plot at epoch 50\n"
     ]
    },
    {
     "name": "stderr",
     "output_type": "stream",
     "text": [
      "  0%|                                                                                          | 0/475 [00:00<?, ?it/s]c:\\users\\neko_maru~\\appdata\\local\\programs\\python\\python37\\lib\\site-packages\\torch\\optim\\lr_scheduler.py:154: UserWarning: The epoch parameter in `scheduler.step()` was not necessary and is being deprecated where possible. Please use `scheduler.step()` to step the scheduler. During the deprecation, if epoch is different from None, the closed form is used instead of the new chainable form, where available. Please open an issue if you are unable to replicate your use case: https://github.com/pytorch/pytorch/issues/new/choose.\n",
      "  warnings.warn(EPOCH_DEPRECATION_WARNING, UserWarning)\n",
      "loss: 4.6063, accuracy: 0.0100: 100%|████████████████████████████████████████████████| 475/475 [00:29<00:00, 16.15it/s]\n",
      "loss: 4.6074, accuracy: 0.0100: 100%|██████████████████████████████████████████████████| 25/25 [00:07<00:00,  3.46it/s]\n",
      "E:\\notebook\\mlpractical\\mlpractical-mlp2021-22-coursework2\\pytorch_mlp_framework\\experiment_builder.py:134: UserWarning: Attempting to set identical left == right == 0 results in singular transformations; automatically expanding.\n",
      "  plt.xlim(xmin=0, xmax=len(all_grads))\n"
     ]
    },
    {
     "name": "stdout",
     "output_type": "stream",
     "text": [
      "Epoch 51: train_acc_0.0093_train_loss_4.6054_val_acc_0.0064_val_loss_4.6069 epoch time 36.6396 seconds\n",
      "Generating Gradient Flow Plot at epoch 51\n"
     ]
    },
    {
     "name": "stderr",
     "output_type": "stream",
     "text": [
      "  0%|                                                                                          | 0/475 [00:00<?, ?it/s]c:\\users\\neko_maru~\\appdata\\local\\programs\\python\\python37\\lib\\site-packages\\torch\\optim\\lr_scheduler.py:154: UserWarning: The epoch parameter in `scheduler.step()` was not necessary and is being deprecated where possible. Please use `scheduler.step()` to step the scheduler. During the deprecation, if epoch is different from None, the closed form is used instead of the new chainable form, where available. Please open an issue if you are unable to replicate your use case: https://github.com/pytorch/pytorch/issues/new/choose.\n",
      "  warnings.warn(EPOCH_DEPRECATION_WARNING, UserWarning)\n",
      "loss: 4.6055, accuracy: 0.0100: 100%|████████████████████████████████████████████████| 475/475 [00:28<00:00, 16.45it/s]\n",
      "loss: 4.6071, accuracy: 0.0000: 100%|██████████████████████████████████████████████████| 25/25 [00:07<00:00,  3.35it/s]\n",
      "E:\\notebook\\mlpractical\\mlpractical-mlp2021-22-coursework2\\pytorch_mlp_framework\\experiment_builder.py:134: UserWarning: Attempting to set identical left == right == 0 results in singular transformations; automatically expanding.\n",
      "  plt.xlim(xmin=0, xmax=len(all_grads))\n"
     ]
    },
    {
     "name": "stdout",
     "output_type": "stream",
     "text": [
      "Epoch 52: train_acc_0.0095_train_loss_4.6054_val_acc_0.0064_val_loss_4.6069 epoch time 36.3288 seconds\n",
      "Generating Gradient Flow Plot at epoch 52\n"
     ]
    },
    {
     "name": "stderr",
     "output_type": "stream",
     "text": [
      "  0%|                                                                                          | 0/475 [00:00<?, ?it/s]c:\\users\\neko_maru~\\appdata\\local\\programs\\python\\python37\\lib\\site-packages\\torch\\optim\\lr_scheduler.py:154: UserWarning: The epoch parameter in `scheduler.step()` was not necessary and is being deprecated where possible. Please use `scheduler.step()` to step the scheduler. During the deprecation, if epoch is different from None, the closed form is used instead of the new chainable form, where available. Please open an issue if you are unable to replicate your use case: https://github.com/pytorch/pytorch/issues/new/choose.\n",
      "  warnings.warn(EPOCH_DEPRECATION_WARNING, UserWarning)\n",
      "loss: 4.6055, accuracy: 0.0000: 100%|████████████████████████████████████████████████| 475/475 [00:29<00:00, 16.27it/s]\n",
      "loss: 4.6059, accuracy: 0.0100: 100%|██████████████████████████████████████████████████| 25/25 [00:07<00:00,  3.36it/s]\n",
      "E:\\notebook\\mlpractical\\mlpractical-mlp2021-22-coursework2\\pytorch_mlp_framework\\experiment_builder.py:134: UserWarning: Attempting to set identical left == right == 0 results in singular transformations; automatically expanding.\n",
      "  plt.xlim(xmin=0, xmax=len(all_grads))\n"
     ]
    },
    {
     "name": "stdout",
     "output_type": "stream",
     "text": [
      "Epoch 53: train_acc_0.0099_train_loss_4.6053_val_acc_0.0064_val_loss_4.6069 epoch time 36.6452 seconds\n",
      "Generating Gradient Flow Plot at epoch 53\n"
     ]
    },
    {
     "name": "stderr",
     "output_type": "stream",
     "text": [
      "  0%|                                                                                          | 0/475 [00:00<?, ?it/s]c:\\users\\neko_maru~\\appdata\\local\\programs\\python\\python37\\lib\\site-packages\\torch\\optim\\lr_scheduler.py:154: UserWarning: The epoch parameter in `scheduler.step()` was not necessary and is being deprecated where possible. Please use `scheduler.step()` to step the scheduler. During the deprecation, if epoch is different from None, the closed form is used instead of the new chainable form, where available. Please open an issue if you are unable to replicate your use case: https://github.com/pytorch/pytorch/issues/new/choose.\n",
      "  warnings.warn(EPOCH_DEPRECATION_WARNING, UserWarning)\n",
      "loss: 4.6090, accuracy: 0.0000: 100%|████████████████████████████████████████████████| 475/475 [00:29<00:00, 16.02it/s]\n",
      "loss: 4.6073, accuracy: 0.0100: 100%|██████████████████████████████████████████████████| 25/25 [00:08<00:00,  3.02it/s]\n",
      "E:\\notebook\\mlpractical\\mlpractical-mlp2021-22-coursework2\\pytorch_mlp_framework\\experiment_builder.py:134: UserWarning: Attempting to set identical left == right == 0 results in singular transformations; automatically expanding.\n",
      "  plt.xlim(xmin=0, xmax=len(all_grads))\n"
     ]
    },
    {
     "name": "stdout",
     "output_type": "stream",
     "text": [
      "Epoch 54: train_acc_0.0098_train_loss_4.6053_val_acc_0.0064_val_loss_4.6069 epoch time 37.9301 seconds\n",
      "Generating Gradient Flow Plot at epoch 54\n"
     ]
    },
    {
     "name": "stderr",
     "output_type": "stream",
     "text": [
      "  0%|                                                                                          | 0/475 [00:00<?, ?it/s]c:\\users\\neko_maru~\\appdata\\local\\programs\\python\\python37\\lib\\site-packages\\torch\\optim\\lr_scheduler.py:154: UserWarning: The epoch parameter in `scheduler.step()` was not necessary and is being deprecated where possible. Please use `scheduler.step()` to step the scheduler. During the deprecation, if epoch is different from None, the closed form is used instead of the new chainable form, where available. Please open an issue if you are unable to replicate your use case: https://github.com/pytorch/pytorch/issues/new/choose.\n",
      "  warnings.warn(EPOCH_DEPRECATION_WARNING, UserWarning)\n",
      "loss: 4.6036, accuracy: 0.0100: 100%|████████████████████████████████████████████████| 475/475 [00:29<00:00, 15.97it/s]\n",
      "loss: 4.6081, accuracy: 0.0000: 100%|██████████████████████████████████████████████████| 25/25 [00:07<00:00,  3.25it/s]\n",
      "E:\\notebook\\mlpractical\\mlpractical-mlp2021-22-coursework2\\pytorch_mlp_framework\\experiment_builder.py:134: UserWarning: Attempting to set identical left == right == 0 results in singular transformations; automatically expanding.\n",
      "  plt.xlim(xmin=0, xmax=len(all_grads))\n"
     ]
    },
    {
     "name": "stdout",
     "output_type": "stream",
     "text": [
      "Epoch 55: train_acc_0.0094_train_loss_4.6053_val_acc_0.0064_val_loss_4.6068 epoch time 37.4270 seconds\n",
      "Generating Gradient Flow Plot at epoch 55\n"
     ]
    },
    {
     "name": "stderr",
     "output_type": "stream",
     "text": [
      "  0%|                                                                                          | 0/475 [00:00<?, ?it/s]c:\\users\\neko_maru~\\appdata\\local\\programs\\python\\python37\\lib\\site-packages\\torch\\optim\\lr_scheduler.py:154: UserWarning: The epoch parameter in `scheduler.step()` was not necessary and is being deprecated where possible. Please use `scheduler.step()` to step the scheduler. During the deprecation, if epoch is different from None, the closed form is used instead of the new chainable form, where available. Please open an issue if you are unable to replicate your use case: https://github.com/pytorch/pytorch/issues/new/choose.\n",
      "  warnings.warn(EPOCH_DEPRECATION_WARNING, UserWarning)\n",
      "loss: 4.6060, accuracy: 0.0000: 100%|████████████████████████████████████████████████| 475/475 [00:29<00:00, 16.13it/s]\n",
      "loss: 4.6083, accuracy: 0.0000: 100%|██████████████████████████████████████████████████| 25/25 [00:07<00:00,  3.31it/s]\n",
      "E:\\notebook\\mlpractical\\mlpractical-mlp2021-22-coursework2\\pytorch_mlp_framework\\experiment_builder.py:134: UserWarning: Attempting to set identical left == right == 0 results in singular transformations; automatically expanding.\n",
      "  plt.xlim(xmin=0, xmax=len(all_grads))\n"
     ]
    },
    {
     "name": "stdout",
     "output_type": "stream",
     "text": [
      "Epoch 56: train_acc_0.0093_train_loss_4.6053_val_acc_0.0064_val_loss_4.6069 epoch time 37.0123 seconds\n",
      "Generating Gradient Flow Plot at epoch 56\n"
     ]
    },
    {
     "name": "stderr",
     "output_type": "stream",
     "text": [
      "  0%|                                                                                          | 0/475 [00:00<?, ?it/s]c:\\users\\neko_maru~\\appdata\\local\\programs\\python\\python37\\lib\\site-packages\\torch\\optim\\lr_scheduler.py:154: UserWarning: The epoch parameter in `scheduler.step()` was not necessary and is being deprecated where possible. Please use `scheduler.step()` to step the scheduler. During the deprecation, if epoch is different from None, the closed form is used instead of the new chainable form, where available. Please open an issue if you are unable to replicate your use case: https://github.com/pytorch/pytorch/issues/new/choose.\n",
      "  warnings.warn(EPOCH_DEPRECATION_WARNING, UserWarning)\n",
      "loss: 4.6059, accuracy: 0.0200: 100%|████████████████████████████████████████████████| 475/475 [00:30<00:00, 15.66it/s]\n",
      "loss: 4.6082, accuracy: 0.0000: 100%|██████████████████████████████████████████████████| 25/25 [00:07<00:00,  3.31it/s]\n",
      "E:\\notebook\\mlpractical\\mlpractical-mlp2021-22-coursework2\\pytorch_mlp_framework\\experiment_builder.py:134: UserWarning: Attempting to set identical left == right == 0 results in singular transformations; automatically expanding.\n",
      "  plt.xlim(xmin=0, xmax=len(all_grads))\n"
     ]
    },
    {
     "name": "stdout",
     "output_type": "stream",
     "text": [
      "Epoch 57: train_acc_0.0089_train_loss_4.6053_val_acc_0.0064_val_loss_4.6068 epoch time 37.8930 seconds\n",
      "Generating Gradient Flow Plot at epoch 57\n"
     ]
    },
    {
     "name": "stderr",
     "output_type": "stream",
     "text": [
      "  0%|                                                                                          | 0/475 [00:00<?, ?it/s]c:\\users\\neko_maru~\\appdata\\local\\programs\\python\\python37\\lib\\site-packages\\torch\\optim\\lr_scheduler.py:154: UserWarning: The epoch parameter in `scheduler.step()` was not necessary and is being deprecated where possible. Please use `scheduler.step()` to step the scheduler. During the deprecation, if epoch is different from None, the closed form is used instead of the new chainable form, where available. Please open an issue if you are unable to replicate your use case: https://github.com/pytorch/pytorch/issues/new/choose.\n",
      "  warnings.warn(EPOCH_DEPRECATION_WARNING, UserWarning)\n",
      "loss: 4.6057, accuracy: 0.0000: 100%|████████████████████████████████████████████████| 475/475 [00:29<00:00, 16.22it/s]\n",
      "loss: 4.6070, accuracy: 0.0100: 100%|██████████████████████████████████████████████████| 25/25 [00:07<00:00,  3.24it/s]\n",
      "E:\\notebook\\mlpractical\\mlpractical-mlp2021-22-coursework2\\pytorch_mlp_framework\\experiment_builder.py:134: UserWarning: Attempting to set identical left == right == 0 results in singular transformations; automatically expanding.\n",
      "  plt.xlim(xmin=0, xmax=len(all_grads))\n"
     ]
    },
    {
     "name": "stdout",
     "output_type": "stream",
     "text": [
      "Epoch 58: train_acc_0.0097_train_loss_4.6053_val_acc_0.0064_val_loss_4.6069 epoch time 37.0156 seconds\n",
      "Generating Gradient Flow Plot at epoch 58\n"
     ]
    },
    {
     "name": "stderr",
     "output_type": "stream",
     "text": [
      "  0%|                                                                                          | 0/475 [00:00<?, ?it/s]c:\\users\\neko_maru~\\appdata\\local\\programs\\python\\python37\\lib\\site-packages\\torch\\optim\\lr_scheduler.py:154: UserWarning: The epoch parameter in `scheduler.step()` was not necessary and is being deprecated where possible. Please use `scheduler.step()` to step the scheduler. During the deprecation, if epoch is different from None, the closed form is used instead of the new chainable form, where available. Please open an issue if you are unable to replicate your use case: https://github.com/pytorch/pytorch/issues/new/choose.\n",
      "  warnings.warn(EPOCH_DEPRECATION_WARNING, UserWarning)\n",
      "loss: 4.6070, accuracy: 0.0100: 100%|████████████████████████████████████████████████| 475/475 [00:29<00:00, 16.32it/s]\n",
      "loss: 4.6063, accuracy: 0.0100: 100%|██████████████████████████████████████████████████| 25/25 [00:07<00:00,  3.22it/s]\n",
      "E:\\notebook\\mlpractical\\mlpractical-mlp2021-22-coursework2\\pytorch_mlp_framework\\experiment_builder.py:134: UserWarning: Attempting to set identical left == right == 0 results in singular transformations; automatically expanding.\n",
      "  plt.xlim(xmin=0, xmax=len(all_grads))\n"
     ]
    },
    {
     "name": "stdout",
     "output_type": "stream",
     "text": [
      "Epoch 59: train_acc_0.0092_train_loss_4.6053_val_acc_0.0064_val_loss_4.6068 epoch time 36.8760 seconds\n",
      "Generating Gradient Flow Plot at epoch 59\n"
     ]
    },
    {
     "name": "stderr",
     "output_type": "stream",
     "text": [
      "  0%|                                                                                          | 0/475 [00:00<?, ?it/s]c:\\users\\neko_maru~\\appdata\\local\\programs\\python\\python37\\lib\\site-packages\\torch\\optim\\lr_scheduler.py:154: UserWarning: The epoch parameter in `scheduler.step()` was not necessary and is being deprecated where possible. Please use `scheduler.step()` to step the scheduler. During the deprecation, if epoch is different from None, the closed form is used instead of the new chainable form, where available. Please open an issue if you are unable to replicate your use case: https://github.com/pytorch/pytorch/issues/new/choose.\n",
      "  warnings.warn(EPOCH_DEPRECATION_WARNING, UserWarning)\n",
      "loss: 4.6054, accuracy: 0.0100: 100%|████████████████████████████████████████████████| 475/475 [00:31<00:00, 14.86it/s]\n",
      "loss: 4.6048, accuracy: 0.0100: 100%|██████████████████████████████████████████████████| 25/25 [00:07<00:00,  3.31it/s]\n",
      "E:\\notebook\\mlpractical\\mlpractical-mlp2021-22-coursework2\\pytorch_mlp_framework\\experiment_builder.py:134: UserWarning: Attempting to set identical left == right == 0 results in singular transformations; automatically expanding.\n",
      "  plt.xlim(xmin=0, xmax=len(all_grads))\n"
     ]
    },
    {
     "name": "stdout",
     "output_type": "stream",
     "text": [
      "Epoch 60: train_acc_0.0096_train_loss_4.6053_val_acc_0.0064_val_loss_4.6069 epoch time 39.5246 seconds\n",
      "Generating Gradient Flow Plot at epoch 60\n"
     ]
    },
    {
     "name": "stderr",
     "output_type": "stream",
     "text": [
      "  0%|                                                                                          | 0/475 [00:00<?, ?it/s]c:\\users\\neko_maru~\\appdata\\local\\programs\\python\\python37\\lib\\site-packages\\torch\\optim\\lr_scheduler.py:154: UserWarning: The epoch parameter in `scheduler.step()` was not necessary and is being deprecated where possible. Please use `scheduler.step()` to step the scheduler. During the deprecation, if epoch is different from None, the closed form is used instead of the new chainable form, where available. Please open an issue if you are unable to replicate your use case: https://github.com/pytorch/pytorch/issues/new/choose.\n",
      "  warnings.warn(EPOCH_DEPRECATION_WARNING, UserWarning)\n",
      "loss: 4.6047, accuracy: 0.0100: 100%|████████████████████████████████████████████████| 475/475 [00:29<00:00, 16.17it/s]\n",
      "loss: 4.6080, accuracy: 0.0100: 100%|██████████████████████████████████████████████████| 25/25 [00:07<00:00,  3.22it/s]\n",
      "E:\\notebook\\mlpractical\\mlpractical-mlp2021-22-coursework2\\pytorch_mlp_framework\\experiment_builder.py:134: UserWarning: Attempting to set identical left == right == 0 results in singular transformations; automatically expanding.\n",
      "  plt.xlim(xmin=0, xmax=len(all_grads))\n"
     ]
    },
    {
     "name": "stdout",
     "output_type": "stream",
     "text": [
      "Epoch 61: train_acc_0.0098_train_loss_4.6053_val_acc_0.0064_val_loss_4.6069 epoch time 37.1505 seconds\n",
      "Generating Gradient Flow Plot at epoch 61\n"
     ]
    },
    {
     "name": "stderr",
     "output_type": "stream",
     "text": [
      "  0%|                                                                                          | 0/475 [00:00<?, ?it/s]c:\\users\\neko_maru~\\appdata\\local\\programs\\python\\python37\\lib\\site-packages\\torch\\optim\\lr_scheduler.py:154: UserWarning: The epoch parameter in `scheduler.step()` was not necessary and is being deprecated where possible. Please use `scheduler.step()` to step the scheduler. During the deprecation, if epoch is different from None, the closed form is used instead of the new chainable form, where available. Please open an issue if you are unable to replicate your use case: https://github.com/pytorch/pytorch/issues/new/choose.\n",
      "  warnings.warn(EPOCH_DEPRECATION_WARNING, UserWarning)\n",
      "loss: 4.6040, accuracy: 0.0000: 100%|████████████████████████████████████████████████| 475/475 [00:29<00:00, 16.16it/s]\n",
      "loss: 4.6077, accuracy: 0.0000: 100%|██████████████████████████████████████████████████| 25/25 [00:07<00:00,  3.35it/s]\n",
      "E:\\notebook\\mlpractical\\mlpractical-mlp2021-22-coursework2\\pytorch_mlp_framework\\experiment_builder.py:134: UserWarning: Attempting to set identical left == right == 0 results in singular transformations; automatically expanding.\n",
      "  plt.xlim(xmin=0, xmax=len(all_grads))\n"
     ]
    },
    {
     "name": "stdout",
     "output_type": "stream",
     "text": [
      "Epoch 62: train_acc_0.0097_train_loss_4.6053_val_acc_0.0064_val_loss_4.6068 epoch time 36.8558 seconds\n",
      "Generating Gradient Flow Plot at epoch 62\n"
     ]
    },
    {
     "name": "stderr",
     "output_type": "stream",
     "text": [
      "  0%|                                                                                          | 0/475 [00:00<?, ?it/s]c:\\users\\neko_maru~\\appdata\\local\\programs\\python\\python37\\lib\\site-packages\\torch\\optim\\lr_scheduler.py:154: UserWarning: The epoch parameter in `scheduler.step()` was not necessary and is being deprecated where possible. Please use `scheduler.step()` to step the scheduler. During the deprecation, if epoch is different from None, the closed form is used instead of the new chainable form, where available. Please open an issue if you are unable to replicate your use case: https://github.com/pytorch/pytorch/issues/new/choose.\n",
      "  warnings.warn(EPOCH_DEPRECATION_WARNING, UserWarning)\n",
      "loss: 4.6051, accuracy: 0.0100: 100%|████████████████████████████████████████████████| 475/475 [00:29<00:00, 15.88it/s]\n",
      "loss: 4.6068, accuracy: 0.0000: 100%|██████████████████████████████████████████████████| 25/25 [00:07<00:00,  3.36it/s]\n",
      "E:\\notebook\\mlpractical\\mlpractical-mlp2021-22-coursework2\\pytorch_mlp_framework\\experiment_builder.py:134: UserWarning: Attempting to set identical left == right == 0 results in singular transformations; automatically expanding.\n",
      "  plt.xlim(xmin=0, xmax=len(all_grads))\n"
     ]
    },
    {
     "name": "stdout",
     "output_type": "stream",
     "text": [
      "Epoch 63: train_acc_0.0097_train_loss_4.6053_val_acc_0.0064_val_loss_4.6069 epoch time 37.3477 seconds\n",
      "Generating Gradient Flow Plot at epoch 63\n"
     ]
    },
    {
     "name": "stderr",
     "output_type": "stream",
     "text": [
      "  0%|                                                                                          | 0/475 [00:00<?, ?it/s]c:\\users\\neko_maru~\\appdata\\local\\programs\\python\\python37\\lib\\site-packages\\torch\\optim\\lr_scheduler.py:154: UserWarning: The epoch parameter in `scheduler.step()` was not necessary and is being deprecated where possible. Please use `scheduler.step()` to step the scheduler. During the deprecation, if epoch is different from None, the closed form is used instead of the new chainable form, where available. Please open an issue if you are unable to replicate your use case: https://github.com/pytorch/pytorch/issues/new/choose.\n",
      "  warnings.warn(EPOCH_DEPRECATION_WARNING, UserWarning)\n",
      "loss: 4.6077, accuracy: 0.0100: 100%|████████████████████████████████████████████████| 475/475 [00:29<00:00, 15.94it/s]\n",
      "loss: 4.6058, accuracy: 0.0400: 100%|██████████████████████████████████████████████████| 25/25 [00:07<00:00,  3.32it/s]\n",
      "E:\\notebook\\mlpractical\\mlpractical-mlp2021-22-coursework2\\pytorch_mlp_framework\\experiment_builder.py:134: UserWarning: Attempting to set identical left == right == 0 results in singular transformations; automatically expanding.\n",
      "  plt.xlim(xmin=0, xmax=len(all_grads))\n"
     ]
    },
    {
     "name": "stdout",
     "output_type": "stream",
     "text": [
      "Epoch 64: train_acc_0.0096_train_loss_4.6053_val_acc_0.0064_val_loss_4.6069 epoch time 37.3245 seconds\n",
      "Generating Gradient Flow Plot at epoch 64\n"
     ]
    },
    {
     "name": "stderr",
     "output_type": "stream",
     "text": [
      "  0%|                                                                                          | 0/475 [00:00<?, ?it/s]c:\\users\\neko_maru~\\appdata\\local\\programs\\python\\python37\\lib\\site-packages\\torch\\optim\\lr_scheduler.py:154: UserWarning: The epoch parameter in `scheduler.step()` was not necessary and is being deprecated where possible. Please use `scheduler.step()` to step the scheduler. During the deprecation, if epoch is different from None, the closed form is used instead of the new chainable form, where available. Please open an issue if you are unable to replicate your use case: https://github.com/pytorch/pytorch/issues/new/choose.\n",
      "  warnings.warn(EPOCH_DEPRECATION_WARNING, UserWarning)\n",
      "loss: 4.6064, accuracy: 0.0100: 100%|████████████████████████████████████████████████| 475/475 [00:29<00:00, 15.98it/s]\n",
      "loss: 4.6061, accuracy: 0.0000: 100%|██████████████████████████████████████████████████| 25/25 [00:07<00:00,  3.30it/s]\n",
      "E:\\notebook\\mlpractical\\mlpractical-mlp2021-22-coursework2\\pytorch_mlp_framework\\experiment_builder.py:134: UserWarning: Attempting to set identical left == right == 0 results in singular transformations; automatically expanding.\n",
      "  plt.xlim(xmin=0, xmax=len(all_grads))\n"
     ]
    },
    {
     "name": "stdout",
     "output_type": "stream",
     "text": [
      "Epoch 65: train_acc_0.0099_train_loss_4.6053_val_acc_0.0064_val_loss_4.6069 epoch time 37.3046 seconds\n",
      "Generating Gradient Flow Plot at epoch 65\n"
     ]
    },
    {
     "name": "stderr",
     "output_type": "stream",
     "text": [
      "  0%|                                                                                          | 0/475 [00:00<?, ?it/s]c:\\users\\neko_maru~\\appdata\\local\\programs\\python\\python37\\lib\\site-packages\\torch\\optim\\lr_scheduler.py:154: UserWarning: The epoch parameter in `scheduler.step()` was not necessary and is being deprecated where possible. Please use `scheduler.step()` to step the scheduler. During the deprecation, if epoch is different from None, the closed form is used instead of the new chainable form, where available. Please open an issue if you are unable to replicate your use case: https://github.com/pytorch/pytorch/issues/new/choose.\n",
      "  warnings.warn(EPOCH_DEPRECATION_WARNING, UserWarning)\n",
      "loss: 4.6045, accuracy: 0.0100: 100%|████████████████████████████████████████████████| 475/475 [00:29<00:00, 15.98it/s]\n",
      "loss: 4.6056, accuracy: 0.0000: 100%|██████████████████████████████████████████████████| 25/25 [00:07<00:00,  3.42it/s]\n",
      "E:\\notebook\\mlpractical\\mlpractical-mlp2021-22-coursework2\\pytorch_mlp_framework\\experiment_builder.py:134: UserWarning: Attempting to set identical left == right == 0 results in singular transformations; automatically expanding.\n",
      "  plt.xlim(xmin=0, xmax=len(all_grads))\n"
     ]
    },
    {
     "name": "stdout",
     "output_type": "stream",
     "text": [
      "Epoch 66: train_acc_0.0101_train_loss_4.6053_val_acc_0.0064_val_loss_4.6068 epoch time 37.0457 seconds\n",
      "Generating Gradient Flow Plot at epoch 66\n"
     ]
    },
    {
     "name": "stderr",
     "output_type": "stream",
     "text": [
      "  0%|                                                                                          | 0/475 [00:00<?, ?it/s]c:\\users\\neko_maru~\\appdata\\local\\programs\\python\\python37\\lib\\site-packages\\torch\\optim\\lr_scheduler.py:154: UserWarning: The epoch parameter in `scheduler.step()` was not necessary and is being deprecated where possible. Please use `scheduler.step()` to step the scheduler. During the deprecation, if epoch is different from None, the closed form is used instead of the new chainable form, where available. Please open an issue if you are unable to replicate your use case: https://github.com/pytorch/pytorch/issues/new/choose.\n",
      "  warnings.warn(EPOCH_DEPRECATION_WARNING, UserWarning)\n",
      "loss: 4.6055, accuracy: 0.0000: 100%|████████████████████████████████████████████████| 475/475 [00:28<00:00, 16.44it/s]\n",
      "loss: 4.6069, accuracy: 0.0300: 100%|██████████████████████████████████████████████████| 25/25 [00:07<00:00,  3.39it/s]\n",
      "E:\\notebook\\mlpractical\\mlpractical-mlp2021-22-coursework2\\pytorch_mlp_framework\\experiment_builder.py:134: UserWarning: Attempting to set identical left == right == 0 results in singular transformations; automatically expanding.\n",
      "  plt.xlim(xmin=0, xmax=len(all_grads))\n"
     ]
    },
    {
     "name": "stdout",
     "output_type": "stream",
     "text": [
      "Epoch 67: train_acc_0.0096_train_loss_4.6053_val_acc_0.0064_val_loss_4.6069 epoch time 36.2750 seconds\n",
      "Generating Gradient Flow Plot at epoch 67\n"
     ]
    },
    {
     "name": "stderr",
     "output_type": "stream",
     "text": [
      "  0%|                                                                                          | 0/475 [00:00<?, ?it/s]c:\\users\\neko_maru~\\appdata\\local\\programs\\python\\python37\\lib\\site-packages\\torch\\optim\\lr_scheduler.py:154: UserWarning: The epoch parameter in `scheduler.step()` was not necessary and is being deprecated where possible. Please use `scheduler.step()` to step the scheduler. During the deprecation, if epoch is different from None, the closed form is used instead of the new chainable form, where available. Please open an issue if you are unable to replicate your use case: https://github.com/pytorch/pytorch/issues/new/choose.\n",
      "  warnings.warn(EPOCH_DEPRECATION_WARNING, UserWarning)\n",
      "loss: 4.6046, accuracy: 0.0100: 100%|████████████████████████████████████████████████| 475/475 [00:29<00:00, 16.10it/s]\n",
      "loss: 4.6073, accuracy: 0.0000: 100%|██████████████████████████████████████████████████| 25/25 [00:07<00:00,  3.37it/s]\n",
      "E:\\notebook\\mlpractical\\mlpractical-mlp2021-22-coursework2\\pytorch_mlp_framework\\experiment_builder.py:134: UserWarning: Attempting to set identical left == right == 0 results in singular transformations; automatically expanding.\n",
      "  plt.xlim(xmin=0, xmax=len(all_grads))\n"
     ]
    },
    {
     "name": "stdout",
     "output_type": "stream",
     "text": [
      "Epoch 68: train_acc_0.0095_train_loss_4.6052_val_acc_0.0064_val_loss_4.6069 epoch time 36.9143 seconds\n",
      "Generating Gradient Flow Plot at epoch 68\n"
     ]
    },
    {
     "name": "stderr",
     "output_type": "stream",
     "text": [
      "  0%|                                                                                          | 0/475 [00:00<?, ?it/s]c:\\users\\neko_maru~\\appdata\\local\\programs\\python\\python37\\lib\\site-packages\\torch\\optim\\lr_scheduler.py:154: UserWarning: The epoch parameter in `scheduler.step()` was not necessary and is being deprecated where possible. Please use `scheduler.step()` to step the scheduler. During the deprecation, if epoch is different from None, the closed form is used instead of the new chainable form, where available. Please open an issue if you are unable to replicate your use case: https://github.com/pytorch/pytorch/issues/new/choose.\n",
      "  warnings.warn(EPOCH_DEPRECATION_WARNING, UserWarning)\n",
      "loss: 4.6074, accuracy: 0.0100: 100%|████████████████████████████████████████████████| 475/475 [00:31<00:00, 15.01it/s]\n",
      "loss: 4.6068, accuracy: 0.0100: 100%|██████████████████████████████████████████████████| 25/25 [00:07<00:00,  3.23it/s]\n",
      "E:\\notebook\\mlpractical\\mlpractical-mlp2021-22-coursework2\\pytorch_mlp_framework\\experiment_builder.py:134: UserWarning: Attempting to set identical left == right == 0 results in singular transformations; automatically expanding.\n",
      "  plt.xlim(xmin=0, xmax=len(all_grads))\n"
     ]
    },
    {
     "name": "stdout",
     "output_type": "stream",
     "text": [
      "Epoch 69: train_acc_0.0096_train_loss_4.6052_val_acc_0.0064_val_loss_4.6069 epoch time 39.3804 seconds\n",
      "Generating Gradient Flow Plot at epoch 69\n"
     ]
    },
    {
     "name": "stderr",
     "output_type": "stream",
     "text": [
      "  0%|                                                                                          | 0/475 [00:00<?, ?it/s]c:\\users\\neko_maru~\\appdata\\local\\programs\\python\\python37\\lib\\site-packages\\torch\\optim\\lr_scheduler.py:154: UserWarning: The epoch parameter in `scheduler.step()` was not necessary and is being deprecated where possible. Please use `scheduler.step()` to step the scheduler. During the deprecation, if epoch is different from None, the closed form is used instead of the new chainable form, where available. Please open an issue if you are unable to replicate your use case: https://github.com/pytorch/pytorch/issues/new/choose.\n",
      "  warnings.warn(EPOCH_DEPRECATION_WARNING, UserWarning)\n",
      "loss: 4.6036, accuracy: 0.0000: 100%|████████████████████████████████████████████████| 475/475 [00:30<00:00, 15.58it/s]\n",
      "loss: 4.6078, accuracy: 0.0100: 100%|██████████████████████████████████████████████████| 25/25 [00:08<00:00,  3.05it/s]\n",
      "E:\\notebook\\mlpractical\\mlpractical-mlp2021-22-coursework2\\pytorch_mlp_framework\\experiment_builder.py:134: UserWarning: Attempting to set identical left == right == 0 results in singular transformations; automatically expanding.\n",
      "  plt.xlim(xmin=0, xmax=len(all_grads))\n"
     ]
    },
    {
     "name": "stdout",
     "output_type": "stream",
     "text": [
      "Epoch 70: train_acc_0.0100_train_loss_4.6052_val_acc_0.0064_val_loss_4.6069 epoch time 38.6875 seconds\n",
      "Generating Gradient Flow Plot at epoch 70\n"
     ]
    },
    {
     "name": "stderr",
     "output_type": "stream",
     "text": [
      "  0%|                                                                                          | 0/475 [00:00<?, ?it/s]c:\\users\\neko_maru~\\appdata\\local\\programs\\python\\python37\\lib\\site-packages\\torch\\optim\\lr_scheduler.py:154: UserWarning: The epoch parameter in `scheduler.step()` was not necessary and is being deprecated where possible. Please use `scheduler.step()` to step the scheduler. During the deprecation, if epoch is different from None, the closed form is used instead of the new chainable form, where available. Please open an issue if you are unable to replicate your use case: https://github.com/pytorch/pytorch/issues/new/choose.\n",
      "  warnings.warn(EPOCH_DEPRECATION_WARNING, UserWarning)\n",
      "loss: 4.6052, accuracy: 0.0100: 100%|████████████████████████████████████████████████| 475/475 [00:30<00:00, 15.33it/s]\n",
      "loss: 4.6076, accuracy: 0.0100: 100%|██████████████████████████████████████████████████| 25/25 [00:07<00:00,  3.25it/s]\n",
      "E:\\notebook\\mlpractical\\mlpractical-mlp2021-22-coursework2\\pytorch_mlp_framework\\experiment_builder.py:134: UserWarning: Attempting to set identical left == right == 0 results in singular transformations; automatically expanding.\n",
      "  plt.xlim(xmin=0, xmax=len(all_grads))\n"
     ]
    },
    {
     "name": "stdout",
     "output_type": "stream",
     "text": [
      "Epoch 71: train_acc_0.0099_train_loss_4.6052_val_acc_0.0064_val_loss_4.6069 epoch time 38.6780 seconds\n",
      "Generating Gradient Flow Plot at epoch 71\n"
     ]
    },
    {
     "name": "stderr",
     "output_type": "stream",
     "text": [
      "  0%|                                                                                          | 0/475 [00:00<?, ?it/s]c:\\users\\neko_maru~\\appdata\\local\\programs\\python\\python37\\lib\\site-packages\\torch\\optim\\lr_scheduler.py:154: UserWarning: The epoch parameter in `scheduler.step()` was not necessary and is being deprecated where possible. Please use `scheduler.step()` to step the scheduler. During the deprecation, if epoch is different from None, the closed form is used instead of the new chainable form, where available. Please open an issue if you are unable to replicate your use case: https://github.com/pytorch/pytorch/issues/new/choose.\n",
      "  warnings.warn(EPOCH_DEPRECATION_WARNING, UserWarning)\n",
      "loss: 4.6054, accuracy: 0.0000: 100%|████████████████████████████████████████████████| 475/475 [00:31<00:00, 15.22it/s]\n",
      "loss: 4.6068, accuracy: 0.0000: 100%|██████████████████████████████████████████████████| 25/25 [00:07<00:00,  3.32it/s]\n",
      "E:\\notebook\\mlpractical\\mlpractical-mlp2021-22-coursework2\\pytorch_mlp_framework\\experiment_builder.py:134: UserWarning: Attempting to set identical left == right == 0 results in singular transformations; automatically expanding.\n",
      "  plt.xlim(xmin=0, xmax=len(all_grads))\n"
     ]
    },
    {
     "name": "stdout",
     "output_type": "stream",
     "text": [
      "Epoch 72: train_acc_0.0096_train_loss_4.6052_val_acc_0.0064_val_loss_4.6069 epoch time 38.7486 seconds\n",
      "Generating Gradient Flow Plot at epoch 72\n"
     ]
    },
    {
     "name": "stderr",
     "output_type": "stream",
     "text": [
      "  0%|                                                                                          | 0/475 [00:00<?, ?it/s]c:\\users\\neko_maru~\\appdata\\local\\programs\\python\\python37\\lib\\site-packages\\torch\\optim\\lr_scheduler.py:154: UserWarning: The epoch parameter in `scheduler.step()` was not necessary and is being deprecated where possible. Please use `scheduler.step()` to step the scheduler. During the deprecation, if epoch is different from None, the closed form is used instead of the new chainable form, where available. Please open an issue if you are unable to replicate your use case: https://github.com/pytorch/pytorch/issues/new/choose.\n",
      "  warnings.warn(EPOCH_DEPRECATION_WARNING, UserWarning)\n",
      "loss: 4.6043, accuracy: 0.0000: 100%|████████████████████████████████████████████████| 475/475 [00:28<00:00, 16.67it/s]\n",
      "loss: 4.6060, accuracy: 0.0000: 100%|██████████████████████████████████████████████████| 25/25 [00:07<00:00,  3.42it/s]\n",
      "E:\\notebook\\mlpractical\\mlpractical-mlp2021-22-coursework2\\pytorch_mlp_framework\\experiment_builder.py:134: UserWarning: Attempting to set identical left == right == 0 results in singular transformations; automatically expanding.\n",
      "  plt.xlim(xmin=0, xmax=len(all_grads))\n"
     ]
    },
    {
     "name": "stdout",
     "output_type": "stream",
     "text": [
      "Epoch 73: train_acc_0.0094_train_loss_4.6052_val_acc_0.0064_val_loss_4.6069 epoch time 35.8110 seconds\n",
      "Generating Gradient Flow Plot at epoch 73\n"
     ]
    },
    {
     "name": "stderr",
     "output_type": "stream",
     "text": [
      "  0%|                                                                                          | 0/475 [00:00<?, ?it/s]c:\\users\\neko_maru~\\appdata\\local\\programs\\python\\python37\\lib\\site-packages\\torch\\optim\\lr_scheduler.py:154: UserWarning: The epoch parameter in `scheduler.step()` was not necessary and is being deprecated where possible. Please use `scheduler.step()` to step the scheduler. During the deprecation, if epoch is different from None, the closed form is used instead of the new chainable form, where available. Please open an issue if you are unable to replicate your use case: https://github.com/pytorch/pytorch/issues/new/choose.\n",
      "  warnings.warn(EPOCH_DEPRECATION_WARNING, UserWarning)\n",
      "loss: 4.6055, accuracy: 0.0000: 100%|████████████████████████████████████████████████| 475/475 [00:29<00:00, 16.22it/s]\n",
      "loss: 4.6081, accuracy: 0.0100: 100%|██████████████████████████████████████████████████| 25/25 [00:07<00:00,  3.30it/s]\n",
      "E:\\notebook\\mlpractical\\mlpractical-mlp2021-22-coursework2\\pytorch_mlp_framework\\experiment_builder.py:134: UserWarning: Attempting to set identical left == right == 0 results in singular transformations; automatically expanding.\n",
      "  plt.xlim(xmin=0, xmax=len(all_grads))\n"
     ]
    },
    {
     "name": "stdout",
     "output_type": "stream",
     "text": [
      "Epoch 74: train_acc_0.0100_train_loss_4.6052_val_acc_0.0064_val_loss_4.6069 epoch time 36.8543 seconds\n",
      "Generating Gradient Flow Plot at epoch 74\n"
     ]
    },
    {
     "name": "stderr",
     "output_type": "stream",
     "text": [
      "  0%|                                                                                          | 0/475 [00:00<?, ?it/s]c:\\users\\neko_maru~\\appdata\\local\\programs\\python\\python37\\lib\\site-packages\\torch\\optim\\lr_scheduler.py:154: UserWarning: The epoch parameter in `scheduler.step()` was not necessary and is being deprecated where possible. Please use `scheduler.step()` to step the scheduler. During the deprecation, if epoch is different from None, the closed form is used instead of the new chainable form, where available. Please open an issue if you are unable to replicate your use case: https://github.com/pytorch/pytorch/issues/new/choose.\n",
      "  warnings.warn(EPOCH_DEPRECATION_WARNING, UserWarning)\n",
      "loss: 4.6038, accuracy: 0.0100: 100%|████████████████████████████████████████████████| 475/475 [00:29<00:00, 16.23it/s]\n",
      "loss: 4.6059, accuracy: 0.0100: 100%|██████████████████████████████████████████████████| 25/25 [00:07<00:00,  3.51it/s]\n",
      "E:\\notebook\\mlpractical\\mlpractical-mlp2021-22-coursework2\\pytorch_mlp_framework\\experiment_builder.py:134: UserWarning: Attempting to set identical left == right == 0 results in singular transformations; automatically expanding.\n",
      "  plt.xlim(xmin=0, xmax=len(all_grads))\n"
     ]
    },
    {
     "name": "stdout",
     "output_type": "stream",
     "text": [
      "Epoch 75: train_acc_0.0100_train_loss_4.6052_val_acc_0.0064_val_loss_4.6069 epoch time 36.3880 seconds\n",
      "Generating Gradient Flow Plot at epoch 75\n"
     ]
    },
    {
     "name": "stderr",
     "output_type": "stream",
     "text": [
      "  0%|                                                                                          | 0/475 [00:00<?, ?it/s]c:\\users\\neko_maru~\\appdata\\local\\programs\\python\\python37\\lib\\site-packages\\torch\\optim\\lr_scheduler.py:154: UserWarning: The epoch parameter in `scheduler.step()` was not necessary and is being deprecated where possible. Please use `scheduler.step()` to step the scheduler. During the deprecation, if epoch is different from None, the closed form is used instead of the new chainable form, where available. Please open an issue if you are unable to replicate your use case: https://github.com/pytorch/pytorch/issues/new/choose.\n",
      "  warnings.warn(EPOCH_DEPRECATION_WARNING, UserWarning)\n",
      "loss: 4.6051, accuracy: 0.0100: 100%|████████████████████████████████████████████████| 475/475 [00:28<00:00, 16.56it/s]\n",
      "loss: 4.6075, accuracy: 0.0200: 100%|██████████████████████████████████████████████████| 25/25 [00:07<00:00,  3.50it/s]\n",
      "E:\\notebook\\mlpractical\\mlpractical-mlp2021-22-coursework2\\pytorch_mlp_framework\\experiment_builder.py:134: UserWarning: Attempting to set identical left == right == 0 results in singular transformations; automatically expanding.\n",
      "  plt.xlim(xmin=0, xmax=len(all_grads))\n"
     ]
    },
    {
     "name": "stdout",
     "output_type": "stream",
     "text": [
      "Epoch 76: train_acc_0.0097_train_loss_4.6052_val_acc_0.0064_val_loss_4.6069 epoch time 35.8242 seconds\n",
      "Generating Gradient Flow Plot at epoch 76\n"
     ]
    },
    {
     "name": "stderr",
     "output_type": "stream",
     "text": [
      "  0%|                                                                                          | 0/475 [00:00<?, ?it/s]c:\\users\\neko_maru~\\appdata\\local\\programs\\python\\python37\\lib\\site-packages\\torch\\optim\\lr_scheduler.py:154: UserWarning: The epoch parameter in `scheduler.step()` was not necessary and is being deprecated where possible. Please use `scheduler.step()` to step the scheduler. During the deprecation, if epoch is different from None, the closed form is used instead of the new chainable form, where available. Please open an issue if you are unable to replicate your use case: https://github.com/pytorch/pytorch/issues/new/choose.\n",
      "  warnings.warn(EPOCH_DEPRECATION_WARNING, UserWarning)\n",
      "loss: 4.6047, accuracy: 0.0100: 100%|████████████████████████████████████████████████| 475/475 [00:28<00:00, 16.53it/s]\n",
      "loss: 4.6073, accuracy: 0.0000: 100%|██████████████████████████████████████████████████| 25/25 [00:07<00:00,  3.46it/s]\n",
      "E:\\notebook\\mlpractical\\mlpractical-mlp2021-22-coursework2\\pytorch_mlp_framework\\experiment_builder.py:134: UserWarning: Attempting to set identical left == right == 0 results in singular transformations; automatically expanding.\n",
      "  plt.xlim(xmin=0, xmax=len(all_grads))\n"
     ]
    },
    {
     "name": "stdout",
     "output_type": "stream",
     "text": [
      "Epoch 77: train_acc_0.0099_train_loss_4.6052_val_acc_0.0064_val_loss_4.6069 epoch time 35.9559 seconds\n",
      "Generating Gradient Flow Plot at epoch 77\n"
     ]
    },
    {
     "name": "stderr",
     "output_type": "stream",
     "text": [
      "  0%|                                                                                          | 0/475 [00:00<?, ?it/s]c:\\users\\neko_maru~\\appdata\\local\\programs\\python\\python37\\lib\\site-packages\\torch\\optim\\lr_scheduler.py:154: UserWarning: The epoch parameter in `scheduler.step()` was not necessary and is being deprecated where possible. Please use `scheduler.step()` to step the scheduler. During the deprecation, if epoch is different from None, the closed form is used instead of the new chainable form, where available. Please open an issue if you are unable to replicate your use case: https://github.com/pytorch/pytorch/issues/new/choose.\n",
      "  warnings.warn(EPOCH_DEPRECATION_WARNING, UserWarning)\n",
      "loss: 4.6042, accuracy: 0.0100: 100%|████████████████████████████████████████████████| 475/475 [00:28<00:00, 16.44it/s]\n",
      "loss: 4.6066, accuracy: 0.0100: 100%|██████████████████████████████████████████████████| 25/25 [00:07<00:00,  3.50it/s]\n",
      "E:\\notebook\\mlpractical\\mlpractical-mlp2021-22-coursework2\\pytorch_mlp_framework\\experiment_builder.py:134: UserWarning: Attempting to set identical left == right == 0 results in singular transformations; automatically expanding.\n",
      "  plt.xlim(xmin=0, xmax=len(all_grads))\n"
     ]
    },
    {
     "name": "stdout",
     "output_type": "stream",
     "text": [
      "Epoch 78: train_acc_0.0099_train_loss_4.6052_val_acc_0.0064_val_loss_4.6069 epoch time 36.0381 seconds\n",
      "Generating Gradient Flow Plot at epoch 78\n"
     ]
    },
    {
     "name": "stderr",
     "output_type": "stream",
     "text": [
      "  0%|                                                                                          | 0/475 [00:00<?, ?it/s]c:\\users\\neko_maru~\\appdata\\local\\programs\\python\\python37\\lib\\site-packages\\torch\\optim\\lr_scheduler.py:154: UserWarning: The epoch parameter in `scheduler.step()` was not necessary and is being deprecated where possible. Please use `scheduler.step()` to step the scheduler. During the deprecation, if epoch is different from None, the closed form is used instead of the new chainable form, where available. Please open an issue if you are unable to replicate your use case: https://github.com/pytorch/pytorch/issues/new/choose.\n",
      "  warnings.warn(EPOCH_DEPRECATION_WARNING, UserWarning)\n",
      "loss: 4.6070, accuracy: 0.0000: 100%|████████████████████████████████████████████████| 475/475 [00:28<00:00, 16.55it/s]\n",
      "loss: 4.6084, accuracy: 0.0200: 100%|██████████████████████████████████████████████████| 25/25 [00:07<00:00,  3.51it/s]\n",
      "E:\\notebook\\mlpractical\\mlpractical-mlp2021-22-coursework2\\pytorch_mlp_framework\\experiment_builder.py:134: UserWarning: Attempting to set identical left == right == 0 results in singular transformations; automatically expanding.\n",
      "  plt.xlim(xmin=0, xmax=len(all_grads))\n"
     ]
    },
    {
     "name": "stdout",
     "output_type": "stream",
     "text": [
      "Epoch 79: train_acc_0.0097_train_loss_4.6052_val_acc_0.0064_val_loss_4.6069 epoch time 35.8308 seconds\n",
      "Generating Gradient Flow Plot at epoch 79\n"
     ]
    },
    {
     "name": "stderr",
     "output_type": "stream",
     "text": [
      "  0%|                                                                                          | 0/475 [00:00<?, ?it/s]c:\\users\\neko_maru~\\appdata\\local\\programs\\python\\python37\\lib\\site-packages\\torch\\optim\\lr_scheduler.py:154: UserWarning: The epoch parameter in `scheduler.step()` was not necessary and is being deprecated where possible. Please use `scheduler.step()` to step the scheduler. During the deprecation, if epoch is different from None, the closed form is used instead of the new chainable form, where available. Please open an issue if you are unable to replicate your use case: https://github.com/pytorch/pytorch/issues/new/choose.\n",
      "  warnings.warn(EPOCH_DEPRECATION_WARNING, UserWarning)\n",
      "loss: 4.6058, accuracy: 0.0000: 100%|████████████████████████████████████████████████| 475/475 [00:29<00:00, 16.35it/s]\n",
      "loss: 4.6066, accuracy: 0.0300: 100%|██████████████████████████████████████████████████| 25/25 [00:07<00:00,  3.47it/s]\n",
      "E:\\notebook\\mlpractical\\mlpractical-mlp2021-22-coursework2\\pytorch_mlp_framework\\experiment_builder.py:134: UserWarning: Attempting to set identical left == right == 0 results in singular transformations; automatically expanding.\n",
      "  plt.xlim(xmin=0, xmax=len(all_grads))\n"
     ]
    },
    {
     "name": "stdout",
     "output_type": "stream",
     "text": [
      "Epoch 80: train_acc_0.0099_train_loss_4.6052_val_acc_0.0064_val_loss_4.6069 epoch time 36.2595 seconds\n",
      "Generating Gradient Flow Plot at epoch 80\n"
     ]
    },
    {
     "name": "stderr",
     "output_type": "stream",
     "text": [
      "  0%|                                                                                          | 0/475 [00:00<?, ?it/s]c:\\users\\neko_maru~\\appdata\\local\\programs\\python\\python37\\lib\\site-packages\\torch\\optim\\lr_scheduler.py:154: UserWarning: The epoch parameter in `scheduler.step()` was not necessary and is being deprecated where possible. Please use `scheduler.step()` to step the scheduler. During the deprecation, if epoch is different from None, the closed form is used instead of the new chainable form, where available. Please open an issue if you are unable to replicate your use case: https://github.com/pytorch/pytorch/issues/new/choose.\n",
      "  warnings.warn(EPOCH_DEPRECATION_WARNING, UserWarning)\n",
      "loss: 4.6041, accuracy: 0.0300: 100%|████████████████████████████████████████████████| 475/475 [00:29<00:00, 16.37it/s]\n",
      "loss: 4.6076, accuracy: 0.0000: 100%|██████████████████████████████████████████████████| 25/25 [00:07<00:00,  3.24it/s]\n",
      "E:\\notebook\\mlpractical\\mlpractical-mlp2021-22-coursework2\\pytorch_mlp_framework\\experiment_builder.py:134: UserWarning: Attempting to set identical left == right == 0 results in singular transformations; automatically expanding.\n",
      "  plt.xlim(xmin=0, xmax=len(all_grads))\n"
     ]
    },
    {
     "name": "stdout",
     "output_type": "stream",
     "text": [
      "Epoch 81: train_acc_0.0099_train_loss_4.6052_val_acc_0.0064_val_loss_4.6069 epoch time 36.7410 seconds\n",
      "Generating Gradient Flow Plot at epoch 81\n"
     ]
    },
    {
     "name": "stderr",
     "output_type": "stream",
     "text": [
      "  0%|                                                                                          | 0/475 [00:00<?, ?it/s]c:\\users\\neko_maru~\\appdata\\local\\programs\\python\\python37\\lib\\site-packages\\torch\\optim\\lr_scheduler.py:154: UserWarning: The epoch parameter in `scheduler.step()` was not necessary and is being deprecated where possible. Please use `scheduler.step()` to step the scheduler. During the deprecation, if epoch is different from None, the closed form is used instead of the new chainable form, where available. Please open an issue if you are unable to replicate your use case: https://github.com/pytorch/pytorch/issues/new/choose.\n",
      "  warnings.warn(EPOCH_DEPRECATION_WARNING, UserWarning)\n",
      "loss: 4.6035, accuracy: 0.0100: 100%|████████████████████████████████████████████████| 475/475 [00:28<00:00, 16.53it/s]\n",
      "loss: 4.6065, accuracy: 0.0100: 100%|██████████████████████████████████████████████████| 25/25 [00:07<00:00,  3.36it/s]\n",
      "E:\\notebook\\mlpractical\\mlpractical-mlp2021-22-coursework2\\pytorch_mlp_framework\\experiment_builder.py:134: UserWarning: Attempting to set identical left == right == 0 results in singular transformations; automatically expanding.\n",
      "  plt.xlim(xmin=0, xmax=len(all_grads))\n"
     ]
    },
    {
     "name": "stdout",
     "output_type": "stream",
     "text": [
      "Epoch 82: train_acc_0.0097_train_loss_4.6052_val_acc_0.0064_val_loss_4.6068 epoch time 36.1743 seconds\n",
      "Generating Gradient Flow Plot at epoch 82\n"
     ]
    },
    {
     "name": "stderr",
     "output_type": "stream",
     "text": [
      "  0%|                                                                                          | 0/475 [00:00<?, ?it/s]c:\\users\\neko_maru~\\appdata\\local\\programs\\python\\python37\\lib\\site-packages\\torch\\optim\\lr_scheduler.py:154: UserWarning: The epoch parameter in `scheduler.step()` was not necessary and is being deprecated where possible. Please use `scheduler.step()` to step the scheduler. During the deprecation, if epoch is different from None, the closed form is used instead of the new chainable form, where available. Please open an issue if you are unable to replicate your use case: https://github.com/pytorch/pytorch/issues/new/choose.\n",
      "  warnings.warn(EPOCH_DEPRECATION_WARNING, UserWarning)\n",
      "loss: 4.6047, accuracy: 0.0000: 100%|████████████████████████████████████████████████| 475/475 [00:28<00:00, 16.43it/s]\n",
      "loss: 4.6068, accuracy: 0.0100: 100%|██████████████████████████████████████████████████| 25/25 [00:07<00:00,  3.43it/s]\n",
      "E:\\notebook\\mlpractical\\mlpractical-mlp2021-22-coursework2\\pytorch_mlp_framework\\experiment_builder.py:134: UserWarning: Attempting to set identical left == right == 0 results in singular transformations; automatically expanding.\n",
      "  plt.xlim(xmin=0, xmax=len(all_grads))\n"
     ]
    },
    {
     "name": "stdout",
     "output_type": "stream",
     "text": [
      "Epoch 83: train_acc_0.0102_train_loss_4.6052_val_acc_0.0064_val_loss_4.6069 epoch time 36.2126 seconds\n",
      "Generating Gradient Flow Plot at epoch 83\n"
     ]
    },
    {
     "name": "stderr",
     "output_type": "stream",
     "text": [
      "  0%|                                                                                          | 0/475 [00:00<?, ?it/s]c:\\users\\neko_maru~\\appdata\\local\\programs\\python\\python37\\lib\\site-packages\\torch\\optim\\lr_scheduler.py:154: UserWarning: The epoch parameter in `scheduler.step()` was not necessary and is being deprecated where possible. Please use `scheduler.step()` to step the scheduler. During the deprecation, if epoch is different from None, the closed form is used instead of the new chainable form, where available. Please open an issue if you are unable to replicate your use case: https://github.com/pytorch/pytorch/issues/new/choose.\n",
      "  warnings.warn(EPOCH_DEPRECATION_WARNING, UserWarning)\n",
      "loss: 4.6060, accuracy: 0.0000: 100%|████████████████████████████████████████████████| 475/475 [00:29<00:00, 16.34it/s]\n",
      "loss: 4.6056, accuracy: 0.0100: 100%|██████████████████████████████████████████████████| 25/25 [00:07<00:00,  3.39it/s]\n",
      "E:\\notebook\\mlpractical\\mlpractical-mlp2021-22-coursework2\\pytorch_mlp_framework\\experiment_builder.py:134: UserWarning: Attempting to set identical left == right == 0 results in singular transformations; automatically expanding.\n",
      "  plt.xlim(xmin=0, xmax=len(all_grads))\n"
     ]
    },
    {
     "name": "stdout",
     "output_type": "stream",
     "text": [
      "Epoch 84: train_acc_0.0096_train_loss_4.6052_val_acc_0.0064_val_loss_4.6069 epoch time 36.4393 seconds\n",
      "Generating Gradient Flow Plot at epoch 84\n"
     ]
    },
    {
     "name": "stderr",
     "output_type": "stream",
     "text": [
      "  0%|                                                                                          | 0/475 [00:00<?, ?it/s]c:\\users\\neko_maru~\\appdata\\local\\programs\\python\\python37\\lib\\site-packages\\torch\\optim\\lr_scheduler.py:154: UserWarning: The epoch parameter in `scheduler.step()` was not necessary and is being deprecated where possible. Please use `scheduler.step()` to step the scheduler. During the deprecation, if epoch is different from None, the closed form is used instead of the new chainable form, where available. Please open an issue if you are unable to replicate your use case: https://github.com/pytorch/pytorch/issues/new/choose.\n",
      "  warnings.warn(EPOCH_DEPRECATION_WARNING, UserWarning)\n",
      "loss: 4.6051, accuracy: 0.0100: 100%|████████████████████████████████████████████████| 475/475 [00:30<00:00, 15.74it/s]\n",
      "loss: 4.6074, accuracy: 0.0000: 100%|██████████████████████████████████████████████████| 25/25 [00:08<00:00,  3.09it/s]\n",
      "E:\\notebook\\mlpractical\\mlpractical-mlp2021-22-coursework2\\pytorch_mlp_framework\\experiment_builder.py:134: UserWarning: Attempting to set identical left == right == 0 results in singular transformations; automatically expanding.\n",
      "  plt.xlim(xmin=0, xmax=len(all_grads))\n"
     ]
    },
    {
     "name": "stdout",
     "output_type": "stream",
     "text": [
      "Epoch 85: train_acc_0.0098_train_loss_4.6052_val_acc_0.0064_val_loss_4.6069 epoch time 38.2751 seconds\n",
      "Generating Gradient Flow Plot at epoch 85\n"
     ]
    },
    {
     "name": "stderr",
     "output_type": "stream",
     "text": [
      "  0%|                                                                                          | 0/475 [00:00<?, ?it/s]c:\\users\\neko_maru~\\appdata\\local\\programs\\python\\python37\\lib\\site-packages\\torch\\optim\\lr_scheduler.py:154: UserWarning: The epoch parameter in `scheduler.step()` was not necessary and is being deprecated where possible. Please use `scheduler.step()` to step the scheduler. During the deprecation, if epoch is different from None, the closed form is used instead of the new chainable form, where available. Please open an issue if you are unable to replicate your use case: https://github.com/pytorch/pytorch/issues/new/choose.\n",
      "  warnings.warn(EPOCH_DEPRECATION_WARNING, UserWarning)\n",
      "loss: 4.6045, accuracy: 0.0100: 100%|████████████████████████████████████████████████| 475/475 [00:29<00:00, 16.36it/s]\n",
      "loss: 4.6063, accuracy: 0.0200: 100%|██████████████████████████████████████████████████| 25/25 [00:07<00:00,  3.52it/s]\n",
      "E:\\notebook\\mlpractical\\mlpractical-mlp2021-22-coursework2\\pytorch_mlp_framework\\experiment_builder.py:134: UserWarning: Attempting to set identical left == right == 0 results in singular transformations; automatically expanding.\n",
      "  plt.xlim(xmin=0, xmax=len(all_grads))\n"
     ]
    },
    {
     "name": "stdout",
     "output_type": "stream",
     "text": [
      "Epoch 86: train_acc_0.0099_train_loss_4.6052_val_acc_0.0064_val_loss_4.6069 epoch time 36.1476 seconds\n",
      "Generating Gradient Flow Plot at epoch 86\n"
     ]
    },
    {
     "name": "stderr",
     "output_type": "stream",
     "text": [
      "  0%|                                                                                          | 0/475 [00:00<?, ?it/s]c:\\users\\neko_maru~\\appdata\\local\\programs\\python\\python37\\lib\\site-packages\\torch\\optim\\lr_scheduler.py:154: UserWarning: The epoch parameter in `scheduler.step()` was not necessary and is being deprecated where possible. Please use `scheduler.step()` to step the scheduler. During the deprecation, if epoch is different from None, the closed form is used instead of the new chainable form, where available. Please open an issue if you are unable to replicate your use case: https://github.com/pytorch/pytorch/issues/new/choose.\n",
      "  warnings.warn(EPOCH_DEPRECATION_WARNING, UserWarning)\n",
      "loss: 4.6044, accuracy: 0.0300: 100%|████████████████████████████████████████████████| 475/475 [00:28<00:00, 16.51it/s]\n",
      "loss: 4.6069, accuracy: 0.0000: 100%|██████████████████████████████████████████████████| 25/25 [00:07<00:00,  3.34it/s]\n",
      "E:\\notebook\\mlpractical\\mlpractical-mlp2021-22-coursework2\\pytorch_mlp_framework\\experiment_builder.py:134: UserWarning: Attempting to set identical left == right == 0 results in singular transformations; automatically expanding.\n",
      "  plt.xlim(xmin=0, xmax=len(all_grads))\n"
     ]
    },
    {
     "name": "stdout",
     "output_type": "stream",
     "text": [
      "Epoch 87: train_acc_0.0098_train_loss_4.6052_val_acc_0.0064_val_loss_4.6069 epoch time 36.2484 seconds\n",
      "Generating Gradient Flow Plot at epoch 87\n"
     ]
    },
    {
     "name": "stderr",
     "output_type": "stream",
     "text": [
      "  0%|                                                                                          | 0/475 [00:00<?, ?it/s]c:\\users\\neko_maru~\\appdata\\local\\programs\\python\\python37\\lib\\site-packages\\torch\\optim\\lr_scheduler.py:154: UserWarning: The epoch parameter in `scheduler.step()` was not necessary and is being deprecated where possible. Please use `scheduler.step()` to step the scheduler. During the deprecation, if epoch is different from None, the closed form is used instead of the new chainable form, where available. Please open an issue if you are unable to replicate your use case: https://github.com/pytorch/pytorch/issues/new/choose.\n",
      "  warnings.warn(EPOCH_DEPRECATION_WARNING, UserWarning)\n",
      "loss: 4.6042, accuracy: 0.0000: 100%|████████████████████████████████████████████████| 475/475 [00:29<00:00, 15.86it/s]\n",
      "loss: 4.6080, accuracy: 0.0000: 100%|██████████████████████████████████████████████████| 25/25 [00:07<00:00,  3.31it/s]\n",
      "E:\\notebook\\mlpractical\\mlpractical-mlp2021-22-coursework2\\pytorch_mlp_framework\\experiment_builder.py:134: UserWarning: Attempting to set identical left == right == 0 results in singular transformations; automatically expanding.\n",
      "  plt.xlim(xmin=0, xmax=len(all_grads))\n"
     ]
    },
    {
     "name": "stdout",
     "output_type": "stream",
     "text": [
      "Epoch 88: train_acc_0.0100_train_loss_4.6052_val_acc_0.0064_val_loss_4.6069 epoch time 37.5151 seconds\n",
      "Generating Gradient Flow Plot at epoch 88\n"
     ]
    },
    {
     "name": "stderr",
     "output_type": "stream",
     "text": [
      "  0%|                                                                                          | 0/475 [00:00<?, ?it/s]c:\\users\\neko_maru~\\appdata\\local\\programs\\python\\python37\\lib\\site-packages\\torch\\optim\\lr_scheduler.py:154: UserWarning: The epoch parameter in `scheduler.step()` was not necessary and is being deprecated where possible. Please use `scheduler.step()` to step the scheduler. During the deprecation, if epoch is different from None, the closed form is used instead of the new chainable form, where available. Please open an issue if you are unable to replicate your use case: https://github.com/pytorch/pytorch/issues/new/choose.\n",
      "  warnings.warn(EPOCH_DEPRECATION_WARNING, UserWarning)\n",
      "loss: 4.6062, accuracy: 0.0000: 100%|████████████████████████████████████████████████| 475/475 [00:31<00:00, 15.01it/s]\n",
      "loss: 4.6059, accuracy: 0.0100: 100%|██████████████████████████████████████████████████| 25/25 [00:07<00:00,  3.23it/s]\n",
      "E:\\notebook\\mlpractical\\mlpractical-mlp2021-22-coursework2\\pytorch_mlp_framework\\experiment_builder.py:134: UserWarning: Attempting to set identical left == right == 0 results in singular transformations; automatically expanding.\n",
      "  plt.xlim(xmin=0, xmax=len(all_grads))\n"
     ]
    },
    {
     "name": "stdout",
     "output_type": "stream",
     "text": [
      "Epoch 89: train_acc_0.0097_train_loss_4.6052_val_acc_0.0064_val_loss_4.6069 epoch time 39.4004 seconds\n",
      "Generating Gradient Flow Plot at epoch 89\n"
     ]
    },
    {
     "name": "stderr",
     "output_type": "stream",
     "text": [
      "  0%|                                                                                          | 0/475 [00:00<?, ?it/s]c:\\users\\neko_maru~\\appdata\\local\\programs\\python\\python37\\lib\\site-packages\\torch\\optim\\lr_scheduler.py:154: UserWarning: The epoch parameter in `scheduler.step()` was not necessary and is being deprecated where possible. Please use `scheduler.step()` to step the scheduler. During the deprecation, if epoch is different from None, the closed form is used instead of the new chainable form, where available. Please open an issue if you are unable to replicate your use case: https://github.com/pytorch/pytorch/issues/new/choose.\n",
      "  warnings.warn(EPOCH_DEPRECATION_WARNING, UserWarning)\n",
      "loss: 4.6056, accuracy: 0.0000: 100%|████████████████████████████████████████████████| 475/475 [00:30<00:00, 15.49it/s]\n",
      "loss: 4.6083, accuracy: 0.0100: 100%|██████████████████████████████████████████████████| 25/25 [00:07<00:00,  3.31it/s]\n",
      "E:\\notebook\\mlpractical\\mlpractical-mlp2021-22-coursework2\\pytorch_mlp_framework\\experiment_builder.py:134: UserWarning: Attempting to set identical left == right == 0 results in singular transformations; automatically expanding.\n",
      "  plt.xlim(xmin=0, xmax=len(all_grads))\n"
     ]
    },
    {
     "name": "stdout",
     "output_type": "stream",
     "text": [
      "Epoch 90: train_acc_0.0099_train_loss_4.6051_val_acc_0.0064_val_loss_4.6069 epoch time 38.2222 seconds\n",
      "Generating Gradient Flow Plot at epoch 90\n"
     ]
    },
    {
     "name": "stderr",
     "output_type": "stream",
     "text": [
      "  0%|                                                                                          | 0/475 [00:00<?, ?it/s]c:\\users\\neko_maru~\\appdata\\local\\programs\\python\\python37\\lib\\site-packages\\torch\\optim\\lr_scheduler.py:154: UserWarning: The epoch parameter in `scheduler.step()` was not necessary and is being deprecated where possible. Please use `scheduler.step()` to step the scheduler. During the deprecation, if epoch is different from None, the closed form is used instead of the new chainable form, where available. Please open an issue if you are unable to replicate your use case: https://github.com/pytorch/pytorch/issues/new/choose.\n",
      "  warnings.warn(EPOCH_DEPRECATION_WARNING, UserWarning)\n",
      "loss: 4.6044, accuracy: 0.0100: 100%|████████████████████████████████████████████████| 475/475 [00:28<00:00, 16.73it/s]\n",
      "loss: 4.6086, accuracy: 0.0100: 100%|██████████████████████████████████████████████████| 25/25 [00:07<00:00,  3.40it/s]\n",
      "E:\\notebook\\mlpractical\\mlpractical-mlp2021-22-coursework2\\pytorch_mlp_framework\\experiment_builder.py:134: UserWarning: Attempting to set identical left == right == 0 results in singular transformations; automatically expanding.\n",
      "  plt.xlim(xmin=0, xmax=len(all_grads))\n"
     ]
    },
    {
     "name": "stdout",
     "output_type": "stream",
     "text": [
      "Epoch 91: train_acc_0.0100_train_loss_4.6051_val_acc_0.0064_val_loss_4.6069 epoch time 35.7596 seconds\n",
      "Generating Gradient Flow Plot at epoch 91\n"
     ]
    },
    {
     "name": "stderr",
     "output_type": "stream",
     "text": [
      "  0%|                                                                                          | 0/475 [00:00<?, ?it/s]c:\\users\\neko_maru~\\appdata\\local\\programs\\python\\python37\\lib\\site-packages\\torch\\optim\\lr_scheduler.py:154: UserWarning: The epoch parameter in `scheduler.step()` was not necessary and is being deprecated where possible. Please use `scheduler.step()` to step the scheduler. During the deprecation, if epoch is different from None, the closed form is used instead of the new chainable form, where available. Please open an issue if you are unable to replicate your use case: https://github.com/pytorch/pytorch/issues/new/choose.\n",
      "  warnings.warn(EPOCH_DEPRECATION_WARNING, UserWarning)\n",
      "loss: 4.6061, accuracy: 0.0100: 100%|████████████████████████████████████████████████| 475/475 [00:28<00:00, 16.41it/s]\n",
      "loss: 4.6064, accuracy: 0.0100: 100%|██████████████████████████████████████████████████| 25/25 [00:07<00:00,  3.33it/s]\n",
      "E:\\notebook\\mlpractical\\mlpractical-mlp2021-22-coursework2\\pytorch_mlp_framework\\experiment_builder.py:134: UserWarning: Attempting to set identical left == right == 0 results in singular transformations; automatically expanding.\n",
      "  plt.xlim(xmin=0, xmax=len(all_grads))\n"
     ]
    },
    {
     "name": "stdout",
     "output_type": "stream",
     "text": [
      "Epoch 92: train_acc_0.0099_train_loss_4.6051_val_acc_0.0064_val_loss_4.6069 epoch time 36.4515 seconds\n",
      "Generating Gradient Flow Plot at epoch 92\n"
     ]
    },
    {
     "name": "stderr",
     "output_type": "stream",
     "text": [
      "  0%|                                                                                          | 0/475 [00:00<?, ?it/s]c:\\users\\neko_maru~\\appdata\\local\\programs\\python\\python37\\lib\\site-packages\\torch\\optim\\lr_scheduler.py:154: UserWarning: The epoch parameter in `scheduler.step()` was not necessary and is being deprecated where possible. Please use `scheduler.step()` to step the scheduler. During the deprecation, if epoch is different from None, the closed form is used instead of the new chainable form, where available. Please open an issue if you are unable to replicate your use case: https://github.com/pytorch/pytorch/issues/new/choose.\n",
      "  warnings.warn(EPOCH_DEPRECATION_WARNING, UserWarning)\n",
      "loss: 4.6062, accuracy: 0.0000: 100%|████████████████████████████████████████████████| 475/475 [00:28<00:00, 16.41it/s]\n",
      "loss: 4.6068, accuracy: 0.0000: 100%|██████████████████████████████████████████████████| 25/25 [00:08<00:00,  3.06it/s]\n",
      "E:\\notebook\\mlpractical\\mlpractical-mlp2021-22-coursework2\\pytorch_mlp_framework\\experiment_builder.py:134: UserWarning: Attempting to set identical left == right == 0 results in singular transformations; automatically expanding.\n",
      "  plt.xlim(xmin=0, xmax=len(all_grads))\n"
     ]
    },
    {
     "name": "stdout",
     "output_type": "stream",
     "text": [
      "Epoch 93: train_acc_0.0100_train_loss_4.6051_val_acc_0.0064_val_loss_4.6069 epoch time 37.1098 seconds\n",
      "Generating Gradient Flow Plot at epoch 93\n"
     ]
    },
    {
     "name": "stderr",
     "output_type": "stream",
     "text": [
      "  0%|                                                                                          | 0/475 [00:00<?, ?it/s]c:\\users\\neko_maru~\\appdata\\local\\programs\\python\\python37\\lib\\site-packages\\torch\\optim\\lr_scheduler.py:154: UserWarning: The epoch parameter in `scheduler.step()` was not necessary and is being deprecated where possible. Please use `scheduler.step()` to step the scheduler. During the deprecation, if epoch is different from None, the closed form is used instead of the new chainable form, where available. Please open an issue if you are unable to replicate your use case: https://github.com/pytorch/pytorch/issues/new/choose.\n",
      "  warnings.warn(EPOCH_DEPRECATION_WARNING, UserWarning)\n",
      "loss: 4.6030, accuracy: 0.0100: 100%|████████████████████████████████████████████████| 475/475 [00:31<00:00, 15.30it/s]\n",
      "loss: 4.6054, accuracy: 0.0300: 100%|██████████████████████████████████████████████████| 25/25 [00:07<00:00,  3.27it/s]\n",
      "E:\\notebook\\mlpractical\\mlpractical-mlp2021-22-coursework2\\pytorch_mlp_framework\\experiment_builder.py:134: UserWarning: Attempting to set identical left == right == 0 results in singular transformations; automatically expanding.\n",
      "  plt.xlim(xmin=0, xmax=len(all_grads))\n"
     ]
    },
    {
     "name": "stdout",
     "output_type": "stream",
     "text": [
      "Epoch 94: train_acc_0.0097_train_loss_4.6051_val_acc_0.0064_val_loss_4.6069 epoch time 38.6999 seconds\n",
      "Generating Gradient Flow Plot at epoch 94\n"
     ]
    },
    {
     "name": "stderr",
     "output_type": "stream",
     "text": [
      "  0%|                                                                                          | 0/475 [00:00<?, ?it/s]c:\\users\\neko_maru~\\appdata\\local\\programs\\python\\python37\\lib\\site-packages\\torch\\optim\\lr_scheduler.py:154: UserWarning: The epoch parameter in `scheduler.step()` was not necessary and is being deprecated where possible. Please use `scheduler.step()` to step the scheduler. During the deprecation, if epoch is different from None, the closed form is used instead of the new chainable form, where available. Please open an issue if you are unable to replicate your use case: https://github.com/pytorch/pytorch/issues/new/choose.\n",
      "  warnings.warn(EPOCH_DEPRECATION_WARNING, UserWarning)\n",
      "loss: 4.6062, accuracy: 0.0000: 100%|████████████████████████████████████████████████| 475/475 [00:29<00:00, 15.91it/s]\n",
      "loss: 4.6073, accuracy: 0.0000: 100%|██████████████████████████████████████████████████| 25/25 [00:07<00:00,  3.16it/s]\n",
      "E:\\notebook\\mlpractical\\mlpractical-mlp2021-22-coursework2\\pytorch_mlp_framework\\experiment_builder.py:134: UserWarning: Attempting to set identical left == right == 0 results in singular transformations; automatically expanding.\n",
      "  plt.xlim(xmin=0, xmax=len(all_grads))\n"
     ]
    },
    {
     "name": "stdout",
     "output_type": "stream",
     "text": [
      "Epoch 95: train_acc_0.0100_train_loss_4.6051_val_acc_0.0064_val_loss_4.6069 epoch time 37.7839 seconds\n",
      "Generating Gradient Flow Plot at epoch 95\n"
     ]
    },
    {
     "name": "stderr",
     "output_type": "stream",
     "text": [
      "  0%|                                                                                          | 0/475 [00:00<?, ?it/s]c:\\users\\neko_maru~\\appdata\\local\\programs\\python\\python37\\lib\\site-packages\\torch\\optim\\lr_scheduler.py:154: UserWarning: The epoch parameter in `scheduler.step()` was not necessary and is being deprecated where possible. Please use `scheduler.step()` to step the scheduler. During the deprecation, if epoch is different from None, the closed form is used instead of the new chainable form, where available. Please open an issue if you are unable to replicate your use case: https://github.com/pytorch/pytorch/issues/new/choose.\n",
      "  warnings.warn(EPOCH_DEPRECATION_WARNING, UserWarning)\n",
      "loss: 4.6047, accuracy: 0.0100: 100%|████████████████████████████████████████████████| 475/475 [00:29<00:00, 16.00it/s]\n",
      "loss: 4.6067, accuracy: 0.0100: 100%|██████████████████████████████████████████████████| 25/25 [00:08<00:00,  2.88it/s]\n",
      "E:\\notebook\\mlpractical\\mlpractical-mlp2021-22-coursework2\\pytorch_mlp_framework\\experiment_builder.py:134: UserWarning: Attempting to set identical left == right == 0 results in singular transformations; automatically expanding.\n",
      "  plt.xlim(xmin=0, xmax=len(all_grads))\n"
     ]
    },
    {
     "name": "stdout",
     "output_type": "stream",
     "text": [
      "Epoch 96: train_acc_0.0102_train_loss_4.6051_val_acc_0.0064_val_loss_4.6069 epoch time 38.4084 seconds\n",
      "Generating Gradient Flow Plot at epoch 96\n"
     ]
    },
    {
     "name": "stderr",
     "output_type": "stream",
     "text": [
      "  0%|                                                                                          | 0/475 [00:00<?, ?it/s]c:\\users\\neko_maru~\\appdata\\local\\programs\\python\\python37\\lib\\site-packages\\torch\\optim\\lr_scheduler.py:154: UserWarning: The epoch parameter in `scheduler.step()` was not necessary and is being deprecated where possible. Please use `scheduler.step()` to step the scheduler. During the deprecation, if epoch is different from None, the closed form is used instead of the new chainable form, where available. Please open an issue if you are unable to replicate your use case: https://github.com/pytorch/pytorch/issues/new/choose.\n",
      "  warnings.warn(EPOCH_DEPRECATION_WARNING, UserWarning)\n",
      "loss: 4.6056, accuracy: 0.0000: 100%|████████████████████████████████████████████████| 475/475 [00:32<00:00, 14.52it/s]\n",
      "loss: 4.6055, accuracy: 0.0000: 100%|██████████████████████████████████████████████████| 25/25 [00:11<00:00,  2.11it/s]\n",
      "E:\\notebook\\mlpractical\\mlpractical-mlp2021-22-coursework2\\pytorch_mlp_framework\\experiment_builder.py:134: UserWarning: Attempting to set identical left == right == 0 results in singular transformations; automatically expanding.\n",
      "  plt.xlim(xmin=0, xmax=len(all_grads))\n"
     ]
    },
    {
     "name": "stdout",
     "output_type": "stream",
     "text": [
      "Epoch 97: train_acc_0.0102_train_loss_4.6051_val_acc_0.0064_val_loss_4.6069 epoch time 44.5689 seconds\n",
      "Generating Gradient Flow Plot at epoch 97\n"
     ]
    },
    {
     "name": "stderr",
     "output_type": "stream",
     "text": [
      "  0%|                                                                                          | 0/475 [00:00<?, ?it/s]c:\\users\\neko_maru~\\appdata\\local\\programs\\python\\python37\\lib\\site-packages\\torch\\optim\\lr_scheduler.py:154: UserWarning: The epoch parameter in `scheduler.step()` was not necessary and is being deprecated where possible. Please use `scheduler.step()` to step the scheduler. During the deprecation, if epoch is different from None, the closed form is used instead of the new chainable form, where available. Please open an issue if you are unable to replicate your use case: https://github.com/pytorch/pytorch/issues/new/choose.\n",
      "  warnings.warn(EPOCH_DEPRECATION_WARNING, UserWarning)\n",
      "loss: 4.6049, accuracy: 0.0200: 100%|████████████████████████████████████████████████| 475/475 [00:28<00:00, 16.47it/s]\n",
      "loss: 4.6078, accuracy: 0.0000: 100%|██████████████████████████████████████████████████| 25/25 [00:07<00:00,  3.47it/s]\n",
      "E:\\notebook\\mlpractical\\mlpractical-mlp2021-22-coursework2\\pytorch_mlp_framework\\experiment_builder.py:134: UserWarning: Attempting to set identical left == right == 0 results in singular transformations; automatically expanding.\n",
      "  plt.xlim(xmin=0, xmax=len(all_grads))\n"
     ]
    },
    {
     "name": "stdout",
     "output_type": "stream",
     "text": [
      "Epoch 98: train_acc_0.0100_train_loss_4.6051_val_acc_0.0064_val_loss_4.6069 epoch time 36.0580 seconds\n",
      "Generating Gradient Flow Plot at epoch 98\n"
     ]
    },
    {
     "name": "stderr",
     "output_type": "stream",
     "text": [
      "  0%|                                                                                          | 0/475 [00:00<?, ?it/s]c:\\users\\neko_maru~\\appdata\\local\\programs\\python\\python37\\lib\\site-packages\\torch\\optim\\lr_scheduler.py:154: UserWarning: The epoch parameter in `scheduler.step()` was not necessary and is being deprecated where possible. Please use `scheduler.step()` to step the scheduler. During the deprecation, if epoch is different from None, the closed form is used instead of the new chainable form, where available. Please open an issue if you are unable to replicate your use case: https://github.com/pytorch/pytorch/issues/new/choose.\n",
      "  warnings.warn(EPOCH_DEPRECATION_WARNING, UserWarning)\n",
      "loss: 4.6044, accuracy: 0.0000: 100%|████████████████████████████████████████████████| 475/475 [00:28<00:00, 16.53it/s]\n",
      "loss: 4.6073, accuracy: 0.0200: 100%|██████████████████████████████████████████████████| 25/25 [00:07<00:00,  3.44it/s]\n",
      "E:\\notebook\\mlpractical\\mlpractical-mlp2021-22-coursework2\\pytorch_mlp_framework\\experiment_builder.py:134: UserWarning: Attempting to set identical left == right == 0 results in singular transformations; automatically expanding.\n",
      "  plt.xlim(xmin=0, xmax=len(all_grads))\n"
     ]
    },
    {
     "name": "stdout",
     "output_type": "stream",
     "text": [
      "Epoch 99: train_acc_0.0100_train_loss_4.6051_val_acc_0.0064_val_loss_4.6069 epoch time 36.0131 seconds\n",
      "Generating Gradient Flow Plot at epoch 99\n",
      "Generating test set evaluation metrics\n"
     ]
    },
    {
     "name": "stderr",
     "output_type": "stream",
     "text": [
      "loss: 4.6030, accuracy: 0.0100: 100%|████████████████████████████████████████████████| 100/100 [00:08<00:00, 11.46it/s]\n"
     ]
    },
    {
     "data": {
      "image/png": "[encoded data removed]",
      "text/plain": [
       "<Figure size 432x288 with 1 Axes>"
      ]
     },
     "metadata": {
      "needs_background": "light"
     },
     "output_type": "display_data"
    }
   ],
   "source": [
    "%run pytorch_mlp_framework/train_evaluate_image_classification_system.py --batch_size 100 --seed 0 --num_filters 32 --num_stages 3 --num_blocks_per_stage 5 --experiment_name VGG_38_experiment --use_gpu True --num_classes 100 --block_type conv_block --continue_from_epoch -1\n"
   ]
  },
  {
   "cell_type": "code",
   "execution_count": null,
   "id": "d076febe",
   "metadata": {},
   "outputs": [],
   "source": []
  },
  {
   "cell_type": "code",
   "execution_count": null,
   "id": "6d461984",
   "metadata": {},
   "outputs": [],
   "source": []
  }
 ],
 "metadata": {
  "kernelspec": {
   "display_name": "Python 3 (ipykernel)",
   "language": "python",
   "name": "python3"
  },
  "language_info": {
   "codemirror_mode": {
    "name": "ipython",
    "version": 3
   },
   "file_extension": ".py",
   "mimetype": "text/x-python",
   "name": "python",
   "nbconvert_exporter": "python",
   "pygments_lexer": "ipython3",
   "version": "3.7.3"
  }
 },
 "nbformat": 4,
 "nbformat_minor": 5
}
