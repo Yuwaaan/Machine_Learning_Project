{
 "cells": [
  {
   "cell_type": "code",
   "execution_count": 2,
   "id": "2c954ff0",
   "metadata": {},
   "outputs": [
    {
     "data": {
      "text/plain": [
       "(1, 2)"
      ]
     },
     "execution_count": 2,
     "metadata": {},
     "output_type": "execute_result"
    }
   ],
   "source": [
    "import numpy as np\n",
    "b = np.array([[1, 2],\n",
    "              [3, 4],\n",
    "              [5, 6]])\n",
    "a_shape = (1,) + b.shape[1:]\n",
    "a_shape"
   ]
  },
  {
   "cell_type": "code",
   "execution_count": 5,
   "id": "39b8e168",
   "metadata": {},
   "outputs": [
    {
     "data": {
      "text/plain": [
       "(2,)"
      ]
     },
     "execution_count": 5,
     "metadata": {},
     "output_type": "execute_result"
    }
   ],
   "source": [
    "b.shape[1:]"
   ]
  },
  {
   "cell_type": "code",
   "execution_count": 10,
   "id": "ebfc7810",
   "metadata": {},
   "outputs": [
    {
     "data": {
      "text/plain": [
       "(1, 2)"
      ]
     },
     "execution_count": 10,
     "metadata": {},
     "output_type": "execute_result"
    }
   ],
   "source": [
    "a_shape = (1,) + b.shape[1:]\n",
    "a_shape"
   ]
  },
  {
   "cell_type": "code",
   "execution_count": 12,
   "id": "d79de7bf",
   "metadata": {},
   "outputs": [
    {
     "data": {
      "text/plain": [
       "(1, 2)"
      ]
     },
     "execution_count": 12,
     "metadata": {},
     "output_type": "execute_result"
    }
   ],
   "source": [
    "a_shape = (1, b.shape[1])\n",
    "a_shape"
   ]
  },
  {
   "cell_type": "code",
   "execution_count": 6,
   "id": "3feeca39",
   "metadata": {},
   "outputs": [
    {
     "data": {
      "text/plain": [
       "array([[[1, 2, 3],\n",
       "        [4, 5, 6]],\n",
       "\n",
       "       [[1, 2, 3],\n",
       "        [7, 8, 9]],\n",
       "\n",
       "       [[4, 5, 6],\n",
       "        [7, 8, 9]],\n",
       "\n",
       "       [[1, 2, 3],\n",
       "        [1, 2, 3]]])"
      ]
     },
     "execution_count": 6,
     "metadata": {},
     "output_type": "execute_result"
    }
   ],
   "source": [
    "a = [1, 2, 3] ; b = [4, 5, 6]; c = [7, 8, 9]\n",
    "w3 = np.array( [ [a,b], [a,c], [b,c], [a,a] ] )\n",
    "w3"
   ]
  },
  {
   "cell_type": "code",
   "execution_count": 7,
   "id": "957eaf7c",
   "metadata": {},
   "outputs": [
    {
     "data": {
      "text/plain": [
       "(4, 2, 3)"
      ]
     },
     "execution_count": 7,
     "metadata": {},
     "output_type": "execute_result"
    }
   ],
   "source": [
    "w3.shape"
   ]
  },
  {
   "cell_type": "code",
   "execution_count": 9,
   "id": "cc0bd480",
   "metadata": {},
   "outputs": [
    {
     "data": {
      "text/plain": [
       "(1, 2, 3)"
      ]
     },
     "execution_count": 9,
     "metadata": {},
     "output_type": "execute_result"
    }
   ],
   "source": [
    "w_shape = (1,) + w3.shape[1:]\n",
    "w_shape"
   ]
  },
  {
   "cell_type": "code",
   "execution_count": 16,
   "id": "b3d71744",
   "metadata": {},
   "outputs": [
    {
     "data": {
      "text/plain": [
       "array([[0.03971497, 0.12485963]])"
      ]
     },
     "execution_count": 16,
     "metadata": {},
     "output_type": "execute_result"
    }
   ],
   "source": [
    "seed = 2153223\n",
    "rng = np.random.RandomState(seed)\n",
    "rng.uniform(size=a_shape)"
   ]
  },
  {
   "cell_type": "code",
   "execution_count": 1,
   "id": "8cf92505",
   "metadata": {},
   "outputs": [
    {
     "ename": "NameError",
     "evalue": "name '__call__和__init__' is not defined",
     "output_type": "error",
     "traceback": [
      "\u001b[1;31m---------------------------------------------------------------------------\u001b[0m",
      "\u001b[1;31mNameError\u001b[0m                                 Traceback (most recent call last)",
      "\u001b[1;32mC:\\Users\\NEKO_M~1\\AppData\\Local\\Temp/ipykernel_70468/2607753804.py\u001b[0m in \u001b[0;36m<module>\u001b[1;34m\u001b[0m\n\u001b[1;32m----> 1\u001b[1;33m \u001b[0m__call__和__init__\u001b[0m\u001b[1;33m\u001b[0m\u001b[1;33m\u001b[0m\u001b[0m\n\u001b[0m",
      "\u001b[1;31mNameError\u001b[0m: name '__call__和__init__' is not defined"
     ]
    }
   ],
   "source": [
    "__call__和__init__"
   ]
  },
  {
   "cell_type": "code",
   "execution_count": 8,
   "id": "8c61f7bd",
   "metadata": {},
   "outputs": [],
   "source": [
    "class A:\n",
    "    def __init__(self):\n",
    "         print(\"init\") \n",
    "         \n",
    "    def __call__(self):\n",
    "         print(\"call\")"
   ]
  },
  {
   "cell_type": "code",
   "execution_count": 9,
   "id": "a5f5b1ef",
   "metadata": {},
   "outputs": [
    {
     "name": "stdout",
     "output_type": "stream",
     "text": [
      "init\n"
     ]
    }
   ],
   "source": [
    "a = A()"
   ]
  },
  {
   "cell_type": "code",
   "execution_count": 10,
   "id": "99230ffd",
   "metadata": {},
   "outputs": [
    {
     "name": "stdout",
     "output_type": "stream",
     "text": [
      "call\n"
     ]
    }
   ],
   "source": [
    "a()"
   ]
  },
  {
   "cell_type": "code",
   "execution_count": null,
   "id": "c90959a2",
   "metadata": {},
   "outputs": [],
   "source": []
  },
  {
   "cell_type": "code",
   "execution_count": 132,
   "id": "ba46431c",
   "metadata": {},
   "outputs": [
    {
     "data": {
      "image/png": "[encoded data removed]",
      "text/plain": [
       "<Figure size 360x360 with 2 Axes>"
      ]
     },
     "metadata": {},
     "output_type": "display_data"
    }
   ],
   "source": [
    "import matplotlib.pyplot as plt\n",
    "from matplotlib.pyplot import MultipleLocator\n",
    "%matplotlib inline\n",
    "plt.style.use('ggplot')\n",
    "import numpy as np\n",
    "fig_1 = plt.figure(figsize=(5, 5))\n",
    "ax_1 = fig_1.add_subplot(111)\n",
    "\n",
    "# dropout parameters\n",
    "acc = [0.8239240506329109, 0.8216455696202535, 0.8196202531645568, 0.8219620253164556, 0.8263924050632913]\n",
    "error = [1.1716640241019125, 1.2180051876661404, 1.2155023700422618, 1.1728925607886296, 1.1598982269651743]\n",
    "x_grid = np.linspace(0.1, 0.9, 5)\n",
    "# x_grid = ['0.1', '0.3', '0.5', '0.7', '0.9']\n",
    "\n",
    "ax_1.set_xlim([0,1]) \n",
    "ax_1.set_xticks([0.1,0.3, 0.5, 0.7, 0.9])\n",
    "ax_1.set_xlabel('Dropout value')\n",
    "ax_1.set_ylim([0,1]) \n",
    "ax_2=ax_1.twinx()\n",
    "ax_2.set_ylim([0.6, 1.6])\n",
    "ax_1.set_ylabel('Accuracy')\n",
    "ax_2.set_ylabel('Generalization Gap')\n",
    "lns1 = ax_1.plot(x_grid, acc, label='Val.Acc.', color='tomato')\n",
    "lns2 = ax_2.plot(x_grid, error, label='Gap',color='cornflowerblue')\n",
    "\n",
    "# 图例控制\n",
    "lns = lns1 + lns2\n",
    "labs = [l.get_label() for l in lns]\n",
    "ax_1.legend(lns, labs, loc=0, fontsize=10)\n",
    "plt.show()"
   ]
  },
  {
   "cell_type": "code",
   "execution_count": 134,
   "id": "92cc7bed",
   "metadata": {},
   "outputs": [
    {
     "data": {
      "text/plain": [
       "True"
      ]
     },
     "execution_count": 134,
     "metadata": {},
     "output_type": "execute_result"
    }
   ],
   "source": [
    "prob = 0.5\n",
    "you = (0.3 < prob)\n",
    "you"
   ]
  },
  {
   "cell_type": "code",
   "execution_count": 96,
   "id": "d59e8942",
   "metadata": {},
   "outputs": [
    {
     "name": "stdout",
     "output_type": "stream",
     "text": [
      "['Val.Acc.']\n"
     ]
    }
   ],
   "source": [
    "\n"
   ]
  },
  {
   "cell_type": "code",
   "execution_count": 1,
   "id": "07ea2d23",
   "metadata": {},
   "outputs": [],
   "source": [
    "A = [1, 2, 3, 4, 5]\n",
    "B = [1, 0, 1, 0, 1]"
   ]
  },
  {
   "cell_type": "code",
   "execution_count": 19,
   "id": "233fd52b",
   "metadata": {},
   "outputs": [
    {
     "data": {
      "text/plain": [
       "[0, 2, 2, 4, 4]"
      ]
     },
     "execution_count": 19,
     "metadata": {},
     "output_type": "execute_result"
    }
   ],
   "source": [
    "C = []\n",
    "for i in range(5):\n",
    "    C.append(A[i] - B[i])\n",
    "C"
   ]
  },
  {
   "cell_type": "code",
   "execution_count": null,
   "id": "26b133c3",
   "metadata": {},
   "outputs": [],
   "source": []
  }
 ],
 "metadata": {
  "kernelspec": {
   "display_name": "Python 3 (ipykernel)",
   "language": "python",
   "name": "python3"
  },
  "language_info": {
   "codemirror_mode": {
    "name": "ipython",
    "version": 3
   },
   "file_extension": ".py",
   "mimetype": "text/x-python",
   "name": "python",
   "nbconvert_exporter": "python",
   "pygments_lexer": "ipython3",
   "version": "3.7.3"
  }
 },
 "nbformat": 4,
 "nbformat_minor": 5
}
